{
 "cells": [
  {
   "cell_type": "markdown",
   "id": "fff8e849",
   "metadata": {},
   "source": [
    "##  Predicting House Price based on the loan charactersitics"
   ]
  },
  {
   "cell_type": "code",
   "execution_count": 1,
   "id": "34d2c483",
   "metadata": {},
   "outputs": [],
   "source": [
    "#importing basic packages for data understanding and numerical package for math operations\n",
    "import pandas as pd\n",
    "import numpy as np\n",
    "\n",
    "                                    \n",
    "import matplotlib.pyplot as plt     ##importing required packages for visulization and plotting \n",
    "%matplotlib inline \n",
    "                \n",
    "import datetime as dt              #package required for DATE/TIME\n",
    "\n",
    "import seaborn as sns            #set seabor graphs to a better style\n",
    "sns.set(style=\"ticks\")\n",
    "sns.set_style(\"darkgrid\")\n",
    "\n",
    "import pandas_profiling as pf            #importing package for data auditing\n",
    "\n",
    "from statsmodels.stats.outliers_influence import variance_inflation_factor\n",
    "import statsmodels.formula.api as smf\n",
    "\n",
    "import scipy.stats as stats  #scientific python\n",
    "\n",
    "from sklearn import datasets  \n",
    "from sklearn.model_selection import train_test_split\n",
    "from sklearn.linear_model import LinearRegression\n",
    "\n",
    "pd.pandas.set_option('display.max_columns',None)             #it will show all the columns\n",
    "#pd.pandas.set_option('display.max_rows',None)               #it will show all the rows\n",
    "import os # os.chdir(path link)                              #importing package to execute operating system functions\n",
    "import re\n",
    "\n",
    "import math\n",
    "\n",
    "# Supress Warnings\\\n",
    "import warnings\n",
    "warnings.filterwarnings('ignore')"
   ]
  },
  {
   "cell_type": "code",
   "execution_count": 2,
   "id": "54020d7e",
   "metadata": {},
   "outputs": [],
   "source": [
    "# Supress Warnings\n",
    "\n",
    "import warnings\n",
    "warnings.filterwarnings('ignore')"
   ]
  },
  {
   "cell_type": "code",
   "execution_count": 3,
   "id": "b5deb083",
   "metadata": {},
   "outputs": [
    {
     "data": {
      "text/html": [
       "<div>\n",
       "<style scoped>\n",
       "    .dataframe tbody tr th:only-of-type {\n",
       "        vertical-align: middle;\n",
       "    }\n",
       "\n",
       "    .dataframe tbody tr th {\n",
       "        vertical-align: top;\n",
       "    }\n",
       "\n",
       "    .dataframe thead th {\n",
       "        text-align: right;\n",
       "    }\n",
       "</style>\n",
       "<table border=\"1\" class=\"dataframe\">\n",
       "  <thead>\n",
       "    <tr style=\"text-align: right;\">\n",
       "      <th></th>\n",
       "      <th>Home</th>\n",
       "      <th>Price</th>\n",
       "      <th>SqFt</th>\n",
       "      <th>Bedrooms</th>\n",
       "      <th>Bathrooms</th>\n",
       "      <th>Offers</th>\n",
       "      <th>Brick</th>\n",
       "      <th>Neighborhood</th>\n",
       "    </tr>\n",
       "  </thead>\n",
       "  <tbody>\n",
       "    <tr>\n",
       "      <th>0</th>\n",
       "      <td>1</td>\n",
       "      <td>114300</td>\n",
       "      <td>1790</td>\n",
       "      <td>2</td>\n",
       "      <td>2</td>\n",
       "      <td>2</td>\n",
       "      <td>No</td>\n",
       "      <td>East</td>\n",
       "    </tr>\n",
       "    <tr>\n",
       "      <th>1</th>\n",
       "      <td>2</td>\n",
       "      <td>114200</td>\n",
       "      <td>2030</td>\n",
       "      <td>4</td>\n",
       "      <td>2</td>\n",
       "      <td>3</td>\n",
       "      <td>No</td>\n",
       "      <td>East</td>\n",
       "    </tr>\n",
       "    <tr>\n",
       "      <th>2</th>\n",
       "      <td>3</td>\n",
       "      <td>114800</td>\n",
       "      <td>1740</td>\n",
       "      <td>3</td>\n",
       "      <td>2</td>\n",
       "      <td>1</td>\n",
       "      <td>No</td>\n",
       "      <td>East</td>\n",
       "    </tr>\n",
       "    <tr>\n",
       "      <th>3</th>\n",
       "      <td>4</td>\n",
       "      <td>94700</td>\n",
       "      <td>1980</td>\n",
       "      <td>3</td>\n",
       "      <td>2</td>\n",
       "      <td>3</td>\n",
       "      <td>No</td>\n",
       "      <td>East</td>\n",
       "    </tr>\n",
       "    <tr>\n",
       "      <th>4</th>\n",
       "      <td>5</td>\n",
       "      <td>119800</td>\n",
       "      <td>2130</td>\n",
       "      <td>3</td>\n",
       "      <td>3</td>\n",
       "      <td>3</td>\n",
       "      <td>No</td>\n",
       "      <td>East</td>\n",
       "    </tr>\n",
       "    <tr>\n",
       "      <th>...</th>\n",
       "      <td>...</td>\n",
       "      <td>...</td>\n",
       "      <td>...</td>\n",
       "      <td>...</td>\n",
       "      <td>...</td>\n",
       "      <td>...</td>\n",
       "      <td>...</td>\n",
       "      <td>...</td>\n",
       "    </tr>\n",
       "    <tr>\n",
       "      <th>123</th>\n",
       "      <td>124</td>\n",
       "      <td>119700</td>\n",
       "      <td>1900</td>\n",
       "      <td>3</td>\n",
       "      <td>3</td>\n",
       "      <td>3</td>\n",
       "      <td>Yes</td>\n",
       "      <td>East</td>\n",
       "    </tr>\n",
       "    <tr>\n",
       "      <th>124</th>\n",
       "      <td>125</td>\n",
       "      <td>147900</td>\n",
       "      <td>2160</td>\n",
       "      <td>4</td>\n",
       "      <td>3</td>\n",
       "      <td>3</td>\n",
       "      <td>Yes</td>\n",
       "      <td>East</td>\n",
       "    </tr>\n",
       "    <tr>\n",
       "      <th>125</th>\n",
       "      <td>126</td>\n",
       "      <td>113500</td>\n",
       "      <td>2070</td>\n",
       "      <td>2</td>\n",
       "      <td>2</td>\n",
       "      <td>2</td>\n",
       "      <td>No</td>\n",
       "      <td>North</td>\n",
       "    </tr>\n",
       "    <tr>\n",
       "      <th>126</th>\n",
       "      <td>127</td>\n",
       "      <td>149900</td>\n",
       "      <td>2020</td>\n",
       "      <td>3</td>\n",
       "      <td>3</td>\n",
       "      <td>1</td>\n",
       "      <td>No</td>\n",
       "      <td>West</td>\n",
       "    </tr>\n",
       "    <tr>\n",
       "      <th>127</th>\n",
       "      <td>128</td>\n",
       "      <td>124600</td>\n",
       "      <td>2250</td>\n",
       "      <td>3</td>\n",
       "      <td>3</td>\n",
       "      <td>4</td>\n",
       "      <td>No</td>\n",
       "      <td>North</td>\n",
       "    </tr>\n",
       "  </tbody>\n",
       "</table>\n",
       "<p>128 rows × 8 columns</p>\n",
       "</div>"
      ],
      "text/plain": [
       "     Home   Price  SqFt  Bedrooms  Bathrooms  Offers Brick Neighborhood\n",
       "0       1  114300  1790         2          2       2    No         East\n",
       "1       2  114200  2030         4          2       3    No         East\n",
       "2       3  114800  1740         3          2       1    No         East\n",
       "3       4   94700  1980         3          2       3    No         East\n",
       "4       5  119800  2130         3          3       3    No         East\n",
       "..    ...     ...   ...       ...        ...     ...   ...          ...\n",
       "123   124  119700  1900         3          3       3   Yes         East\n",
       "124   125  147900  2160         4          3       3   Yes         East\n",
       "125   126  113500  2070         2          2       2    No        North\n",
       "126   127  149900  2020         3          3       1    No         West\n",
       "127   128  124600  2250         3          3       4    No        North\n",
       "\n",
       "[128 rows x 8 columns]"
      ]
     },
     "execution_count": 3,
     "metadata": {},
     "output_type": "execute_result"
    }
   ],
   "source": [
    "# Reading the CSV file, and viewing some sample records\n",
    "df=pd.read_csv(r\"C:\\Users\\putta\\Desktop\\PYTHON\\REGRESSION Predicting House Prices\\House_Prices.csv\")\n",
    "df"
   ]
  },
  {
   "cell_type": "markdown",
   "id": "8c9941e6",
   "metadata": {},
   "source": [
    "#  Step 1: Model Building Steps - Pre-Modeling Stage"
   ]
  },
  {
   "cell_type": "markdown",
   "id": "01207135",
   "metadata": {},
   "source": [
    "###  Inspecting the various aspects of the dataframe"
   ]
  },
  {
   "cell_type": "code",
   "execution_count": 4,
   "id": "ea99c634",
   "metadata": {
    "scrolled": true
   },
   "outputs": [
    {
     "name": "stdout",
     "output_type": "stream",
     "text": [
      "<class 'pandas.core.frame.DataFrame'>\n",
      "RangeIndex: 128 entries, 0 to 127\n",
      "Data columns (total 8 columns):\n",
      " #   Column        Non-Null Count  Dtype \n",
      "---  ------        --------------  ----- \n",
      " 0   Home          128 non-null    int64 \n",
      " 1   Price         128 non-null    int64 \n",
      " 2   SqFt          128 non-null    int64 \n",
      " 3   Bedrooms      128 non-null    int64 \n",
      " 4   Bathrooms     128 non-null    int64 \n",
      " 5   Offers        128 non-null    int64 \n",
      " 6   Brick         128 non-null    object\n",
      " 7   Neighborhood  128 non-null    object\n",
      "dtypes: int64(6), object(2)\n",
      "memory usage: 8.1+ KB\n"
     ]
    }
   ],
   "source": [
    "df.info()"
   ]
  },
  {
   "cell_type": "markdown",
   "id": "28fd69db",
   "metadata": {},
   "source": [
    "\n",
    "\n",
    "# Understanding  the data availability"
   ]
  },
  {
   "cell_type": "code",
   "execution_count": 5,
   "id": "00864863",
   "metadata": {
    "scrolled": true
   },
   "outputs": [
    {
     "data": {
      "text/plain": [
       "Index(['Home', 'Price', 'SqFt', 'Bedrooms', 'Bathrooms', 'Offers', 'Brick',\n",
       "       'Neighborhood'],\n",
       "      dtype='object')"
      ]
     },
     "execution_count": 5,
     "metadata": {},
     "output_type": "execute_result"
    }
   ],
   "source": [
    "df.columns"
   ]
  },
  {
   "cell_type": "markdown",
   "id": "272f70b8",
   "metadata": {},
   "source": [
    "### My  Y variable is Interest_Rate"
   ]
  },
  {
   "cell_type": "markdown",
   "id": "0046ea12",
   "metadata": {},
   "source": [
    "### We are Solving this Problem by Linear Regression"
   ]
  },
  {
   "cell_type": "markdown",
   "id": "454ac62b",
   "metadata": {},
   "source": [
    " ### Auditing The Data at At File Level "
   ]
  },
  {
   "cell_type": "code",
   "execution_count": 6,
   "id": "1cf3c14a",
   "metadata": {},
   "outputs": [
    {
     "data": {
      "text/html": [
       "<div>\n",
       "<style scoped>\n",
       "    .dataframe tbody tr th:only-of-type {\n",
       "        vertical-align: middle;\n",
       "    }\n",
       "\n",
       "    .dataframe tbody tr th {\n",
       "        vertical-align: top;\n",
       "    }\n",
       "\n",
       "    .dataframe thead th {\n",
       "        text-align: right;\n",
       "    }\n",
       "</style>\n",
       "<table border=\"1\" class=\"dataframe\">\n",
       "  <thead>\n",
       "    <tr style=\"text-align: right;\">\n",
       "      <th></th>\n",
       "      <th>Home</th>\n",
       "      <th>Price</th>\n",
       "      <th>SqFt</th>\n",
       "      <th>Bedrooms</th>\n",
       "      <th>Bathrooms</th>\n",
       "      <th>Offers</th>\n",
       "      <th>Brick</th>\n",
       "      <th>Neighborhood</th>\n",
       "    </tr>\n",
       "  </thead>\n",
       "  <tbody>\n",
       "    <tr>\n",
       "      <th>0</th>\n",
       "      <td>1</td>\n",
       "      <td>114300</td>\n",
       "      <td>1790</td>\n",
       "      <td>2</td>\n",
       "      <td>2</td>\n",
       "      <td>2</td>\n",
       "      <td>No</td>\n",
       "      <td>East</td>\n",
       "    </tr>\n",
       "    <tr>\n",
       "      <th>1</th>\n",
       "      <td>2</td>\n",
       "      <td>114200</td>\n",
       "      <td>2030</td>\n",
       "      <td>4</td>\n",
       "      <td>2</td>\n",
       "      <td>3</td>\n",
       "      <td>No</td>\n",
       "      <td>East</td>\n",
       "    </tr>\n",
       "  </tbody>\n",
       "</table>\n",
       "</div>"
      ],
      "text/plain": [
       "   Home   Price  SqFt  Bedrooms  Bathrooms  Offers Brick Neighborhood\n",
       "0     1  114300  1790         2          2       2    No         East\n",
       "1     2  114200  2030         4          2       3    No         East"
      ]
     },
     "execution_count": 6,
     "metadata": {},
     "output_type": "execute_result"
    }
   ],
   "source": [
    "df.head(2)"
   ]
  },
  {
   "cell_type": "code",
   "execution_count": 7,
   "id": "0015e09d",
   "metadata": {
    "scrolled": false
   },
   "outputs": [
    {
     "data": {
      "text/plain": [
       "1024"
      ]
     },
     "execution_count": 7,
     "metadata": {},
     "output_type": "execute_result"
    }
   ],
   "source": [
    "df.size"
   ]
  },
  {
   "cell_type": "code",
   "execution_count": 8,
   "id": "9549c262",
   "metadata": {},
   "outputs": [
    {
     "data": {
      "text/plain": [
       "(128, 8)"
      ]
     },
     "execution_count": 8,
     "metadata": {},
     "output_type": "execute_result"
    }
   ],
   "source": [
    "df.shape"
   ]
  },
  {
   "cell_type": "code",
   "execution_count": 9,
   "id": "aeb922a7",
   "metadata": {},
   "outputs": [],
   "source": [
    "df.columns = [val.replace('.','_') for val in df.columns]"
   ]
  },
  {
   "cell_type": "code",
   "execution_count": 10,
   "id": "63c7db70",
   "metadata": {},
   "outputs": [
    {
     "data": {
      "text/plain": [
       "Index(['Home', 'Price', 'SqFt', 'Bedrooms', 'Bathrooms', 'Offers', 'Brick',\n",
       "       'Neighborhood'],\n",
       "      dtype='object')"
      ]
     },
     "execution_count": 10,
     "metadata": {},
     "output_type": "execute_result"
    }
   ],
   "source": [
    "df.columns"
   ]
  },
  {
   "cell_type": "code",
   "execution_count": 11,
   "id": "7587d4da",
   "metadata": {},
   "outputs": [
    {
     "data": {
      "text/plain": [
       "8"
      ]
     },
     "execution_count": 11,
     "metadata": {},
     "output_type": "execute_result"
    }
   ],
   "source": [
    "df.columns.value_counts().count()"
   ]
  },
  {
   "cell_type": "code",
   "execution_count": 12,
   "id": "e87f3586",
   "metadata": {},
   "outputs": [
    {
     "data": {
      "text/plain": [
       "128"
      ]
     },
     "execution_count": 12,
     "metadata": {},
     "output_type": "execute_result"
    }
   ],
   "source": [
    "df.Home.value_counts().count()"
   ]
  },
  {
   "cell_type": "code",
   "execution_count": 13,
   "id": "4e47a56f",
   "metadata": {},
   "outputs": [
    {
     "data": {
      "text/plain": [
       "Home            0\n",
       "Price           0\n",
       "SqFt            0\n",
       "Bedrooms        0\n",
       "Bathrooms       0\n",
       "Offers          0\n",
       "Brick           0\n",
       "Neighborhood    0\n",
       "dtype: int64"
      ]
     },
     "execution_count": 13,
     "metadata": {},
     "output_type": "execute_result"
    }
   ],
   "source": [
    "df.isna().sum()"
   ]
  },
  {
   "cell_type": "code",
   "execution_count": 14,
   "id": "a744461f",
   "metadata": {},
   "outputs": [
    {
     "data": {
      "image/png": "[encoded data removed]",
      "text/plain": [
       "<Figure size 1440x360 with 1 Axes>"
      ]
     },
     "metadata": {},
     "output_type": "display_data"
    }
   ],
   "source": [
    "plt.figure(figsize=(20,5))\n",
    "sns.heatmap(df.isnull(),yticklabels=False,cbar=False,cmap='viridis')\n",
    "plt.show()"
   ]
  },
  {
   "cell_type": "markdown",
   "id": "6aa1c2ab",
   "metadata": {},
   "source": [
    "### Handlign missing values (Imputation of Missing values)"
   ]
  },
  {
   "cell_type": "code",
   "execution_count": 15,
   "id": "afb6cf88",
   "metadata": {},
   "outputs": [],
   "source": [
    "def miss_values(x):\n",
    "    if x.dtype=='O':\n",
    "        x=x.fillna(x.mode()[0])\n",
    "        return x\n",
    "    else:\n",
    "        x=x.fillna(x.median())\n",
    "        return x"
   ]
  },
  {
   "cell_type": "code",
   "execution_count": 16,
   "id": "2046ad0f",
   "metadata": {},
   "outputs": [],
   "source": [
    "df= df.apply(miss_values)"
   ]
  },
  {
   "cell_type": "code",
   "execution_count": 17,
   "id": "d99a767a",
   "metadata": {},
   "outputs": [
    {
     "data": {
      "text/plain": [
       "Home            0\n",
       "Price           0\n",
       "SqFt            0\n",
       "Bedrooms        0\n",
       "Bathrooms       0\n",
       "Offers          0\n",
       "Brick           0\n",
       "Neighborhood    0\n",
       "dtype: int64"
      ]
     },
     "execution_count": 17,
     "metadata": {},
     "output_type": "execute_result"
    }
   ],
   "source": [
    "df.isna().sum()"
   ]
  },
  {
   "cell_type": "code",
   "execution_count": 18,
   "id": "13b484ff",
   "metadata": {},
   "outputs": [
    {
     "name": "stdout",
     "output_type": "stream",
     "text": [
      "<class 'pandas.core.frame.DataFrame'>\n",
      "RangeIndex: 128 entries, 0 to 127\n",
      "Data columns (total 8 columns):\n",
      " #   Column        Non-Null Count  Dtype \n",
      "---  ------        --------------  ----- \n",
      " 0   Home          128 non-null    int64 \n",
      " 1   Price         128 non-null    int64 \n",
      " 2   SqFt          128 non-null    int64 \n",
      " 3   Bedrooms      128 non-null    int64 \n",
      " 4   Bathrooms     128 non-null    int64 \n",
      " 5   Offers        128 non-null    int64 \n",
      " 6   Brick         128 non-null    object\n",
      " 7   Neighborhood  128 non-null    object\n",
      "dtypes: int64(6), object(2)\n",
      "memory usage: 8.1+ KB\n"
     ]
    }
   ],
   "source": [
    "df.info()"
   ]
  },
  {
   "cell_type": "code",
   "execution_count": 19,
   "id": "c30613ea",
   "metadata": {},
   "outputs": [
    {
     "data": {
      "text/html": [
       "<div>\n",
       "<style scoped>\n",
       "    .dataframe tbody tr th:only-of-type {\n",
       "        vertical-align: middle;\n",
       "    }\n",
       "\n",
       "    .dataframe tbody tr th {\n",
       "        vertical-align: top;\n",
       "    }\n",
       "\n",
       "    .dataframe thead th {\n",
       "        text-align: right;\n",
       "    }\n",
       "</style>\n",
       "<table border=\"1\" class=\"dataframe\">\n",
       "  <thead>\n",
       "    <tr style=\"text-align: right;\">\n",
       "      <th></th>\n",
       "      <th>Home</th>\n",
       "      <th>Price</th>\n",
       "      <th>SqFt</th>\n",
       "      <th>Bedrooms</th>\n",
       "      <th>Bathrooms</th>\n",
       "      <th>Offers</th>\n",
       "      <th>Brick</th>\n",
       "      <th>Neighborhood</th>\n",
       "    </tr>\n",
       "  </thead>\n",
       "  <tbody>\n",
       "    <tr>\n",
       "      <th>0</th>\n",
       "      <td>1</td>\n",
       "      <td>114300</td>\n",
       "      <td>1790</td>\n",
       "      <td>2</td>\n",
       "      <td>2</td>\n",
       "      <td>2</td>\n",
       "      <td>No</td>\n",
       "      <td>East</td>\n",
       "    </tr>\n",
       "    <tr>\n",
       "      <th>1</th>\n",
       "      <td>2</td>\n",
       "      <td>114200</td>\n",
       "      <td>2030</td>\n",
       "      <td>4</td>\n",
       "      <td>2</td>\n",
       "      <td>3</td>\n",
       "      <td>No</td>\n",
       "      <td>East</td>\n",
       "    </tr>\n",
       "    <tr>\n",
       "      <th>2</th>\n",
       "      <td>3</td>\n",
       "      <td>114800</td>\n",
       "      <td>1740</td>\n",
       "      <td>3</td>\n",
       "      <td>2</td>\n",
       "      <td>1</td>\n",
       "      <td>No</td>\n",
       "      <td>East</td>\n",
       "    </tr>\n",
       "    <tr>\n",
       "      <th>3</th>\n",
       "      <td>4</td>\n",
       "      <td>94700</td>\n",
       "      <td>1980</td>\n",
       "      <td>3</td>\n",
       "      <td>2</td>\n",
       "      <td>3</td>\n",
       "      <td>No</td>\n",
       "      <td>East</td>\n",
       "    </tr>\n",
       "    <tr>\n",
       "      <th>4</th>\n",
       "      <td>5</td>\n",
       "      <td>119800</td>\n",
       "      <td>2130</td>\n",
       "      <td>3</td>\n",
       "      <td>3</td>\n",
       "      <td>3</td>\n",
       "      <td>No</td>\n",
       "      <td>East</td>\n",
       "    </tr>\n",
       "  </tbody>\n",
       "</table>\n",
       "</div>"
      ],
      "text/plain": [
       "   Home   Price  SqFt  Bedrooms  Bathrooms  Offers Brick Neighborhood\n",
       "0     1  114300  1790         2          2       2    No         East\n",
       "1     2  114200  2030         4          2       3    No         East\n",
       "2     3  114800  1740         3          2       1    No         East\n",
       "3     4   94700  1980         3          2       3    No         East\n",
       "4     5  119800  2130         3          3       3    No         East"
      ]
     },
     "execution_count": 19,
     "metadata": {},
     "output_type": "execute_result"
    }
   ],
   "source": [
    "df.head(5)"
   ]
  },
  {
   "cell_type": "code",
   "execution_count": 20,
   "id": "899ad8f7",
   "metadata": {},
   "outputs": [
    {
     "data": {
      "text/plain": [
       "East     45\n",
       "North    44\n",
       "West     39\n",
       "Name: Neighborhood, dtype: int64"
      ]
     },
     "execution_count": 20,
     "metadata": {},
     "output_type": "execute_result"
    }
   ],
   "source": [
    "df.Neighborhood.value_counts()"
   ]
  },
  {
   "cell_type": "code",
   "execution_count": 21,
   "id": "af42c8e1",
   "metadata": {},
   "outputs": [
    {
     "data": {
      "text/html": [
       "<div>\n",
       "<style scoped>\n",
       "    .dataframe tbody tr th:only-of-type {\n",
       "        vertical-align: middle;\n",
       "    }\n",
       "\n",
       "    .dataframe tbody tr th {\n",
       "        vertical-align: top;\n",
       "    }\n",
       "\n",
       "    .dataframe thead th {\n",
       "        text-align: right;\n",
       "    }\n",
       "</style>\n",
       "<table border=\"1\" class=\"dataframe\">\n",
       "  <thead>\n",
       "    <tr style=\"text-align: right;\">\n",
       "      <th></th>\n",
       "      <th>Home</th>\n",
       "      <th>Price</th>\n",
       "      <th>SqFt</th>\n",
       "      <th>Bedrooms</th>\n",
       "      <th>Bathrooms</th>\n",
       "      <th>Offers</th>\n",
       "      <th>Brick</th>\n",
       "      <th>Neighborhood</th>\n",
       "    </tr>\n",
       "  </thead>\n",
       "  <tbody>\n",
       "    <tr>\n",
       "      <th>0</th>\n",
       "      <td>1</td>\n",
       "      <td>114300</td>\n",
       "      <td>1790</td>\n",
       "      <td>2</td>\n",
       "      <td>2</td>\n",
       "      <td>2</td>\n",
       "      <td>No</td>\n",
       "      <td>East</td>\n",
       "    </tr>\n",
       "    <tr>\n",
       "      <th>1</th>\n",
       "      <td>2</td>\n",
       "      <td>114200</td>\n",
       "      <td>2030</td>\n",
       "      <td>4</td>\n",
       "      <td>2</td>\n",
       "      <td>3</td>\n",
       "      <td>No</td>\n",
       "      <td>East</td>\n",
       "    </tr>\n",
       "    <tr>\n",
       "      <th>2</th>\n",
       "      <td>3</td>\n",
       "      <td>114800</td>\n",
       "      <td>1740</td>\n",
       "      <td>3</td>\n",
       "      <td>2</td>\n",
       "      <td>1</td>\n",
       "      <td>No</td>\n",
       "      <td>East</td>\n",
       "    </tr>\n",
       "    <tr>\n",
       "      <th>3</th>\n",
       "      <td>4</td>\n",
       "      <td>94700</td>\n",
       "      <td>1980</td>\n",
       "      <td>3</td>\n",
       "      <td>2</td>\n",
       "      <td>3</td>\n",
       "      <td>No</td>\n",
       "      <td>East</td>\n",
       "    </tr>\n",
       "    <tr>\n",
       "      <th>4</th>\n",
       "      <td>5</td>\n",
       "      <td>119800</td>\n",
       "      <td>2130</td>\n",
       "      <td>3</td>\n",
       "      <td>3</td>\n",
       "      <td>3</td>\n",
       "      <td>No</td>\n",
       "      <td>East</td>\n",
       "    </tr>\n",
       "    <tr>\n",
       "      <th>...</th>\n",
       "      <td>...</td>\n",
       "      <td>...</td>\n",
       "      <td>...</td>\n",
       "      <td>...</td>\n",
       "      <td>...</td>\n",
       "      <td>...</td>\n",
       "      <td>...</td>\n",
       "      <td>...</td>\n",
       "    </tr>\n",
       "    <tr>\n",
       "      <th>123</th>\n",
       "      <td>124</td>\n",
       "      <td>119700</td>\n",
       "      <td>1900</td>\n",
       "      <td>3</td>\n",
       "      <td>3</td>\n",
       "      <td>3</td>\n",
       "      <td>Yes</td>\n",
       "      <td>East</td>\n",
       "    </tr>\n",
       "    <tr>\n",
       "      <th>124</th>\n",
       "      <td>125</td>\n",
       "      <td>147900</td>\n",
       "      <td>2160</td>\n",
       "      <td>4</td>\n",
       "      <td>3</td>\n",
       "      <td>3</td>\n",
       "      <td>Yes</td>\n",
       "      <td>East</td>\n",
       "    </tr>\n",
       "    <tr>\n",
       "      <th>125</th>\n",
       "      <td>126</td>\n",
       "      <td>113500</td>\n",
       "      <td>2070</td>\n",
       "      <td>2</td>\n",
       "      <td>2</td>\n",
       "      <td>2</td>\n",
       "      <td>No</td>\n",
       "      <td>North</td>\n",
       "    </tr>\n",
       "    <tr>\n",
       "      <th>126</th>\n",
       "      <td>127</td>\n",
       "      <td>149900</td>\n",
       "      <td>2020</td>\n",
       "      <td>3</td>\n",
       "      <td>3</td>\n",
       "      <td>1</td>\n",
       "      <td>No</td>\n",
       "      <td>West</td>\n",
       "    </tr>\n",
       "    <tr>\n",
       "      <th>127</th>\n",
       "      <td>128</td>\n",
       "      <td>124600</td>\n",
       "      <td>2250</td>\n",
       "      <td>3</td>\n",
       "      <td>3</td>\n",
       "      <td>4</td>\n",
       "      <td>No</td>\n",
       "      <td>North</td>\n",
       "    </tr>\n",
       "  </tbody>\n",
       "</table>\n",
       "<p>128 rows × 8 columns</p>\n",
       "</div>"
      ],
      "text/plain": [
       "     Home   Price  SqFt  Bedrooms  Bathrooms  Offers Brick Neighborhood\n",
       "0       1  114300  1790         2          2       2    No         East\n",
       "1       2  114200  2030         4          2       3    No         East\n",
       "2       3  114800  1740         3          2       1    No         East\n",
       "3       4   94700  1980         3          2       3    No         East\n",
       "4       5  119800  2130         3          3       3    No         East\n",
       "..    ...     ...   ...       ...        ...     ...   ...          ...\n",
       "123   124  119700  1900         3          3       3   Yes         East\n",
       "124   125  147900  2160         4          3       3   Yes         East\n",
       "125   126  113500  2070         2          2       2    No        North\n",
       "126   127  149900  2020         3          3       1    No         West\n",
       "127   128  124600  2250         3          3       4    No        North\n",
       "\n",
       "[128 rows x 8 columns]"
      ]
     },
     "execution_count": 21,
     "metadata": {},
     "output_type": "execute_result"
    }
   ],
   "source": [
    "df"
   ]
  },
  {
   "cell_type": "code",
   "execution_count": 22,
   "id": "30f899a8",
   "metadata": {},
   "outputs": [
    {
     "data": {
      "text/html": [
       "<div>\n",
       "<style scoped>\n",
       "    .dataframe tbody tr th:only-of-type {\n",
       "        vertical-align: middle;\n",
       "    }\n",
       "\n",
       "    .dataframe tbody tr th {\n",
       "        vertical-align: top;\n",
       "    }\n",
       "\n",
       "    .dataframe thead th {\n",
       "        text-align: right;\n",
       "    }\n",
       "</style>\n",
       "<table border=\"1\" class=\"dataframe\">\n",
       "  <thead>\n",
       "    <tr style=\"text-align: right;\">\n",
       "      <th></th>\n",
       "      <th>Home</th>\n",
       "      <th>Price</th>\n",
       "      <th>SqFt</th>\n",
       "      <th>Bedrooms</th>\n",
       "      <th>Bathrooms</th>\n",
       "      <th>Offers</th>\n",
       "    </tr>\n",
       "  </thead>\n",
       "  <tbody>\n",
       "    <tr>\n",
       "      <th>count</th>\n",
       "      <td>128.000000</td>\n",
       "      <td>128.000000</td>\n",
       "      <td>128.000000</td>\n",
       "      <td>128.000000</td>\n",
       "      <td>128.000000</td>\n",
       "      <td>128.000000</td>\n",
       "    </tr>\n",
       "    <tr>\n",
       "      <th>mean</th>\n",
       "      <td>64.500000</td>\n",
       "      <td>130427.343750</td>\n",
       "      <td>2000.937500</td>\n",
       "      <td>3.023438</td>\n",
       "      <td>2.445312</td>\n",
       "      <td>2.578125</td>\n",
       "    </tr>\n",
       "    <tr>\n",
       "      <th>std</th>\n",
       "      <td>37.094474</td>\n",
       "      <td>26868.770371</td>\n",
       "      <td>211.572431</td>\n",
       "      <td>0.725951</td>\n",
       "      <td>0.514492</td>\n",
       "      <td>1.069324</td>\n",
       "    </tr>\n",
       "    <tr>\n",
       "      <th>min</th>\n",
       "      <td>1.000000</td>\n",
       "      <td>69100.000000</td>\n",
       "      <td>1450.000000</td>\n",
       "      <td>2.000000</td>\n",
       "      <td>2.000000</td>\n",
       "      <td>1.000000</td>\n",
       "    </tr>\n",
       "    <tr>\n",
       "      <th>25%</th>\n",
       "      <td>32.750000</td>\n",
       "      <td>111325.000000</td>\n",
       "      <td>1880.000000</td>\n",
       "      <td>3.000000</td>\n",
       "      <td>2.000000</td>\n",
       "      <td>2.000000</td>\n",
       "    </tr>\n",
       "    <tr>\n",
       "      <th>50%</th>\n",
       "      <td>64.500000</td>\n",
       "      <td>125950.000000</td>\n",
       "      <td>2000.000000</td>\n",
       "      <td>3.000000</td>\n",
       "      <td>2.000000</td>\n",
       "      <td>3.000000</td>\n",
       "    </tr>\n",
       "    <tr>\n",
       "      <th>75%</th>\n",
       "      <td>96.250000</td>\n",
       "      <td>148250.000000</td>\n",
       "      <td>2140.000000</td>\n",
       "      <td>3.000000</td>\n",
       "      <td>3.000000</td>\n",
       "      <td>3.000000</td>\n",
       "    </tr>\n",
       "    <tr>\n",
       "      <th>max</th>\n",
       "      <td>128.000000</td>\n",
       "      <td>211200.000000</td>\n",
       "      <td>2590.000000</td>\n",
       "      <td>5.000000</td>\n",
       "      <td>4.000000</td>\n",
       "      <td>6.000000</td>\n",
       "    </tr>\n",
       "  </tbody>\n",
       "</table>\n",
       "</div>"
      ],
      "text/plain": [
       "             Home          Price         SqFt    Bedrooms   Bathrooms  \\\n",
       "count  128.000000     128.000000   128.000000  128.000000  128.000000   \n",
       "mean    64.500000  130427.343750  2000.937500    3.023438    2.445312   \n",
       "std     37.094474   26868.770371   211.572431    0.725951    0.514492   \n",
       "min      1.000000   69100.000000  1450.000000    2.000000    2.000000   \n",
       "25%     32.750000  111325.000000  1880.000000    3.000000    2.000000   \n",
       "50%     64.500000  125950.000000  2000.000000    3.000000    2.000000   \n",
       "75%     96.250000  148250.000000  2140.000000    3.000000    3.000000   \n",
       "max    128.000000  211200.000000  2590.000000    5.000000    4.000000   \n",
       "\n",
       "           Offers  \n",
       "count  128.000000  \n",
       "mean     2.578125  \n",
       "std      1.069324  \n",
       "min      1.000000  \n",
       "25%      2.000000  \n",
       "50%      3.000000  \n",
       "75%      3.000000  \n",
       "max      6.000000  "
      ]
     },
     "execution_count": 22,
     "metadata": {},
     "output_type": "execute_result"
    }
   ],
   "source": [
    "df.describe()"
   ]
  },
  {
   "cell_type": "code",
   "execution_count": 23,
   "id": "581d14e0",
   "metadata": {},
   "outputs": [
    {
     "data": {
      "text/html": [
       "<div>\n",
       "<style scoped>\n",
       "    .dataframe tbody tr th:only-of-type {\n",
       "        vertical-align: middle;\n",
       "    }\n",
       "\n",
       "    .dataframe tbody tr th {\n",
       "        vertical-align: top;\n",
       "    }\n",
       "\n",
       "    .dataframe thead th {\n",
       "        text-align: right;\n",
       "    }\n",
       "</style>\n",
       "<table border=\"1\" class=\"dataframe\">\n",
       "  <thead>\n",
       "    <tr style=\"text-align: right;\">\n",
       "      <th></th>\n",
       "      <th>Brick</th>\n",
       "      <th>Neighborhood</th>\n",
       "    </tr>\n",
       "  </thead>\n",
       "  <tbody>\n",
       "    <tr>\n",
       "      <th>count</th>\n",
       "      <td>128</td>\n",
       "      <td>128</td>\n",
       "    </tr>\n",
       "    <tr>\n",
       "      <th>unique</th>\n",
       "      <td>2</td>\n",
       "      <td>3</td>\n",
       "    </tr>\n",
       "    <tr>\n",
       "      <th>top</th>\n",
       "      <td>No</td>\n",
       "      <td>East</td>\n",
       "    </tr>\n",
       "    <tr>\n",
       "      <th>freq</th>\n",
       "      <td>86</td>\n",
       "      <td>45</td>\n",
       "    </tr>\n",
       "  </tbody>\n",
       "</table>\n",
       "</div>"
      ],
      "text/plain": [
       "       Brick Neighborhood\n",
       "count    128          128\n",
       "unique     2            3\n",
       "top       No         East\n",
       "freq      86           45"
      ]
     },
     "execution_count": 23,
     "metadata": {},
     "output_type": "execute_result"
    }
   ],
   "source": [
    "df.describe(include=object)"
   ]
  },
  {
   "cell_type": "markdown",
   "id": "09365c0a",
   "metadata": {},
   "source": [
    "# Understand Distribution of data  "
   ]
  },
  {
   "cell_type": "markdown",
   "id": "94cacf91",
   "metadata": {},
   "source": [
    "### Histogram/Boxplot for continuous"
   ]
  },
  {
   "cell_type": "code",
   "execution_count": 24,
   "id": "8a8233e0",
   "metadata": {
    "scrolled": true
   },
   "outputs": [
    {
     "data": {
      "image/png": "[encoded data removed]",
      "text/plain": [
       "<Figure size 1440x360 with 1 Axes>"
      ]
     },
     "metadata": {},
     "output_type": "display_data"
    }
   ],
   "source": [
    "plt.figure(figsize=(20,5),facecolor='yellow')\n",
    "sns.set(style='white')\n",
    "sns.boxplot(data=df.select_dtypes(include=[int,float]))\n",
    "plt.xticks(rotation=90,fontsize=15,color='r')\n",
    "plt.yticks(rotation=0,fontsize=15,color='r')\n",
    "plt.show()"
   ]
  },
  {
   "cell_type": "markdown",
   "id": "2d37eb81",
   "metadata": {},
   "source": [
    "### Understand Relationships (correlations/associations) "
   ]
  },
  {
   "cell_type": "code",
   "execution_count": 25,
   "id": "53704b73",
   "metadata": {},
   "outputs": [
    {
     "data": {
      "text/plain": [
       "Index(['Bathrooms', 'Bedrooms', 'Brick', 'Home', 'Neighborhood', 'Offers',\n",
       "       'SqFt'],\n",
       "      dtype='object')"
      ]
     },
     "execution_count": 25,
     "metadata": {},
     "output_type": "execute_result"
    }
   ],
   "source": [
    "df.columns.difference(['Price'])"
   ]
  },
  {
   "cell_type": "code",
   "execution_count": 26,
   "id": "9d11b02e",
   "metadata": {},
   "outputs": [
    {
     "data": {
      "image/png": "[encoded data removed]",
      "text/plain": [
       "<Figure size 2016x288 with 7 Axes>"
      ]
     },
     "metadata": {},
     "output_type": "display_data"
    }
   ],
   "source": [
    "sns.pairplot(df, x_vars=df.columns.difference(['Price']), y_vars='Price',size=4,height=10, aspect=1, kind='scatter')\n",
    "plt.title('Scatter Plot to visualize correlation of each variable with Price',fontsize=15,color='r',fontweight='bold')\n",
    "plt.show()"
   ]
  },
  {
   "cell_type": "code",
   "execution_count": 27,
   "id": "964b7dff",
   "metadata": {},
   "outputs": [
    {
     "data": {
      "image/png": "[encoded data removed]",
      "text/plain": [
       "<Figure size 1440x720 with 2 Axes>"
      ]
     },
     "metadata": {},
     "output_type": "display_data"
    }
   ],
   "source": [
    "plt.figure(figsize=(20,10),facecolor='yellow')\n",
    "sns.set(style='white')\n",
    "sns.heatmap(df.corr(), cmap=\"YlGnBu\", annot = True)\n",
    "plt.show()"
   ]
  },
  {
   "cell_type": "code",
   "execution_count": 28,
   "id": "0ffa3bfa",
   "metadata": {},
   "outputs": [],
   "source": [
    "report_1 = pf.ProfileReport(df)"
   ]
  },
  {
   "cell_type": "code",
   "execution_count": 29,
   "id": "98e6093b",
   "metadata": {},
   "outputs": [
    {
     "data": {
      "application/vnd.jupyter.widget-view+json": {
       "model_id": "a6e16d1e2ca4419db98027ef525b645a",
       "version_major": 2,
       "version_minor": 0
      },
      "text/plain": [
       "Summarize dataset:   0%|          | 0/5 [00:00<?, ?it/s]"
      ]
     },
     "metadata": {},
     "output_type": "display_data"
    },
    {
     "data": {
      "application/vnd.jupyter.widget-view+json": {
       "model_id": "6580f6ced0664e0f8b71b3f5ba66bbac",
       "version_major": 2,
       "version_minor": 0
      },
      "text/plain": [
       "Generate report structure:   0%|          | 0/1 [00:00<?, ?it/s]"
      ]
     },
     "metadata": {},
     "output_type": "display_data"
    },
    {
     "data": {
      "application/vnd.jupyter.widget-view+json": {
       "model_id": "e25216252f484f8582c4627f112db560",
       "version_major": 2,
       "version_minor": 0
      },
      "text/plain": [
       "Render HTML:   0%|          | 0/1 [00:00<?, ?it/s]"
      ]
     },
     "metadata": {},
     "output_type": "display_data"
    },
    {
     "data": {
      "application/vnd.jupyter.widget-view+json": {
       "model_id": "96018b025a1f48ea8ce77f6c98893c97",
       "version_major": 2,
       "version_minor": 0
      },
      "text/plain": [
       "Export report to file:   0%|          | 0/1 [00:00<?, ?it/s]"
      ]
     },
     "metadata": {},
     "output_type": "display_data"
    }
   ],
   "source": [
    "report_1.to_file(\"report_1.html\")"
   ]
  },
  {
   "cell_type": "code",
   "execution_count": 30,
   "id": "c6866dd4",
   "metadata": {},
   "outputs": [],
   "source": [
    "df =df.drop(columns=['Home'],axis=1)"
   ]
  },
  {
   "cell_type": "code",
   "execution_count": 31,
   "id": "4a27e8a5",
   "metadata": {},
   "outputs": [
    {
     "name": "stdout",
     "output_type": "stream",
     "text": [
      "<class 'pandas.core.frame.DataFrame'>\n",
      "RangeIndex: 128 entries, 0 to 127\n",
      "Data columns (total 7 columns):\n",
      " #   Column        Non-Null Count  Dtype \n",
      "---  ------        --------------  ----- \n",
      " 0   Price         128 non-null    int64 \n",
      " 1   SqFt          128 non-null    int64 \n",
      " 2   Bedrooms      128 non-null    int64 \n",
      " 3   Bathrooms     128 non-null    int64 \n",
      " 4   Offers        128 non-null    int64 \n",
      " 5   Brick         128 non-null    object\n",
      " 6   Neighborhood  128 non-null    object\n",
      "dtypes: int64(5), object(2)\n",
      "memory usage: 7.1+ KB\n"
     ]
    }
   ],
   "source": [
    "df.info()"
   ]
  },
  {
   "cell_type": "markdown",
   "id": "5c98d62c",
   "metadata": {},
   "source": [
    "# Step 2: Model Building Steps - Modeling Stage"
   ]
  },
  {
   "cell_type": "markdown",
   "id": "47db2112",
   "metadata": {},
   "source": [
    "### Handling Outliers--Cross sectional data"
   ]
  },
  {
   "cell_type": "raw",
   "id": "e37c9e52",
   "metadata": {},
   "source": [
    "def outliers(x):\n",
    "    if ((x.dtype=='int')| (x.dtype=='float')):\n",
    "        Q1=x.quantile(0.25)\n",
    "        Q3=x.quantile(0.75)\n",
    "        IQR=Q3-Q1\n",
    "        x=x.clip(lower=Q1-1.5*IQR,upper=Q3+1.5*IQR)                                      \n",
    "    else :\n",
    "        x\n",
    "    return x"
   ]
  },
  {
   "cell_type": "code",
   "execution_count": 32,
   "id": "d271fa18",
   "metadata": {},
   "outputs": [],
   "source": [
    "def outliers(x):\n",
    "    if ((x.dtype=='int')| (x.dtype=='float')):\n",
    "        x=x.clip(lower=quantile(0.05),upper=quantile(0.95))                                      \n",
    "    else :\n",
    "        x\n",
    "    return x"
   ]
  },
  {
   "cell_type": "code",
   "execution_count": 33,
   "id": "db3f6803",
   "metadata": {},
   "outputs": [
    {
     "data": {
      "text/html": [
       "<div>\n",
       "<style scoped>\n",
       "    .dataframe tbody tr th:only-of-type {\n",
       "        vertical-align: middle;\n",
       "    }\n",
       "\n",
       "    .dataframe tbody tr th {\n",
       "        vertical-align: top;\n",
       "    }\n",
       "\n",
       "    .dataframe thead th {\n",
       "        text-align: right;\n",
       "    }\n",
       "</style>\n",
       "<table border=\"1\" class=\"dataframe\">\n",
       "  <thead>\n",
       "    <tr style=\"text-align: right;\">\n",
       "      <th></th>\n",
       "      <th>Price</th>\n",
       "      <th>SqFt</th>\n",
       "      <th>Bedrooms</th>\n",
       "      <th>Bathrooms</th>\n",
       "      <th>Offers</th>\n",
       "      <th>Brick</th>\n",
       "      <th>Neighborhood</th>\n",
       "    </tr>\n",
       "  </thead>\n",
       "  <tbody>\n",
       "    <tr>\n",
       "      <th>0</th>\n",
       "      <td>114300</td>\n",
       "      <td>1790</td>\n",
       "      <td>2</td>\n",
       "      <td>2</td>\n",
       "      <td>2</td>\n",
       "      <td>No</td>\n",
       "      <td>East</td>\n",
       "    </tr>\n",
       "    <tr>\n",
       "      <th>1</th>\n",
       "      <td>114200</td>\n",
       "      <td>2030</td>\n",
       "      <td>4</td>\n",
       "      <td>2</td>\n",
       "      <td>3</td>\n",
       "      <td>No</td>\n",
       "      <td>East</td>\n",
       "    </tr>\n",
       "    <tr>\n",
       "      <th>2</th>\n",
       "      <td>114800</td>\n",
       "      <td>1740</td>\n",
       "      <td>3</td>\n",
       "      <td>2</td>\n",
       "      <td>1</td>\n",
       "      <td>No</td>\n",
       "      <td>East</td>\n",
       "    </tr>\n",
       "    <tr>\n",
       "      <th>3</th>\n",
       "      <td>94700</td>\n",
       "      <td>1980</td>\n",
       "      <td>3</td>\n",
       "      <td>2</td>\n",
       "      <td>3</td>\n",
       "      <td>No</td>\n",
       "      <td>East</td>\n",
       "    </tr>\n",
       "    <tr>\n",
       "      <th>4</th>\n",
       "      <td>119800</td>\n",
       "      <td>2130</td>\n",
       "      <td>3</td>\n",
       "      <td>3</td>\n",
       "      <td>3</td>\n",
       "      <td>No</td>\n",
       "      <td>East</td>\n",
       "    </tr>\n",
       "    <tr>\n",
       "      <th>...</th>\n",
       "      <td>...</td>\n",
       "      <td>...</td>\n",
       "      <td>...</td>\n",
       "      <td>...</td>\n",
       "      <td>...</td>\n",
       "      <td>...</td>\n",
       "      <td>...</td>\n",
       "    </tr>\n",
       "    <tr>\n",
       "      <th>123</th>\n",
       "      <td>119700</td>\n",
       "      <td>1900</td>\n",
       "      <td>3</td>\n",
       "      <td>3</td>\n",
       "      <td>3</td>\n",
       "      <td>Yes</td>\n",
       "      <td>East</td>\n",
       "    </tr>\n",
       "    <tr>\n",
       "      <th>124</th>\n",
       "      <td>147900</td>\n",
       "      <td>2160</td>\n",
       "      <td>4</td>\n",
       "      <td>3</td>\n",
       "      <td>3</td>\n",
       "      <td>Yes</td>\n",
       "      <td>East</td>\n",
       "    </tr>\n",
       "    <tr>\n",
       "      <th>125</th>\n",
       "      <td>113500</td>\n",
       "      <td>2070</td>\n",
       "      <td>2</td>\n",
       "      <td>2</td>\n",
       "      <td>2</td>\n",
       "      <td>No</td>\n",
       "      <td>North</td>\n",
       "    </tr>\n",
       "    <tr>\n",
       "      <th>126</th>\n",
       "      <td>149900</td>\n",
       "      <td>2020</td>\n",
       "      <td>3</td>\n",
       "      <td>3</td>\n",
       "      <td>1</td>\n",
       "      <td>No</td>\n",
       "      <td>West</td>\n",
       "    </tr>\n",
       "    <tr>\n",
       "      <th>127</th>\n",
       "      <td>124600</td>\n",
       "      <td>2250</td>\n",
       "      <td>3</td>\n",
       "      <td>3</td>\n",
       "      <td>4</td>\n",
       "      <td>No</td>\n",
       "      <td>North</td>\n",
       "    </tr>\n",
       "  </tbody>\n",
       "</table>\n",
       "<p>128 rows × 7 columns</p>\n",
       "</div>"
      ],
      "text/plain": [
       "      Price  SqFt  Bedrooms  Bathrooms  Offers Brick Neighborhood\n",
       "0    114300  1790         2          2       2    No         East\n",
       "1    114200  2030         4          2       3    No         East\n",
       "2    114800  1740         3          2       1    No         East\n",
       "3     94700  1980         3          2       3    No         East\n",
       "4    119800  2130         3          3       3    No         East\n",
       "..      ...   ...       ...        ...     ...   ...          ...\n",
       "123  119700  1900         3          3       3   Yes         East\n",
       "124  147900  2160         4          3       3   Yes         East\n",
       "125  113500  2070         2          2       2    No        North\n",
       "126  149900  2020         3          3       1    No         West\n",
       "127  124600  2250         3          3       4    No        North\n",
       "\n",
       "[128 rows x 7 columns]"
      ]
     },
     "execution_count": 33,
     "metadata": {},
     "output_type": "execute_result"
    }
   ],
   "source": [
    "df=df.apply(outliers)\n",
    "df"
   ]
  },
  {
   "cell_type": "code",
   "execution_count": 34,
   "id": "199b87aa",
   "metadata": {},
   "outputs": [
    {
     "data": {
      "image/png": "[encoded data removed]",
      "text/plain": [
       "<Figure size 1440x360 with 1 Axes>"
      ]
     },
     "metadata": {},
     "output_type": "display_data"
    }
   ],
   "source": [
    "plt.figure(figsize=(20,5),facecolor='yellow')\n",
    "sns.set(style='white')\n",
    "sns.boxplot(data=df.select_dtypes(include=[int,float]))\n",
    "plt.xticks(rotation=90,fontsize=15,color='r')\n",
    "plt.yticks(rotation=0,fontsize=15,color='r')\n",
    "plt.show()"
   ]
  },
  {
   "cell_type": "code",
   "execution_count": 35,
   "id": "4fa940ff",
   "metadata": {},
   "outputs": [
    {
     "name": "stdout",
     "output_type": "stream",
     "text": [
      "81570.0\n",
      "69100\n",
      "196476.00000000006\n",
      "211200\n"
     ]
    }
   ],
   "source": [
    "print(df.Price.quantile(0.01))\n",
    "print(df.Price.min())\n",
    "print(df.Price.quantile(0.99))\n",
    "print(df.Price.max())"
   ]
  },
  {
   "cell_type": "code",
   "execution_count": 36,
   "id": "e766920b",
   "metadata": {},
   "outputs": [
    {
     "name": "stdout",
     "output_type": "stream",
     "text": [
      "<class 'pandas.core.frame.DataFrame'>\n",
      "RangeIndex: 128 entries, 0 to 127\n",
      "Data columns (total 7 columns):\n",
      " #   Column        Non-Null Count  Dtype \n",
      "---  ------        --------------  ----- \n",
      " 0   Price         128 non-null    int64 \n",
      " 1   SqFt          128 non-null    int64 \n",
      " 2   Bedrooms      128 non-null    int64 \n",
      " 3   Bathrooms     128 non-null    int64 \n",
      " 4   Offers        128 non-null    int64 \n",
      " 5   Brick         128 non-null    object\n",
      " 6   Neighborhood  128 non-null    object\n",
      "dtypes: int64(5), object(2)\n",
      "memory usage: 7.1+ KB\n"
     ]
    }
   ],
   "source": [
    "df.info()"
   ]
  },
  {
   "cell_type": "markdown",
   "id": "540bebfc",
   "metadata": {},
   "source": [
    "### Converting categorical variables into numercal variables--- Ordinal variables (Label encoding)"
   ]
  },
  {
   "cell_type": "code",
   "execution_count": 37,
   "id": "71d3cf67",
   "metadata": {
    "scrolled": true
   },
   "outputs": [
    {
     "name": "stdout",
     "output_type": "stream",
     "text": [
      "\n",
      "Brick\n",
      "No     86\n",
      "Yes    42\n",
      "Name: Brick, dtype: int64\n",
      "\n",
      "Neighborhood\n",
      "East     45\n",
      "North    44\n",
      "West     39\n",
      "Name: Neighborhood, dtype: int64\n"
     ]
    }
   ],
   "source": [
    "for var in df.select_dtypes(include='object').columns:\n",
    "     print(\"\\n\" + var)\n",
    "     print(df[var].value_counts())"
   ]
  },
  {
   "cell_type": "markdown",
   "id": "d0e2e0b7",
   "metadata": {},
   "source": [
    " ###  converting categorical into numerical"
   ]
  },
  {
   "cell_type": "code",
   "execution_count": 38,
   "id": "a0b82528",
   "metadata": {},
   "outputs": [],
   "source": [
    "df1= pd.get_dummies(df,columns=['Brick','Neighborhood'],drop_first=True)"
   ]
  },
  {
   "cell_type": "code",
   "execution_count": 39,
   "id": "1caa08b3",
   "metadata": {},
   "outputs": [
    {
     "name": "stdout",
     "output_type": "stream",
     "text": [
      "<class 'pandas.core.frame.DataFrame'>\n",
      "RangeIndex: 128 entries, 0 to 127\n",
      "Data columns (total 8 columns):\n",
      " #   Column              Non-Null Count  Dtype\n",
      "---  ------              --------------  -----\n",
      " 0   Price               128 non-null    int64\n",
      " 1   SqFt                128 non-null    int64\n",
      " 2   Bedrooms            128 non-null    int64\n",
      " 3   Bathrooms           128 non-null    int64\n",
      " 4   Offers              128 non-null    int64\n",
      " 5   Brick_Yes           128 non-null    uint8\n",
      " 6   Neighborhood_North  128 non-null    uint8\n",
      " 7   Neighborhood_West   128 non-null    uint8\n",
      "dtypes: int64(5), uint8(3)\n",
      "memory usage: 5.5 KB\n"
     ]
    }
   ],
   "source": [
    "df1.info()"
   ]
  },
  {
   "cell_type": "markdown",
   "id": "35fe2ba5",
   "metadata": {},
   "source": [
    "### Assumptions of the techniques--Normality/Linearity/No outliers/No Multicollinieirty/Homoscedasticity"
   ]
  },
  {
   "cell_type": "code",
   "execution_count": 40,
   "id": "3b7db286",
   "metadata": {
    "scrolled": true
   },
   "outputs": [
    {
     "data": {
      "image/png": "[encoded data removed]",
      "text/plain": [
       "<Figure size 1440x360 with 1 Axes>"
      ]
     },
     "metadata": {},
     "output_type": "display_data"
    }
   ],
   "source": [
    "\n",
    "plt.figure(figsize=(20,5),facecolor='yellow')\n",
    "sns.set(style='white') # distribution graph  and its a combination  pdf and histogram combination\n",
    "sns.distplot(df1.Price,bins=15)        \n",
    "plt.ylabel('Density',fontsize=20,color='r',fontweight='bold')\n",
    "plt.xlabel('Price',fontsize=20,color='r',fontweight='bold')# X-label\n",
    "plt.xticks(rotation=0,fontsize=20,color='blue')\n",
    "plt.yticks(rotation=0,fontsize=20,color='blue')\n",
    "plt.show()# left skewness"
   ]
  },
  {
   "cell_type": "code",
   "execution_count": 41,
   "id": "cdedbbbd",
   "metadata": {},
   "outputs": [
    {
     "data": {
      "image/png": "[encoded data removed]",
      "text/plain": [
       "<Figure size 1440x360 with 1 Axes>"
      ]
     },
     "metadata": {},
     "output_type": "display_data"
    }
   ],
   "source": [
    "plt.figure(figsize=(20,5),facecolor='yellow')\n",
    "sns.set(style='white') # distribution graph  and its a combination  pdf and histogram combination\n",
    "sns.distplot(np.log(df1.Price),bins=15)      \n",
    "plt.ylabel('Density',fontsize=20,color='r',fontweight='bold')\n",
    "plt.xlabel('log(df1.Price)',fontsize=20,color='r',fontweight='bold')# X-label\n",
    "plt.xticks(rotation=0,fontsize=20,color='blue')\n",
    "plt.yticks(rotation=0,fontsize=20,color='blue')\n",
    "plt.show()"
   ]
  },
  {
   "cell_type": "code",
   "execution_count": 42,
   "id": "9daccf22",
   "metadata": {},
   "outputs": [],
   "source": [
    "df1['lnPrice'] = np.log(df1.Price)"
   ]
  },
  {
   "cell_type": "code",
   "execution_count": 43,
   "id": "698329c4",
   "metadata": {},
   "outputs": [],
   "source": [
    "df1=df1.drop('Price',axis=1)"
   ]
  },
  {
   "cell_type": "code",
   "execution_count": 44,
   "id": "050a1667",
   "metadata": {},
   "outputs": [
    {
     "data": {
      "text/html": [
       "<div>\n",
       "<style scoped>\n",
       "    .dataframe tbody tr th:only-of-type {\n",
       "        vertical-align: middle;\n",
       "    }\n",
       "\n",
       "    .dataframe tbody tr th {\n",
       "        vertical-align: top;\n",
       "    }\n",
       "\n",
       "    .dataframe thead th {\n",
       "        text-align: right;\n",
       "    }\n",
       "</style>\n",
       "<table border=\"1\" class=\"dataframe\">\n",
       "  <thead>\n",
       "    <tr style=\"text-align: right;\">\n",
       "      <th></th>\n",
       "      <th>SqFt</th>\n",
       "      <th>Bedrooms</th>\n",
       "      <th>Bathrooms</th>\n",
       "      <th>Offers</th>\n",
       "      <th>Brick_Yes</th>\n",
       "      <th>Neighborhood_North</th>\n",
       "      <th>Neighborhood_West</th>\n",
       "      <th>lnPrice</th>\n",
       "    </tr>\n",
       "  </thead>\n",
       "  <tbody>\n",
       "    <tr>\n",
       "      <th>0</th>\n",
       "      <td>1790</td>\n",
       "      <td>2</td>\n",
       "      <td>2</td>\n",
       "      <td>2</td>\n",
       "      <td>0</td>\n",
       "      <td>0</td>\n",
       "      <td>0</td>\n",
       "      <td>11.646582</td>\n",
       "    </tr>\n",
       "    <tr>\n",
       "      <th>1</th>\n",
       "      <td>2030</td>\n",
       "      <td>4</td>\n",
       "      <td>2</td>\n",
       "      <td>3</td>\n",
       "      <td>0</td>\n",
       "      <td>0</td>\n",
       "      <td>0</td>\n",
       "      <td>11.645707</td>\n",
       "    </tr>\n",
       "    <tr>\n",
       "      <th>2</th>\n",
       "      <td>1740</td>\n",
       "      <td>3</td>\n",
       "      <td>2</td>\n",
       "      <td>1</td>\n",
       "      <td>0</td>\n",
       "      <td>0</td>\n",
       "      <td>0</td>\n",
       "      <td>11.650947</td>\n",
       "    </tr>\n",
       "    <tr>\n",
       "      <th>3</th>\n",
       "      <td>1980</td>\n",
       "      <td>3</td>\n",
       "      <td>2</td>\n",
       "      <td>3</td>\n",
       "      <td>0</td>\n",
       "      <td>0</td>\n",
       "      <td>0</td>\n",
       "      <td>11.458469</td>\n",
       "    </tr>\n",
       "    <tr>\n",
       "      <th>4</th>\n",
       "      <td>2130</td>\n",
       "      <td>3</td>\n",
       "      <td>3</td>\n",
       "      <td>3</td>\n",
       "      <td>0</td>\n",
       "      <td>0</td>\n",
       "      <td>0</td>\n",
       "      <td>11.693579</td>\n",
       "    </tr>\n",
       "    <tr>\n",
       "      <th>...</th>\n",
       "      <td>...</td>\n",
       "      <td>...</td>\n",
       "      <td>...</td>\n",
       "      <td>...</td>\n",
       "      <td>...</td>\n",
       "      <td>...</td>\n",
       "      <td>...</td>\n",
       "      <td>...</td>\n",
       "    </tr>\n",
       "    <tr>\n",
       "      <th>123</th>\n",
       "      <td>1900</td>\n",
       "      <td>3</td>\n",
       "      <td>3</td>\n",
       "      <td>3</td>\n",
       "      <td>1</td>\n",
       "      <td>0</td>\n",
       "      <td>0</td>\n",
       "      <td>11.692744</td>\n",
       "    </tr>\n",
       "    <tr>\n",
       "      <th>124</th>\n",
       "      <td>2160</td>\n",
       "      <td>4</td>\n",
       "      <td>3</td>\n",
       "      <td>3</td>\n",
       "      <td>1</td>\n",
       "      <td>0</td>\n",
       "      <td>0</td>\n",
       "      <td>11.904292</td>\n",
       "    </tr>\n",
       "    <tr>\n",
       "      <th>125</th>\n",
       "      <td>2070</td>\n",
       "      <td>2</td>\n",
       "      <td>2</td>\n",
       "      <td>2</td>\n",
       "      <td>0</td>\n",
       "      <td>1</td>\n",
       "      <td>0</td>\n",
       "      <td>11.639558</td>\n",
       "    </tr>\n",
       "    <tr>\n",
       "      <th>126</th>\n",
       "      <td>2020</td>\n",
       "      <td>3</td>\n",
       "      <td>3</td>\n",
       "      <td>1</td>\n",
       "      <td>0</td>\n",
       "      <td>0</td>\n",
       "      <td>1</td>\n",
       "      <td>11.917724</td>\n",
       "    </tr>\n",
       "    <tr>\n",
       "      <th>127</th>\n",
       "      <td>2250</td>\n",
       "      <td>3</td>\n",
       "      <td>3</td>\n",
       "      <td>4</td>\n",
       "      <td>0</td>\n",
       "      <td>1</td>\n",
       "      <td>0</td>\n",
       "      <td>11.732864</td>\n",
       "    </tr>\n",
       "  </tbody>\n",
       "</table>\n",
       "<p>128 rows × 8 columns</p>\n",
       "</div>"
      ],
      "text/plain": [
       "     SqFt  Bedrooms  Bathrooms  Offers  Brick_Yes  Neighborhood_North  \\\n",
       "0    1790         2          2       2          0                   0   \n",
       "1    2030         4          2       3          0                   0   \n",
       "2    1740         3          2       1          0                   0   \n",
       "3    1980         3          2       3          0                   0   \n",
       "4    2130         3          3       3          0                   0   \n",
       "..    ...       ...        ...     ...        ...                 ...   \n",
       "123  1900         3          3       3          1                   0   \n",
       "124  2160         4          3       3          1                   0   \n",
       "125  2070         2          2       2          0                   1   \n",
       "126  2020         3          3       1          0                   0   \n",
       "127  2250         3          3       4          0                   1   \n",
       "\n",
       "     Neighborhood_West    lnPrice  \n",
       "0                    0  11.646582  \n",
       "1                    0  11.645707  \n",
       "2                    0  11.650947  \n",
       "3                    0  11.458469  \n",
       "4                    0  11.693579  \n",
       "..                 ...        ...  \n",
       "123                  0  11.692744  \n",
       "124                  0  11.904292  \n",
       "125                  0  11.639558  \n",
       "126                  1  11.917724  \n",
       "127                  0  11.732864  \n",
       "\n",
       "[128 rows x 8 columns]"
      ]
     },
     "execution_count": 44,
     "metadata": {},
     "output_type": "execute_result"
    }
   ],
   "source": [
    "df1"
   ]
  },
  {
   "cell_type": "code",
   "execution_count": 45,
   "id": "17e0c95f",
   "metadata": {},
   "outputs": [
    {
     "name": "stdout",
     "output_type": "stream",
     "text": [
      "<class 'pandas.core.frame.DataFrame'>\n",
      "RangeIndex: 128 entries, 0 to 127\n",
      "Data columns (total 8 columns):\n",
      " #   Column              Non-Null Count  Dtype  \n",
      "---  ------              --------------  -----  \n",
      " 0   SqFt                128 non-null    int64  \n",
      " 1   Bedrooms            128 non-null    int64  \n",
      " 2   Bathrooms           128 non-null    int64  \n",
      " 3   Offers              128 non-null    int64  \n",
      " 4   Brick_Yes           128 non-null    uint8  \n",
      " 5   Neighborhood_North  128 non-null    uint8  \n",
      " 6   Neighborhood_West   128 non-null    uint8  \n",
      " 7   lnPrice             128 non-null    float64\n",
      "dtypes: float64(1), int64(4), uint8(3)\n",
      "memory usage: 5.5 KB\n"
     ]
    }
   ],
   "source": [
    "df1.info()"
   ]
  },
  {
   "cell_type": "markdown",
   "id": "485a0a50",
   "metadata": {},
   "source": [
    "### Feature engineering"
   ]
  },
  {
   "cell_type": "markdown",
   "id": "07915aa3",
   "metadata": {},
   "source": [
    "- Based on the data, you may drop variables based on below reasons\n",
    "    - If the variable have lots of missings (>25%)\n",
    "    - if categorical Variable with lots categories(>20)\n",
    "    - Variable with near zero variance (CV<0.05)\n",
    "    - Unique variables/Keys/Names/Emaiid/Phone number"
   ]
  },
  {
   "cell_type": "markdown",
   "id": "6a7e54af",
   "metadata": {},
   "source": [
    "### Checking Linearity"
   ]
  },
  {
   "cell_type": "code",
   "execution_count": 46,
   "id": "bbc860fc",
   "metadata": {},
   "outputs": [],
   "source": [
    "corre_y = df1.corrwith(df1.lnPrice)"
   ]
  },
  {
   "cell_type": "code",
   "execution_count": 47,
   "id": "3dfedc34",
   "metadata": {},
   "outputs": [],
   "source": [
    "corre_y.to_csv('corre_y.csv')"
   ]
  },
  {
   "cell_type": "code",
   "execution_count": 48,
   "id": "cdc8aaa6",
   "metadata": {
    "scrolled": true
   },
   "outputs": [
    {
     "name": "stdout",
     "output_type": "stream",
     "text": [
      "<class 'pandas.core.frame.DataFrame'>\n",
      "RangeIndex: 128 entries, 0 to 127\n",
      "Data columns (total 8 columns):\n",
      " #   Column              Non-Null Count  Dtype  \n",
      "---  ------              --------------  -----  \n",
      " 0   SqFt                128 non-null    int64  \n",
      " 1   Bedrooms            128 non-null    int64  \n",
      " 2   Bathrooms           128 non-null    int64  \n",
      " 3   Offers              128 non-null    int64  \n",
      " 4   Brick_Yes           128 non-null    uint8  \n",
      " 5   Neighborhood_North  128 non-null    uint8  \n",
      " 6   Neighborhood_West   128 non-null    uint8  \n",
      " 7   lnPrice             128 non-null    float64\n",
      "dtypes: float64(1), int64(4), uint8(3)\n",
      "memory usage: 5.5 KB\n"
     ]
    }
   ],
   "source": [
    "df1.info()"
   ]
  },
  {
   "cell_type": "code",
   "execution_count": 49,
   "id": "18a32bdb",
   "metadata": {},
   "outputs": [
    {
     "data": {
      "text/plain": [
       "Index(['SqFt', 'Bedrooms', 'Bathrooms', 'Offers', 'Brick_Yes',\n",
       "       'Neighborhood_North', 'Neighborhood_West', 'lnPrice'],\n",
       "      dtype='object')"
      ]
     },
     "execution_count": 49,
     "metadata": {},
     "output_type": "execute_result"
    }
   ],
   "source": [
    "df1.columns"
   ]
  },
  {
   "cell_type": "code",
   "execution_count": 50,
   "id": "afef9520",
   "metadata": {},
   "outputs": [],
   "source": [
    "df1=df1[['SqFt', 'Bedrooms', 'Bathrooms', 'Offers', 'Brick_Yes','Neighborhood_North', 'Neighborhood_West', 'lnPrice']]"
   ]
  },
  {
   "cell_type": "code",
   "execution_count": 51,
   "id": "a2ffb64b",
   "metadata": {},
   "outputs": [
    {
     "data": {
      "text/plain": [
       "SqFt                  0.105323\n",
       "Bedrooms              0.239168\n",
       "Bathrooms             0.209576\n",
       "Offers                0.413145\n",
       "Brick_Yes             1.430950\n",
       "Neighborhood_North    1.381699\n",
       "Neighborhood_West     1.510646\n",
       "lnPrice               0.017440\n",
       "dtype: float64"
      ]
     },
     "execution_count": 51,
     "metadata": {},
     "output_type": "execute_result"
    }
   ],
   "source": [
    "cv= df1.apply(lambda x:np.std(x)/np.mean(x))\n",
    "cv"
   ]
  },
  {
   "cell_type": "markdown",
   "id": "3ce232c5",
   "metadata": {},
   "source": [
    "### Multicolinieity by VIF"
   ]
  },
  {
   "cell_type": "code",
   "execution_count": 52,
   "id": "d7b7a6a9",
   "metadata": {},
   "outputs": [],
   "source": [
    "df2 = df1[df1.columns.difference(['lnPrice','SqFt','Bathrooms','Bedrooms'])]"
   ]
  },
  {
   "cell_type": "code",
   "execution_count": 53,
   "id": "f34613ad",
   "metadata": {},
   "outputs": [
    {
     "data": {
      "text/plain": [
       "array([[0, 0, 0, 2],\n",
       "       [0, 0, 0, 3],\n",
       "       [0, 0, 0, 1],\n",
       "       [0, 0, 0, 3],\n",
       "       [0, 0, 0, 3],\n",
       "       [0, 1, 0, 2],\n",
       "       [1, 0, 1, 3],\n",
       "       [0, 0, 1, 2],\n",
       "       [0, 0, 0, 3],\n",
       "       [0, 0, 0, 3],\n",
       "       [1, 0, 0, 3],\n",
       "       [1, 0, 0, 2],\n",
       "       [0, 1, 0, 4],\n",
       "       [1, 1, 0, 5],\n",
       "       [0, 0, 1, 4],\n",
       "       [0, 0, 1, 1],\n",
       "       [1, 0, 0, 4],\n",
       "       [0, 1, 0, 4],\n",
       "       [1, 0, 0, 1],\n",
       "       [1, 0, 1, 2],\n",
       "       [0, 0, 0, 3],\n",
       "       [0, 1, 0, 4],\n",
       "       [0, 1, 0, 3],\n",
       "       [1, 1, 0, 3],\n",
       "       [1, 0, 0, 2],\n",
       "       [0, 1, 0, 3],\n",
       "       [0, 0, 1, 3],\n",
       "       [0, 0, 0, 2],\n",
       "       [0, 1, 0, 3],\n",
       "       [1, 0, 1, 1],\n",
       "       [1, 0, 1, 3],\n",
       "       [1, 1, 0, 2],\n",
       "       [1, 0, 0, 3],\n",
       "       [1, 0, 0, 4],\n",
       "       [0, 1, 0, 3],\n",
       "       [0, 1, 0, 3],\n",
       "       [0, 1, 0, 2],\n",
       "       [0, 0, 1, 4],\n",
       "       [0, 0, 1, 1],\n",
       "       [0, 1, 0, 2],\n",
       "       [0, 0, 0, 1],\n",
       "       [0, 0, 1, 2],\n",
       "       [0, 0, 0, 3],\n",
       "       [1, 0, 0, 1],\n",
       "       [1, 0, 1, 2],\n",
       "       [0, 0, 0, 3],\n",
       "       [0, 1, 0, 2],\n",
       "       [0, 1, 0, 6],\n",
       "       [0, 0, 0, 2],\n",
       "       [1, 1, 0, 3],\n",
       "       [1, 0, 0, 3],\n",
       "       [0, 1, 0, 3],\n",
       "       [0, 1, 0, 4],\n",
       "       [0, 1, 0, 3],\n",
       "       [0, 1, 0, 3],\n",
       "       [1, 0, 0, 2],\n",
       "       [1, 0, 0, 3],\n",
       "       [0, 0, 1, 3],\n",
       "       [0, 0, 1, 1],\n",
       "       [0, 0, 1, 1],\n",
       "       [0, 0, 1, 1],\n",
       "       [0, 1, 0, 2],\n",
       "       [0, 0, 1, 2],\n",
       "       [0, 0, 0, 2],\n",
       "       [0, 0, 1, 2],\n",
       "       [1, 1, 0, 1],\n",
       "       [0, 1, 0, 4],\n",
       "       [0, 0, 0, 3],\n",
       "       [0, 1, 0, 4],\n",
       "       [0, 0, 1, 3],\n",
       "       [1, 0, 1, 3],\n",
       "       [0, 0, 1, 1],\n",
       "       [0, 1, 0, 3],\n",
       "       [0, 0, 0, 2],\n",
       "       [0, 0, 1, 3],\n",
       "       [0, 1, 0, 2],\n",
       "       [0, 0, 1, 2],\n",
       "       [1, 0, 1, 3],\n",
       "       [0, 1, 0, 3],\n",
       "       [0, 0, 1, 1],\n",
       "       [1, 0, 0, 4],\n",
       "       [1, 0, 1, 2],\n",
       "       [1, 0, 1, 1],\n",
       "       [0, 0, 0, 2],\n",
       "       [0, 1, 0, 3],\n",
       "       [1, 0, 1, 2],\n",
       "       [0, 1, 0, 4],\n",
       "       [1, 0, 1, 1],\n",
       "       [0, 1, 0, 2],\n",
       "       [0, 1, 0, 4],\n",
       "       [0, 0, 1, 2],\n",
       "       [0, 0, 0, 2],\n",
       "       [0, 0, 1, 2],\n",
       "       [0, 0, 0, 2],\n",
       "       [1, 0, 1, 3],\n",
       "       [1, 0, 1, 1],\n",
       "       [0, 0, 0, 3],\n",
       "       [1, 0, 0, 1],\n",
       "       [0, 0, 1, 1],\n",
       "       [1, 0, 1, 2],\n",
       "       [0, 1, 0, 5],\n",
       "       [0, 0, 0, 5],\n",
       "       [0, 0, 0, 4],\n",
       "       [1, 0, 1, 3],\n",
       "       [0, 0, 0, 4],\n",
       "       [0, 0, 1, 4],\n",
       "       [0, 1, 0, 4],\n",
       "       [1, 0, 0, 1],\n",
       "       [1, 0, 0, 3],\n",
       "       [0, 0, 0, 3],\n",
       "       [0, 1, 0, 1],\n",
       "       [0, 1, 0, 2],\n",
       "       [1, 0, 0, 2],\n",
       "       [1, 1, 0, 3],\n",
       "       [0, 0, 0, 2],\n",
       "       [0, 1, 0, 3],\n",
       "       [1, 0, 1, 1],\n",
       "       [0, 1, 0, 2],\n",
       "       [1, 1, 0, 3],\n",
       "       [0, 1, 0, 4],\n",
       "       [0, 1, 0, 3],\n",
       "       [0, 0, 0, 3],\n",
       "       [1, 0, 0, 1],\n",
       "       [1, 0, 0, 3],\n",
       "       [1, 0, 0, 3],\n",
       "       [0, 1, 0, 2],\n",
       "       [0, 0, 1, 1],\n",
       "       [0, 1, 0, 4]], dtype=int64)"
      ]
     },
     "execution_count": 53,
     "metadata": {},
     "output_type": "execute_result"
    }
   ],
   "source": [
    "df2.values # data frame to arrays"
   ]
  },
  {
   "cell_type": "code",
   "execution_count": 54,
   "id": "d8ff0c66",
   "metadata": {},
   "outputs": [
    {
     "data": {
      "text/plain": [
       "0             Brick_Yes\n",
       "1    Neighborhood_North\n",
       "2     Neighborhood_West\n",
       "3                Offers\n",
       "Name: variables, dtype: object"
      ]
     },
     "execution_count": 54,
     "metadata": {},
     "output_type": "execute_result"
    }
   ],
   "source": [
    "v1= pd.Series(df2.columns,name='variables')\n",
    "v1"
   ]
  },
  {
   "cell_type": "code",
   "execution_count": 55,
   "id": "3f34bd4d",
   "metadata": {},
   "outputs": [],
   "source": [
    "from statsmodels.stats.outliers_influence import variance_inflation_factor"
   ]
  },
  {
   "cell_type": "code",
   "execution_count": 56,
   "id": "1404e570",
   "metadata": {},
   "outputs": [
    {
     "data": {
      "text/plain": [
       "0    1.421890\n",
       "1    2.034330\n",
       "2    1.440907\n",
       "3    2.770734\n",
       "Name: vif, dtype: float64"
      ]
     },
     "execution_count": 56,
     "metadata": {},
     "output_type": "execute_result"
    }
   ],
   "source": [
    "v2 = pd.Series([variance_inflation_factor(df2.values,i) for i in range(0,df2.shape[1])],name='vif')\n",
    "v2   "
   ]
  },
  {
   "cell_type": "code",
   "execution_count": 57,
   "id": "5584bd30",
   "metadata": {},
   "outputs": [
    {
     "data": {
      "text/html": [
       "<div>\n",
       "<style scoped>\n",
       "    .dataframe tbody tr th:only-of-type {\n",
       "        vertical-align: middle;\n",
       "    }\n",
       "\n",
       "    .dataframe tbody tr th {\n",
       "        vertical-align: top;\n",
       "    }\n",
       "\n",
       "    .dataframe thead th {\n",
       "        text-align: right;\n",
       "    }\n",
       "</style>\n",
       "<table border=\"1\" class=\"dataframe\">\n",
       "  <thead>\n",
       "    <tr style=\"text-align: right;\">\n",
       "      <th></th>\n",
       "      <th>variables</th>\n",
       "      <th>vif</th>\n",
       "    </tr>\n",
       "  </thead>\n",
       "  <tbody>\n",
       "    <tr>\n",
       "      <th>0</th>\n",
       "      <td>Brick_Yes</td>\n",
       "      <td>1.421890</td>\n",
       "    </tr>\n",
       "    <tr>\n",
       "      <th>1</th>\n",
       "      <td>Neighborhood_North</td>\n",
       "      <td>2.034330</td>\n",
       "    </tr>\n",
       "    <tr>\n",
       "      <th>2</th>\n",
       "      <td>Neighborhood_West</td>\n",
       "      <td>1.440907</td>\n",
       "    </tr>\n",
       "    <tr>\n",
       "      <th>3</th>\n",
       "      <td>Offers</td>\n",
       "      <td>2.770734</td>\n",
       "    </tr>\n",
       "  </tbody>\n",
       "</table>\n",
       "</div>"
      ],
      "text/plain": [
       "            variables       vif\n",
       "0           Brick_Yes  1.421890\n",
       "1  Neighborhood_North  2.034330\n",
       "2   Neighborhood_West  1.440907\n",
       "3              Offers  2.770734"
      ]
     },
     "execution_count": 57,
     "metadata": {},
     "output_type": "execute_result"
    }
   ],
   "source": [
    "vif_values= pd.concat([v1,v2],axis=1)\n",
    "vif_values"
   ]
  },
  {
   "cell_type": "code",
   "execution_count": 58,
   "id": "9d43b15a",
   "metadata": {},
   "outputs": [
    {
     "data": {
      "text/html": [
       "<div>\n",
       "<style scoped>\n",
       "    .dataframe tbody tr th:only-of-type {\n",
       "        vertical-align: middle;\n",
       "    }\n",
       "\n",
       "    .dataframe tbody tr th {\n",
       "        vertical-align: top;\n",
       "    }\n",
       "\n",
       "    .dataframe thead th {\n",
       "        text-align: right;\n",
       "    }\n",
       "</style>\n",
       "<table border=\"1\" class=\"dataframe\">\n",
       "  <thead>\n",
       "    <tr style=\"text-align: right;\">\n",
       "      <th></th>\n",
       "      <th>variables</th>\n",
       "      <th>vif</th>\n",
       "    </tr>\n",
       "  </thead>\n",
       "  <tbody>\n",
       "    <tr>\n",
       "      <th>3</th>\n",
       "      <td>Offers</td>\n",
       "      <td>2.770734</td>\n",
       "    </tr>\n",
       "    <tr>\n",
       "      <th>1</th>\n",
       "      <td>Neighborhood_North</td>\n",
       "      <td>2.034330</td>\n",
       "    </tr>\n",
       "    <tr>\n",
       "      <th>2</th>\n",
       "      <td>Neighborhood_West</td>\n",
       "      <td>1.440907</td>\n",
       "    </tr>\n",
       "    <tr>\n",
       "      <th>0</th>\n",
       "      <td>Brick_Yes</td>\n",
       "      <td>1.421890</td>\n",
       "    </tr>\n",
       "  </tbody>\n",
       "</table>\n",
       "</div>"
      ],
      "text/plain": [
       "            variables       vif\n",
       "3              Offers  2.770734\n",
       "1  Neighborhood_North  2.034330\n",
       "2   Neighborhood_West  1.440907\n",
       "0           Brick_Yes  1.421890"
      ]
     },
     "execution_count": 58,
     "metadata": {},
     "output_type": "execute_result"
    }
   ],
   "source": [
    "vif_values= vif_values.sort_values(by='vif',ascending=False)\n",
    "vif_values"
   ]
  },
  {
   "cell_type": "code",
   "execution_count": 59,
   "id": "0460f90e",
   "metadata": {},
   "outputs": [
    {
     "data": {
      "text/html": [
       "<div>\n",
       "<style scoped>\n",
       "    .dataframe tbody tr th:only-of-type {\n",
       "        vertical-align: middle;\n",
       "    }\n",
       "\n",
       "    .dataframe tbody tr th {\n",
       "        vertical-align: top;\n",
       "    }\n",
       "\n",
       "    .dataframe thead th {\n",
       "        text-align: right;\n",
       "    }\n",
       "</style>\n",
       "<table border=\"1\" class=\"dataframe\">\n",
       "  <thead>\n",
       "    <tr style=\"text-align: right;\">\n",
       "      <th></th>\n",
       "      <th>Features</th>\n",
       "      <th>VIF</th>\n",
       "    </tr>\n",
       "  </thead>\n",
       "  <tbody>\n",
       "    <tr>\n",
       "      <th>3</th>\n",
       "      <td>Offers</td>\n",
       "      <td>2.77</td>\n",
       "    </tr>\n",
       "    <tr>\n",
       "      <th>1</th>\n",
       "      <td>Neighborhood_North</td>\n",
       "      <td>2.03</td>\n",
       "    </tr>\n",
       "    <tr>\n",
       "      <th>2</th>\n",
       "      <td>Neighborhood_West</td>\n",
       "      <td>1.44</td>\n",
       "    </tr>\n",
       "    <tr>\n",
       "      <th>0</th>\n",
       "      <td>Brick_Yes</td>\n",
       "      <td>1.42</td>\n",
       "    </tr>\n",
       "  </tbody>\n",
       "</table>\n",
       "</div>"
      ],
      "text/plain": [
       "             Features   VIF\n",
       "3              Offers  2.77\n",
       "1  Neighborhood_North  2.03\n",
       "2   Neighborhood_West  1.44\n",
       "0           Brick_Yes  1.42"
      ]
     },
     "execution_count": 59,
     "metadata": {},
     "output_type": "execute_result"
    }
   ],
   "source": [
    "vif = pd.DataFrame()\n",
    "vif['Features'] = df2.columns\n",
    "vif['VIF'] = [variance_inflation_factor(df2.values, i) for i in range(df2.shape[1])]\n",
    "vif['VIF'] = round(vif['VIF'], 2)\n",
    "vif = vif.sort_values(by = \"VIF\", ascending = False)\n",
    "vif"
   ]
  },
  {
   "cell_type": "code",
   "execution_count": 60,
   "id": "a11fd7aa",
   "metadata": {},
   "outputs": [
    {
     "data": {
      "text/html": [
       "<div>\n",
       "<style scoped>\n",
       "    .dataframe tbody tr th:only-of-type {\n",
       "        vertical-align: middle;\n",
       "    }\n",
       "\n",
       "    .dataframe tbody tr th {\n",
       "        vertical-align: top;\n",
       "    }\n",
       "\n",
       "    .dataframe thead th {\n",
       "        text-align: right;\n",
       "    }\n",
       "</style>\n",
       "<table border=\"1\" class=\"dataframe\">\n",
       "  <thead>\n",
       "    <tr style=\"text-align: right;\">\n",
       "      <th></th>\n",
       "      <th>Brick_Yes</th>\n",
       "      <th>Neighborhood_North</th>\n",
       "      <th>Neighborhood_West</th>\n",
       "      <th>Offers</th>\n",
       "      <th>lnPrice</th>\n",
       "    </tr>\n",
       "  </thead>\n",
       "  <tbody>\n",
       "    <tr>\n",
       "      <th>0</th>\n",
       "      <td>0</td>\n",
       "      <td>0</td>\n",
       "      <td>0</td>\n",
       "      <td>2</td>\n",
       "      <td>11.646582</td>\n",
       "    </tr>\n",
       "    <tr>\n",
       "      <th>1</th>\n",
       "      <td>0</td>\n",
       "      <td>0</td>\n",
       "      <td>0</td>\n",
       "      <td>3</td>\n",
       "      <td>11.645707</td>\n",
       "    </tr>\n",
       "    <tr>\n",
       "      <th>2</th>\n",
       "      <td>0</td>\n",
       "      <td>0</td>\n",
       "      <td>0</td>\n",
       "      <td>1</td>\n",
       "      <td>11.650947</td>\n",
       "    </tr>\n",
       "    <tr>\n",
       "      <th>3</th>\n",
       "      <td>0</td>\n",
       "      <td>0</td>\n",
       "      <td>0</td>\n",
       "      <td>3</td>\n",
       "      <td>11.458469</td>\n",
       "    </tr>\n",
       "    <tr>\n",
       "      <th>4</th>\n",
       "      <td>0</td>\n",
       "      <td>0</td>\n",
       "      <td>0</td>\n",
       "      <td>3</td>\n",
       "      <td>11.693579</td>\n",
       "    </tr>\n",
       "    <tr>\n",
       "      <th>...</th>\n",
       "      <td>...</td>\n",
       "      <td>...</td>\n",
       "      <td>...</td>\n",
       "      <td>...</td>\n",
       "      <td>...</td>\n",
       "    </tr>\n",
       "    <tr>\n",
       "      <th>123</th>\n",
       "      <td>1</td>\n",
       "      <td>0</td>\n",
       "      <td>0</td>\n",
       "      <td>3</td>\n",
       "      <td>11.692744</td>\n",
       "    </tr>\n",
       "    <tr>\n",
       "      <th>124</th>\n",
       "      <td>1</td>\n",
       "      <td>0</td>\n",
       "      <td>0</td>\n",
       "      <td>3</td>\n",
       "      <td>11.904292</td>\n",
       "    </tr>\n",
       "    <tr>\n",
       "      <th>125</th>\n",
       "      <td>0</td>\n",
       "      <td>1</td>\n",
       "      <td>0</td>\n",
       "      <td>2</td>\n",
       "      <td>11.639558</td>\n",
       "    </tr>\n",
       "    <tr>\n",
       "      <th>126</th>\n",
       "      <td>0</td>\n",
       "      <td>0</td>\n",
       "      <td>1</td>\n",
       "      <td>1</td>\n",
       "      <td>11.917724</td>\n",
       "    </tr>\n",
       "    <tr>\n",
       "      <th>127</th>\n",
       "      <td>0</td>\n",
       "      <td>1</td>\n",
       "      <td>0</td>\n",
       "      <td>4</td>\n",
       "      <td>11.732864</td>\n",
       "    </tr>\n",
       "  </tbody>\n",
       "</table>\n",
       "<p>128 rows × 5 columns</p>\n",
       "</div>"
      ],
      "text/plain": [
       "     Brick_Yes  Neighborhood_North  Neighborhood_West  Offers    lnPrice\n",
       "0            0                   0                  0       2  11.646582\n",
       "1            0                   0                  0       3  11.645707\n",
       "2            0                   0                  0       1  11.650947\n",
       "3            0                   0                  0       3  11.458469\n",
       "4            0                   0                  0       3  11.693579\n",
       "..         ...                 ...                ...     ...        ...\n",
       "123          1                   0                  0       3  11.692744\n",
       "124          1                   0                  0       3  11.904292\n",
       "125          0                   1                  0       2  11.639558\n",
       "126          0                   0                  1       1  11.917724\n",
       "127          0                   1                  0       4  11.732864\n",
       "\n",
       "[128 rows x 5 columns]"
      ]
     },
     "execution_count": 60,
     "metadata": {},
     "output_type": "execute_result"
    }
   ],
   "source": [
    "df_final=df1[df1.columns.difference(['SqFt','Bathrooms','Bedrooms'])]\n",
    "df_final"
   ]
  },
  {
   "cell_type": "code",
   "execution_count": 61,
   "id": "300486a0",
   "metadata": {},
   "outputs": [
    {
     "data": {
      "image/png": "[encoded data removed]",
      "text/plain": [
       "<Figure size 1440x720 with 2 Axes>"
      ]
     },
     "metadata": {},
     "output_type": "display_data"
    }
   ],
   "source": [
    "plt.figure(figsize=(20,10),facecolor='yellow')\n",
    "sns.set(style='white')\n",
    "sns.heatmap(df_final.corr(), cmap=\"YlGnBu\", annot = True)\n",
    "plt.show()"
   ]
  },
  {
   "cell_type": "markdown",
   "id": "7e491ce8",
   "metadata": {},
   "source": [
    "# Step 3: Performing Simple Linear Regression"
   ]
  },
  {
   "cell_type": "markdown",
   "id": "bcf52a93",
   "metadata": {},
   "source": [
    "⚫Equation of Multivariate linear regression\n",
    "\n",
    "⚫y=m1*x1 + m2*x2 + ... + mn*xn+C\n",
    "\n",
    "⚫c is the intercept\n",
    "\n",
    "⚫m1 is the coefficient for the first feature\n",
    "\n",
    "⚫mn is the coefficient for the nth feature\n",
    " \n",
    "⚫In our case:\n",
    "The m values are :\n",
    "    The model coefficients\n",
    "    Betas\n",
    "    Estimates\n",
    "    Gradients\n",
    "    Slopes \n",
    "    parameters.\n",
    "    \n",
    "The X values are  :     \n",
    "    Independent variables\n",
    "    X variables\n",
    "    Variables\n",
    "    Features\n",
    "    Explnatory variables\n",
    "    Regressors\n",
    "    drivers\n",
    "    \n",
    "The Y values are :\n",
    "    Dependent variable\n",
    "    Y variable\n",
    "    Explained variable\n",
    "    response variable\n",
    "    Target variable\n",
    "    Object variable"
   ]
  },
  {
   "cell_type": "markdown",
   "id": "b5227596",
   "metadata": {},
   "source": [
    "### Steps in model building using statsmodels"
   ]
  },
  {
   "cell_type": "markdown",
   "id": "11a45880",
   "metadata": {},
   "source": [
    "###  Splitting the data into train & Test"
   ]
  },
  {
   "cell_type": "code",
   "execution_count": 62,
   "id": "da788cac",
   "metadata": {},
   "outputs": [],
   "source": [
    "from sklearn.model_selection import train_test_split"
   ]
  },
  {
   "cell_type": "code",
   "execution_count": 63,
   "id": "a52ec9c0",
   "metadata": {},
   "outputs": [],
   "source": [
    "y=target = df_final[['lnPrice']]\n",
    "X=features =df_final[df_final.columns.difference(['lnPrice','Offers'])]"
   ]
  },
  {
   "cell_type": "markdown",
   "id": "a09cf5b1",
   "metadata": {},
   "source": [
    "####  Splitting the data for sklearn methods"
   ]
  },
  {
   "cell_type": "code",
   "execution_count": 64,
   "id": "ffff554f",
   "metadata": {},
   "outputs": [],
   "source": [
    "train_X, test_X, train_y, test_y= train_test_split(X, y, train_size = 0.7, test_size = 0.3, random_state = 100)"
   ]
  },
  {
   "cell_type": "code",
   "execution_count": 65,
   "id": "8e672964",
   "metadata": {
    "scrolled": false
   },
   "outputs": [
    {
     "data": {
      "text/html": [
       "<div>\n",
       "<style scoped>\n",
       "    .dataframe tbody tr th:only-of-type {\n",
       "        vertical-align: middle;\n",
       "    }\n",
       "\n",
       "    .dataframe tbody tr th {\n",
       "        vertical-align: top;\n",
       "    }\n",
       "\n",
       "    .dataframe thead th {\n",
       "        text-align: right;\n",
       "    }\n",
       "</style>\n",
       "<table border=\"1\" class=\"dataframe\">\n",
       "  <thead>\n",
       "    <tr style=\"text-align: right;\">\n",
       "      <th></th>\n",
       "      <th>Brick_Yes</th>\n",
       "      <th>Neighborhood_North</th>\n",
       "      <th>Neighborhood_West</th>\n",
       "    </tr>\n",
       "  </thead>\n",
       "  <tbody>\n",
       "    <tr>\n",
       "      <th>70</th>\n",
       "      <td>1</td>\n",
       "      <td>0</td>\n",
       "      <td>1</td>\n",
       "    </tr>\n",
       "    <tr>\n",
       "      <th>23</th>\n",
       "      <td>1</td>\n",
       "      <td>1</td>\n",
       "      <td>0</td>\n",
       "    </tr>\n",
       "    <tr>\n",
       "      <th>120</th>\n",
       "      <td>0</td>\n",
       "      <td>1</td>\n",
       "      <td>0</td>\n",
       "    </tr>\n",
       "    <tr>\n",
       "      <th>110</th>\n",
       "      <td>0</td>\n",
       "      <td>1</td>\n",
       "      <td>0</td>\n",
       "    </tr>\n",
       "    <tr>\n",
       "      <th>20</th>\n",
       "      <td>0</td>\n",
       "      <td>0</td>\n",
       "      <td>0</td>\n",
       "    </tr>\n",
       "  </tbody>\n",
       "</table>\n",
       "</div>"
      ],
      "text/plain": [
       "     Brick_Yes  Neighborhood_North  Neighborhood_West\n",
       "70           1                   0                  1\n",
       "23           1                   1                  0\n",
       "120          0                   1                  0\n",
       "110          0                   1                  0\n",
       "20           0                   0                  0"
      ]
     },
     "execution_count": 65,
     "metadata": {},
     "output_type": "execute_result"
    }
   ],
   "source": [
    "train_X.head(5)"
   ]
  },
  {
   "cell_type": "code",
   "execution_count": 66,
   "id": "3a989ae5",
   "metadata": {
    "scrolled": true
   },
   "outputs": [
    {
     "data": {
      "text/html": [
       "<div>\n",
       "<style scoped>\n",
       "    .dataframe tbody tr th:only-of-type {\n",
       "        vertical-align: middle;\n",
       "    }\n",
       "\n",
       "    .dataframe tbody tr th {\n",
       "        vertical-align: top;\n",
       "    }\n",
       "\n",
       "    .dataframe thead th {\n",
       "        text-align: right;\n",
       "    }\n",
       "</style>\n",
       "<table border=\"1\" class=\"dataframe\">\n",
       "  <thead>\n",
       "    <tr style=\"text-align: right;\">\n",
       "      <th></th>\n",
       "      <th>lnPrice</th>\n",
       "    </tr>\n",
       "  </thead>\n",
       "  <tbody>\n",
       "    <tr>\n",
       "      <th>70</th>\n",
       "      <td>12.023951</td>\n",
       "    </tr>\n",
       "    <tr>\n",
       "      <th>23</th>\n",
       "      <td>11.572137</td>\n",
       "    </tr>\n",
       "    <tr>\n",
       "      <th>120</th>\n",
       "      <td>11.611865</td>\n",
       "    </tr>\n",
       "    <tr>\n",
       "      <th>110</th>\n",
       "      <td>11.622676</td>\n",
       "    </tr>\n",
       "    <tr>\n",
       "      <th>20</th>\n",
       "      <td>11.663068</td>\n",
       "    </tr>\n",
       "  </tbody>\n",
       "</table>\n",
       "</div>"
      ],
      "text/plain": [
       "       lnPrice\n",
       "70   12.023951\n",
       "23   11.572137\n",
       "120  11.611865\n",
       "110  11.622676\n",
       "20   11.663068"
      ]
     },
     "execution_count": 66,
     "metadata": {},
     "output_type": "execute_result"
    }
   ],
   "source": [
    "train_y.head(5)"
   ]
  },
  {
   "cell_type": "code",
   "execution_count": 67,
   "id": "94c4a5f9",
   "metadata": {},
   "outputs": [],
   "source": [
    "import statsmodels.api as sm"
   ]
  },
  {
   "cell_type": "markdown",
   "id": "0850ac56",
   "metadata": {},
   "source": [
    "####  Adding a constant to get an intercept"
   ]
  },
  {
   "cell_type": "markdown",
   "id": "34b5e2e4",
   "metadata": {},
   "source": [
    "In order to have an intercept, we manually used the add_constant attribute from statsmodels.api\n",
    "Once we have added constant to train_X dataset, we can go ahead and fit a regression line using the OLS (Ordinary Least Squares)"
   ]
  },
  {
   "cell_type": "code",
   "execution_count": 68,
   "id": "caad809a",
   "metadata": {},
   "outputs": [
    {
     "data": {
      "text/html": [
       "<div>\n",
       "<style scoped>\n",
       "    .dataframe tbody tr th:only-of-type {\n",
       "        vertical-align: middle;\n",
       "    }\n",
       "\n",
       "    .dataframe tbody tr th {\n",
       "        vertical-align: top;\n",
       "    }\n",
       "\n",
       "    .dataframe thead th {\n",
       "        text-align: right;\n",
       "    }\n",
       "</style>\n",
       "<table border=\"1\" class=\"dataframe\">\n",
       "  <thead>\n",
       "    <tr style=\"text-align: right;\">\n",
       "      <th></th>\n",
       "      <th>const</th>\n",
       "      <th>Brick_Yes</th>\n",
       "      <th>Neighborhood_North</th>\n",
       "      <th>Neighborhood_West</th>\n",
       "    </tr>\n",
       "  </thead>\n",
       "  <tbody>\n",
       "    <tr>\n",
       "      <th>70</th>\n",
       "      <td>1.0</td>\n",
       "      <td>1</td>\n",
       "      <td>0</td>\n",
       "      <td>1</td>\n",
       "    </tr>\n",
       "    <tr>\n",
       "      <th>23</th>\n",
       "      <td>1.0</td>\n",
       "      <td>1</td>\n",
       "      <td>1</td>\n",
       "      <td>0</td>\n",
       "    </tr>\n",
       "    <tr>\n",
       "      <th>120</th>\n",
       "      <td>1.0</td>\n",
       "      <td>0</td>\n",
       "      <td>1</td>\n",
       "      <td>0</td>\n",
       "    </tr>\n",
       "    <tr>\n",
       "      <th>110</th>\n",
       "      <td>1.0</td>\n",
       "      <td>0</td>\n",
       "      <td>1</td>\n",
       "      <td>0</td>\n",
       "    </tr>\n",
       "    <tr>\n",
       "      <th>20</th>\n",
       "      <td>1.0</td>\n",
       "      <td>0</td>\n",
       "      <td>0</td>\n",
       "      <td>0</td>\n",
       "    </tr>\n",
       "  </tbody>\n",
       "</table>\n",
       "</div>"
      ],
      "text/plain": [
       "     const  Brick_Yes  Neighborhood_North  Neighborhood_West\n",
       "70     1.0          1                   0                  1\n",
       "23     1.0          1                   1                  0\n",
       "120    1.0          0                   1                  0\n",
       "110    1.0          0                   1                  0\n",
       "20     1.0          0                   0                  0"
      ]
     },
     "execution_count": 68,
     "metadata": {},
     "output_type": "execute_result"
    }
   ],
   "source": [
    "train_X_wc=sm.add_constant(train_X)\n",
    "train_X_wc.head(5)"
   ]
  },
  {
   "cell_type": "code",
   "execution_count": 69,
   "id": "633c2a90",
   "metadata": {},
   "outputs": [
    {
     "data": {
      "text/html": [
       "<div>\n",
       "<style scoped>\n",
       "    .dataframe tbody tr th:only-of-type {\n",
       "        vertical-align: middle;\n",
       "    }\n",
       "\n",
       "    .dataframe tbody tr th {\n",
       "        vertical-align: top;\n",
       "    }\n",
       "\n",
       "    .dataframe thead th {\n",
       "        text-align: right;\n",
       "    }\n",
       "</style>\n",
       "<table border=\"1\" class=\"dataframe\">\n",
       "  <thead>\n",
       "    <tr style=\"text-align: right;\">\n",
       "      <th></th>\n",
       "      <th>const</th>\n",
       "      <th>Brick_Yes</th>\n",
       "      <th>Neighborhood_North</th>\n",
       "      <th>Neighborhood_West</th>\n",
       "    </tr>\n",
       "  </thead>\n",
       "  <tbody>\n",
       "    <tr>\n",
       "      <th>11</th>\n",
       "      <td>1.0</td>\n",
       "      <td>1</td>\n",
       "      <td>0</td>\n",
       "      <td>0</td>\n",
       "    </tr>\n",
       "    <tr>\n",
       "      <th>106</th>\n",
       "      <td>1.0</td>\n",
       "      <td>0</td>\n",
       "      <td>1</td>\n",
       "      <td>0</td>\n",
       "    </tr>\n",
       "    <tr>\n",
       "      <th>105</th>\n",
       "      <td>1.0</td>\n",
       "      <td>0</td>\n",
       "      <td>0</td>\n",
       "      <td>1</td>\n",
       "    </tr>\n",
       "    <tr>\n",
       "      <th>73</th>\n",
       "      <td>1.0</td>\n",
       "      <td>0</td>\n",
       "      <td>0</td>\n",
       "      <td>0</td>\n",
       "    </tr>\n",
       "    <tr>\n",
       "      <th>92</th>\n",
       "      <td>1.0</td>\n",
       "      <td>0</td>\n",
       "      <td>0</td>\n",
       "      <td>1</td>\n",
       "    </tr>\n",
       "  </tbody>\n",
       "</table>\n",
       "</div>"
      ],
      "text/plain": [
       "     const  Brick_Yes  Neighborhood_North  Neighborhood_West\n",
       "11     1.0          1                   0                  0\n",
       "106    1.0          0                   1                  0\n",
       "105    1.0          0                   0                  1\n",
       "73     1.0          0                   0                  0\n",
       "92     1.0          0                   0                  1"
      ]
     },
     "execution_count": 69,
     "metadata": {},
     "output_type": "execute_result"
    }
   ],
   "source": [
    "test_X_wc=sm.add_constant(test_X)\n",
    "test_X_wc.head(5)"
   ]
  },
  {
   "cell_type": "code",
   "execution_count": 70,
   "id": "e17eb211",
   "metadata": {},
   "outputs": [
    {
     "data": {
      "text/html": [
       "<div>\n",
       "<style scoped>\n",
       "    .dataframe tbody tr th:only-of-type {\n",
       "        vertical-align: middle;\n",
       "    }\n",
       "\n",
       "    .dataframe tbody tr th {\n",
       "        vertical-align: top;\n",
       "    }\n",
       "\n",
       "    .dataframe thead th {\n",
       "        text-align: right;\n",
       "    }\n",
       "</style>\n",
       "<table border=\"1\" class=\"dataframe\">\n",
       "  <thead>\n",
       "    <tr style=\"text-align: right;\">\n",
       "      <th></th>\n",
       "      <th>lnPrice</th>\n",
       "    </tr>\n",
       "  </thead>\n",
       "  <tbody>\n",
       "    <tr>\n",
       "      <th>70</th>\n",
       "      <td>12.023951</td>\n",
       "    </tr>\n",
       "    <tr>\n",
       "      <th>23</th>\n",
       "      <td>11.572137</td>\n",
       "    </tr>\n",
       "    <tr>\n",
       "      <th>120</th>\n",
       "      <td>11.611865</td>\n",
       "    </tr>\n",
       "    <tr>\n",
       "      <th>110</th>\n",
       "      <td>11.622676</td>\n",
       "    </tr>\n",
       "    <tr>\n",
       "      <th>20</th>\n",
       "      <td>11.663068</td>\n",
       "    </tr>\n",
       "  </tbody>\n",
       "</table>\n",
       "</div>"
      ],
      "text/plain": [
       "       lnPrice\n",
       "70   12.023951\n",
       "23   11.572137\n",
       "120  11.611865\n",
       "110  11.622676\n",
       "20   11.663068"
      ]
     },
     "execution_count": 70,
     "metadata": {},
     "output_type": "execute_result"
    }
   ],
   "source": [
    "train_y.head(5)"
   ]
  },
  {
   "cell_type": "markdown",
   "id": "5a714ffa",
   "metadata": {},
   "source": [
    "####  Fit the resgression line using 'OLS'"
   ]
  },
  {
   "cell_type": "code",
   "execution_count": 71,
   "id": "6dda6780",
   "metadata": {},
   "outputs": [],
   "source": [
    "ols_model= sm.OLS(train_y, train_X_wc).fit()"
   ]
  },
  {
   "cell_type": "markdown",
   "id": "336be74c",
   "metadata": {},
   "source": [
    "#### Performing a summary operation lists out all the different parameters of the regression line fitted"
   ]
  },
  {
   "cell_type": "code",
   "execution_count": 72,
   "id": "f4337bf5",
   "metadata": {
    "scrolled": true
   },
   "outputs": [
    {
     "name": "stdout",
     "output_type": "stream",
     "text": [
      "                            OLS Regression Results                            \n",
      "==============================================================================\n",
      "Dep. Variable:                lnPrice   R-squared:                       0.667\n",
      "Model:                            OLS   Adj. R-squared:                  0.655\n",
      "Method:                 Least Squares   F-statistic:                     56.81\n",
      "Date:                Thu, 05 Jan 2023   Prob (F-statistic):           3.00e-20\n",
      "Time:                        17:36:51   Log-Likelihood:                 66.095\n",
      "No. Observations:                  89   AIC:                            -124.2\n",
      "Df Residuals:                      85   BIC:                            -114.2\n",
      "Df Model:                           3                                         \n",
      "Covariance Type:            nonrobust                                         \n",
      "======================================================================================\n",
      "                         coef    std err          t      P>|t|      [0.025      0.975]\n",
      "--------------------------------------------------------------------------------------\n",
      "const                 11.6853      0.022    521.249      0.000      11.641      11.730\n",
      "Brick_Yes              0.1149      0.027      4.232      0.000       0.061       0.169\n",
      "Neighborhood_North    -0.1013      0.030     -3.354      0.001      -0.161      -0.041\n",
      "Neighborhood_West      0.2475      0.031      8.026      0.000       0.186       0.309\n",
      "==============================================================================\n",
      "Omnibus:                        0.371   Durbin-Watson:                   1.938\n",
      "Prob(Omnibus):                  0.831   Jarque-Bera (JB):                0.521\n",
      "Skew:                           0.126   Prob(JB):                        0.771\n",
      "Kurtosis:                       2.723   Cond. No.                         3.79\n",
      "==============================================================================\n",
      "\n",
      "Notes:\n",
      "[1] Standard Errors assume that the covariance matrix of the errors is correctly specified.\n"
     ]
    }
   ],
   "source": [
    "print(ols_model.summary())"
   ]
  },
  {
   "cell_type": "markdown",
   "id": "2bb41b8b",
   "metadata": {},
   "source": [
    "#### Printing the parameters, i.e. the intercept and the slope of the regression line fitted"
   ]
  },
  {
   "cell_type": "code",
   "execution_count": 73,
   "id": "31883b39",
   "metadata": {},
   "outputs": [
    {
     "data": {
      "text/plain": [
       "const                 11.685286\n",
       "Brick_Yes              0.114906\n",
       "Neighborhood_North    -0.101250\n",
       "Neighborhood_West      0.247500\n",
       "dtype: float64"
      ]
     },
     "execution_count": 73,
     "metadata": {},
     "output_type": "execute_result"
    }
   ],
   "source": [
    "ols_model.params"
   ]
  },
  {
   "cell_type": "raw",
   "id": "78059c67",
   "metadata": {},
   "source": [
    "Looking at some key statistics from the summary\n",
    "The values we are concerned with are -\n",
    "\n",
    "1.The coefficients and significance (p-values)\n",
    "2.R-squared\n",
    "3.F statistic and its significance\n",
    "\n",
    "1. The coefficient for Brick_Yes,Neighborhood_North,Neighborhood_West are 0.114906,-0.101250,0.247500 with a very low p value\n",
    "\n",
    "    The coefficient is statistically significant. So the association is not purely by chance.\n",
    "\n",
    "2. R - squared is 0.667\n",
    "\n",
    "    Meaning that 66.7% of the variance in Sales is explained by The Brick_Yes,Neighborhood_North,Neighborhood_West.\n",
    "\n",
    "    This is a decent R-squared value.\n",
    "\n",
    "3. F statistic has a very low p value (practically low)\n",
    "\n",
    "    Meaning that the model fit is statistically significant, and the explained variance isn't purely by chance."
   ]
  },
  {
   "cell_type": "raw",
   "id": "bf14c43d",
   "metadata": {},
   "source": [
    "The fit is significant. Further we visualize how well the model fit the data.\n",
    "\n",
    "From the parameters obtained above, our linear regression equation becomes 0.114906*Brick_Yes-0.101250*Neighborhood_North+0.247500*Neighborhood_West+11.685286"
   ]
  },
  {
   "cell_type": "markdown",
   "id": "379e8277",
   "metadata": {},
   "source": [
    "# Step 4: Residual analysis"
   ]
  },
  {
   "cell_type": "markdown",
   "id": "d98eeef2",
   "metadata": {},
   "source": [
    "Linear Regression\t\t\t\t\t\n",
    "\n",
    "\t- variable significance\t\t\tlooking at P-Value\t\n",
    "\t- final mathematical equation\t\t\t\t\n",
    "\t- Important Drivers (positive/negative)\t\t\t\t\n",
    "\t- Check the drivers signs with orignal correlations with Y\t\t\t\t\n",
    "    \n",
    "\tMetrics\t\t\t\t\n",
    "\t\tR-square/Adj Square\t\t\t\n",
    "\t\tMSE/RMSE/MAPE/RMSPE\t\t\t\n",
    "\t\tCorr(Actual, pred)\t\t\t\n",
    "\t\tDecile Analysis (Rank Ordering)\t\t\t\n",
    "        \n",
    "\tChecks\t\t\t\t\n",
    "\t\tErrors should follow normal distribution\t\t\t\n",
    "\t\tCorr(Actual, Errors) ~0\t\t\t\n",
    "\t\tno multicollineirity on final list of variables\t\t"
   ]
  },
  {
   "cell_type": "markdown",
   "id": "a31770fa",
   "metadata": {},
   "source": [
    "###  Distribution of the error terms"
   ]
  },
  {
   "cell_type": "markdown",
   "id": "3725fade",
   "metadata": {},
   "source": [
    "We need to check if the error terms are also normally distributed \n",
    "(which is infact, one of the major assumptions of linear regression), let us plot the histogram of the error terms and see what it looks like."
   ]
  },
  {
   "cell_type": "code",
   "execution_count": 74,
   "id": "d0a42cfa",
   "metadata": {},
   "outputs": [],
   "source": [
    "y_train_pred = (ols_model.predict(train_X_wc))\n",
    "y_test_pred = (ols_model.predict(test_X_wc))\n",
    "y_train_act = (train_y.lnPrice)\n",
    "y_test_act = (test_y.lnPrice) "
   ]
  },
  {
   "cell_type": "code",
   "execution_count": 75,
   "id": "697ecc9f",
   "metadata": {},
   "outputs": [],
   "source": [
    "Error=y_train_act - y_train_pred"
   ]
  },
  {
   "cell_type": "code",
   "execution_count": 76,
   "id": "359f069e",
   "metadata": {},
   "outputs": [
    {
     "data": {
      "image/png": "[encoded data removed]",
      "text/plain": [
       "<Figure size 1440x360 with 1 Axes>"
      ]
     },
     "metadata": {},
     "output_type": "display_data"
    }
   ],
   "source": [
    "plt.figure(figsize=(20,5),facecolor='yellow')\n",
    "sns.set(style='white') # distribution graph  and its a combination  pdf and histogram combination\n",
    "sns.distplot(Error, bins = 15)\n",
    "plt.title('Error Terms',fontsize=20,color='r',fontweight='bold')  # Plot heading           \n",
    "plt.ylabel('Density',fontsize=20,color='r',fontweight='bold')\n",
    "plt.xlabel('y_train_act - y_train_pred',fontsize=20,color='r',fontweight='bold')# X-label\n",
    "plt.xticks(rotation=0,fontsize=20,color='blue')\n",
    "plt.yticks(rotation=0,fontsize=20,color='blue')\n",
    "plt.show()"
   ]
  },
  {
   "cell_type": "markdown",
   "id": "e4239e7b",
   "metadata": {},
   "source": [
    "The residuals are following the normally distributed with a mean 0. All good!"
   ]
  },
  {
   "cell_type": "markdown",
   "id": "1e1a6f11",
   "metadata": {},
   "source": [
    "We are confident that the model fit isn't by chance, and has decent predictive power. The normality of residual terms allows some inference on the coefficients.\n",
    "\n",
    "Although, the variance of residuals increasing with X indicates that there is significant variation that this model is unable to explain.\n",
    "\n",
    "As you can see, the regression line is a pretty good fit to the data"
   ]
  },
  {
   "cell_type": "markdown",
   "id": "fbde5ec4",
   "metadata": {},
   "source": [
    "# Step 5: Predictions on the Test Set"
   ]
  },
  {
   "cell_type": "markdown",
   "id": "fc4187f7",
   "metadata": {},
   "source": [
    "### Now that we have fitted a regression line on our train dataset, we can make some predictions on the test data"
   ]
  },
  {
   "cell_type": "code",
   "execution_count": 77,
   "id": "8806984b",
   "metadata": {},
   "outputs": [],
   "source": [
    "from sklearn.metrics import mean_squared_error\n",
    "from sklearn.metrics import r2_score\n",
    "from sklearn.metrics import mean_absolute_percentage_error"
   ]
  },
  {
   "cell_type": "markdown",
   "id": "82140aec",
   "metadata": {},
   "source": [
    "### Looking at the RMSE"
   ]
  },
  {
   "cell_type": "markdown",
   "id": "4817f9aa",
   "metadata": {},
   "source": [
    "##### Returns the mean squared error then apply  a square root"
   ]
  },
  {
   "cell_type": "code",
   "execution_count": 78,
   "id": "91a9a1f4",
   "metadata": {},
   "outputs": [
    {
     "name": "stdout",
     "output_type": "stream",
     "text": [
      "Train_RMSE 0.11514269732929142\n",
      "Test_RMSE 0.14095147601075\n"
     ]
    }
   ],
   "source": [
    "print('Train_RMSE' ,np.sqrt(mean_squared_error(y_train_act, y_train_pred)))\n",
    "print('Test_RMSE' ,np.sqrt(mean_squared_error(y_test_act, y_test_pred)))"
   ]
  },
  {
   "cell_type": "markdown",
   "id": "08655013",
   "metadata": {},
   "source": [
    "### Checking the R-squared"
   ]
  },
  {
   "cell_type": "code",
   "execution_count": 79,
   "id": "c2c8929f",
   "metadata": {},
   "outputs": [
    {
     "name": "stdout",
     "output_type": "stream",
     "text": [
      "Train_R2 0.6672148465077723\n",
      "Test R2 0.5731865811147826\n"
     ]
    }
   ],
   "source": [
    "Train_r_squared=r2_score(y_train_act, y_train_pred)\n",
    "Test_r_squared=r2_score(y_test_act, y_test_pred)\n",
    "print('Train_R2',Train_r_squared)\n",
    "print('Test R2',Test_r_squared)"
   ]
  },
  {
   "cell_type": "markdown",
   "id": "a2d86b00",
   "metadata": {},
   "source": [
    "#### R-squared of the Test set is pretty close to the predicted model. Thus the model is a good fit."
   ]
  },
  {
   "cell_type": "markdown",
   "id": "93742c4e",
   "metadata": {},
   "source": [
    "### Checking the Correlation "
   ]
  },
  {
   "cell_type": "code",
   "execution_count": 80,
   "id": "decef2f4",
   "metadata": {
    "scrolled": true
   },
   "outputs": [
    {
     "name": "stdout",
     "output_type": "stream",
     "text": [
      "Train_corr: 0.8168322021735998\n",
      "Test_corr: 0.7628493959243285\n"
     ]
    }
   ],
   "source": [
    "print('Train_corr:', np.corrcoef(y_train_act, y_train_pred)[1][0])\n",
    "print('Test_corr:', np.corrcoef(y_test_act, y_test_pred)[1][0])"
   ]
  },
  {
   "cell_type": "markdown",
   "id": "b674f41b",
   "metadata": {},
   "source": [
    "### Checking The MAPE"
   ]
  },
  {
   "cell_type": "code",
   "execution_count": 81,
   "id": "2a202e92",
   "metadata": {},
   "outputs": [
    {
     "name": "stdout",
     "output_type": "stream",
     "text": [
      "Train_MAPE 0.6672148465077723\n",
      "Test_MAPE 0.5731865811147826\n"
     ]
    }
   ],
   "source": [
    "Train_Mean_absolute_percentage_error=r2_score(y_train_act, y_train_pred)\n",
    "Test_Mean_absolute_percentage_error=r2_score(y_test_act, y_test_pred)\n",
    "print('Train_MAPE',Train_Mean_absolute_percentage_error)\n",
    "print('Test_MAPE',Test_Mean_absolute_percentage_error)"
   ]
  },
  {
   "cell_type": "code",
   "execution_count": 82,
   "id": "c0f0d9bd",
   "metadata": {},
   "outputs": [],
   "source": [
    "from sklearn.preprocessing import StandardScaler"
   ]
  },
  {
   "cell_type": "code",
   "execution_count": 83,
   "id": "efa6f19c",
   "metadata": {},
   "outputs": [],
   "source": [
    "Scaler=StandardScaler()"
   ]
  },
  {
   "cell_type": "code",
   "execution_count": 84,
   "id": "8bc501ec",
   "metadata": {
    "scrolled": false
   },
   "outputs": [],
   "source": [
    "Standard_Train_x=pd.DataFrame(Scaler.fit_transform(train_X),columns=train_X.columns)\n",
    "Standard_Test_x=pd.DataFrame(Scaler.fit_transform(test_X),columns=train_X.columns)"
   ]
  },
  {
   "cell_type": "code",
   "execution_count": 85,
   "id": "98ab0f0c",
   "metadata": {},
   "outputs": [
    {
     "data": {
      "text/html": [
       "<div>\n",
       "<style scoped>\n",
       "    .dataframe tbody tr th:only-of-type {\n",
       "        vertical-align: middle;\n",
       "    }\n",
       "\n",
       "    .dataframe tbody tr th {\n",
       "        vertical-align: top;\n",
       "    }\n",
       "\n",
       "    .dataframe thead th {\n",
       "        text-align: right;\n",
       "    }\n",
       "</style>\n",
       "<table border=\"1\" class=\"dataframe\">\n",
       "  <thead>\n",
       "    <tr style=\"text-align: right;\">\n",
       "      <th></th>\n",
       "      <th>Brick_Yes</th>\n",
       "      <th>Neighborhood_North</th>\n",
       "      <th>Neighborhood_West</th>\n",
       "    </tr>\n",
       "  </thead>\n",
       "  <tbody>\n",
       "    <tr>\n",
       "      <th>0</th>\n",
       "      <td>1.402379</td>\n",
       "      <td>-0.695222</td>\n",
       "      <td>1.515354</td>\n",
       "    </tr>\n",
       "    <tr>\n",
       "      <th>1</th>\n",
       "      <td>1.402379</td>\n",
       "      <td>1.438390</td>\n",
       "      <td>-0.659912</td>\n",
       "    </tr>\n",
       "    <tr>\n",
       "      <th>2</th>\n",
       "      <td>-0.713074</td>\n",
       "      <td>1.438390</td>\n",
       "      <td>-0.659912</td>\n",
       "    </tr>\n",
       "    <tr>\n",
       "      <th>3</th>\n",
       "      <td>-0.713074</td>\n",
       "      <td>1.438390</td>\n",
       "      <td>-0.659912</td>\n",
       "    </tr>\n",
       "    <tr>\n",
       "      <th>4</th>\n",
       "      <td>-0.713074</td>\n",
       "      <td>-0.695222</td>\n",
       "      <td>-0.659912</td>\n",
       "    </tr>\n",
       "  </tbody>\n",
       "</table>\n",
       "</div>"
      ],
      "text/plain": [
       "   Brick_Yes  Neighborhood_North  Neighborhood_West\n",
       "0   1.402379           -0.695222           1.515354\n",
       "1   1.402379            1.438390          -0.659912\n",
       "2  -0.713074            1.438390          -0.659912\n",
       "3  -0.713074            1.438390          -0.659912\n",
       "4  -0.713074           -0.695222          -0.659912"
      ]
     },
     "execution_count": 85,
     "metadata": {},
     "output_type": "execute_result"
    }
   ],
   "source": [
    "Standard_Train_x.head()"
   ]
  },
  {
   "cell_type": "code",
   "execution_count": 86,
   "id": "670a9d36",
   "metadata": {},
   "outputs": [],
   "source": [
    "import statsmodels.api as sm"
   ]
  },
  {
   "cell_type": "code",
   "execution_count": 87,
   "id": "84096269",
   "metadata": {
    "scrolled": true
   },
   "outputs": [
    {
     "data": {
      "text/html": [
       "<div>\n",
       "<style scoped>\n",
       "    .dataframe tbody tr th:only-of-type {\n",
       "        vertical-align: middle;\n",
       "    }\n",
       "\n",
       "    .dataframe tbody tr th {\n",
       "        vertical-align: top;\n",
       "    }\n",
       "\n",
       "    .dataframe thead th {\n",
       "        text-align: right;\n",
       "    }\n",
       "</style>\n",
       "<table border=\"1\" class=\"dataframe\">\n",
       "  <thead>\n",
       "    <tr style=\"text-align: right;\">\n",
       "      <th></th>\n",
       "      <th>const</th>\n",
       "      <th>Brick_Yes</th>\n",
       "      <th>Neighborhood_North</th>\n",
       "      <th>Neighborhood_West</th>\n",
       "    </tr>\n",
       "  </thead>\n",
       "  <tbody>\n",
       "    <tr>\n",
       "      <th>0</th>\n",
       "      <td>1.0</td>\n",
       "      <td>1.402379</td>\n",
       "      <td>-0.695222</td>\n",
       "      <td>1.515354</td>\n",
       "    </tr>\n",
       "    <tr>\n",
       "      <th>1</th>\n",
       "      <td>1.0</td>\n",
       "      <td>1.402379</td>\n",
       "      <td>1.438390</td>\n",
       "      <td>-0.659912</td>\n",
       "    </tr>\n",
       "    <tr>\n",
       "      <th>2</th>\n",
       "      <td>1.0</td>\n",
       "      <td>-0.713074</td>\n",
       "      <td>1.438390</td>\n",
       "      <td>-0.659912</td>\n",
       "    </tr>\n",
       "    <tr>\n",
       "      <th>3</th>\n",
       "      <td>1.0</td>\n",
       "      <td>-0.713074</td>\n",
       "      <td>1.438390</td>\n",
       "      <td>-0.659912</td>\n",
       "    </tr>\n",
       "    <tr>\n",
       "      <th>4</th>\n",
       "      <td>1.0</td>\n",
       "      <td>-0.713074</td>\n",
       "      <td>-0.695222</td>\n",
       "      <td>-0.659912</td>\n",
       "    </tr>\n",
       "  </tbody>\n",
       "</table>\n",
       "</div>"
      ],
      "text/plain": [
       "   const  Brick_Yes  Neighborhood_North  Neighborhood_West\n",
       "0    1.0   1.402379           -0.695222           1.515354\n",
       "1    1.0   1.402379            1.438390          -0.659912\n",
       "2    1.0  -0.713074            1.438390          -0.659912\n",
       "3    1.0  -0.713074            1.438390          -0.659912\n",
       "4    1.0  -0.713074           -0.695222          -0.659912"
      ]
     },
     "execution_count": 87,
     "metadata": {},
     "output_type": "execute_result"
    }
   ],
   "source": [
    "Standard_Train_x=sm.add_constant(Standard_Train_x)\n",
    "Standard_Train_x.head(5)"
   ]
  },
  {
   "cell_type": "code",
   "execution_count": 88,
   "id": "165ed37b",
   "metadata": {},
   "outputs": [],
   "source": [
    "Standard_Train_y=pd.DataFrame(Scaler.fit_transform(train_y),columns=train_y.columns)\n",
    "Standard_Test_y=pd.DataFrame(Scaler.fit_transform(test_y),columns=train_y.columns)"
   ]
  },
  {
   "cell_type": "code",
   "execution_count": 89,
   "id": "81b2ee2b",
   "metadata": {},
   "outputs": [
    {
     "data": {
      "text/html": [
       "<div>\n",
       "<style scoped>\n",
       "    .dataframe tbody tr th:only-of-type {\n",
       "        vertical-align: middle;\n",
       "    }\n",
       "\n",
       "    .dataframe tbody tr th {\n",
       "        vertical-align: top;\n",
       "    }\n",
       "\n",
       "    .dataframe thead th {\n",
       "        text-align: right;\n",
       "    }\n",
       "</style>\n",
       "<table border=\"1\" class=\"dataframe\">\n",
       "  <thead>\n",
       "    <tr style=\"text-align: right;\">\n",
       "      <th></th>\n",
       "      <th>const</th>\n",
       "      <th>Brick_Yes</th>\n",
       "      <th>Neighborhood_North</th>\n",
       "      <th>Neighborhood_West</th>\n",
       "    </tr>\n",
       "  </thead>\n",
       "  <tbody>\n",
       "    <tr>\n",
       "      <th>0</th>\n",
       "      <td>1.0</td>\n",
       "      <td>1.500000</td>\n",
       "      <td>-0.790569</td>\n",
       "      <td>-0.666667</td>\n",
       "    </tr>\n",
       "    <tr>\n",
       "      <th>1</th>\n",
       "      <td>1.0</td>\n",
       "      <td>-0.666667</td>\n",
       "      <td>1.264911</td>\n",
       "      <td>-0.666667</td>\n",
       "    </tr>\n",
       "    <tr>\n",
       "      <th>2</th>\n",
       "      <td>1.0</td>\n",
       "      <td>-0.666667</td>\n",
       "      <td>-0.790569</td>\n",
       "      <td>1.500000</td>\n",
       "    </tr>\n",
       "    <tr>\n",
       "      <th>3</th>\n",
       "      <td>1.0</td>\n",
       "      <td>-0.666667</td>\n",
       "      <td>-0.790569</td>\n",
       "      <td>-0.666667</td>\n",
       "    </tr>\n",
       "    <tr>\n",
       "      <th>4</th>\n",
       "      <td>1.0</td>\n",
       "      <td>-0.666667</td>\n",
       "      <td>-0.790569</td>\n",
       "      <td>1.500000</td>\n",
       "    </tr>\n",
       "  </tbody>\n",
       "</table>\n",
       "</div>"
      ],
      "text/plain": [
       "   const  Brick_Yes  Neighborhood_North  Neighborhood_West\n",
       "0    1.0   1.500000           -0.790569          -0.666667\n",
       "1    1.0  -0.666667            1.264911          -0.666667\n",
       "2    1.0  -0.666667           -0.790569           1.500000\n",
       "3    1.0  -0.666667           -0.790569          -0.666667\n",
       "4    1.0  -0.666667           -0.790569           1.500000"
      ]
     },
     "execution_count": 89,
     "metadata": {},
     "output_type": "execute_result"
    }
   ],
   "source": [
    "Standard_Test_x=sm.add_constant(Standard_Test_x)\n",
    "Standard_Test_x.head(5)"
   ]
  },
  {
   "cell_type": "code",
   "execution_count": 90,
   "id": "7373a3b6",
   "metadata": {},
   "outputs": [],
   "source": [
    "ols_model= sm.OLS(Standard_Train_y, Standard_Train_x).fit()"
   ]
  },
  {
   "cell_type": "code",
   "execution_count": 91,
   "id": "70847be8",
   "metadata": {},
   "outputs": [
    {
     "data": {
      "text/plain": [
       "const                -1.523207e-14\n",
       "Brick_Yes             2.721362e-01\n",
       "Neighborhood_North   -2.377536e-01\n",
       "Neighborhood_West     5.700449e-01\n",
       "dtype: float64"
      ]
     },
     "execution_count": 91,
     "metadata": {},
     "output_type": "execute_result"
    }
   ],
   "source": [
    "ols_model.params"
   ]
  },
  {
   "cell_type": "markdown",
   "id": "2f0bb9a2",
   "metadata": {},
   "source": [
    "We notice that the value of the parameters have changed since we have changed the scale.\n",
    "\n",
    "Let's look at the statistics of the model, to see if any other aspect of the model has changed."
   ]
  },
  {
   "cell_type": "code",
   "execution_count": 92,
   "id": "6c7eaac2",
   "metadata": {},
   "outputs": [
    {
     "name": "stdout",
     "output_type": "stream",
     "text": [
      "                            OLS Regression Results                            \n",
      "==============================================================================\n",
      "Dep. Variable:                lnPrice   R-squared:                       0.667\n",
      "Model:                            OLS   Adj. R-squared:                  0.655\n",
      "Method:                 Least Squares   F-statistic:                     56.81\n",
      "Date:                Thu, 05 Jan 2023   Prob (F-statistic):           3.00e-20\n",
      "Time:                        17:36:52   Log-Likelihood:                -77.324\n",
      "No. Observations:                  89   AIC:                             162.6\n",
      "Df Residuals:                      85   BIC:                             172.6\n",
      "Df Model:                           3                                         \n",
      "Covariance Type:            nonrobust                                         \n",
      "======================================================================================\n",
      "                         coef    std err          t      P>|t|      [0.025      0.975]\n",
      "--------------------------------------------------------------------------------------\n",
      "const              -1.523e-14      0.063  -2.43e-13      1.000      -0.124       0.124\n",
      "Brick_Yes              0.2721      0.064      4.232      0.000       0.144       0.400\n",
      "Neighborhood_North    -0.2378      0.071     -3.354      0.001      -0.379      -0.097\n",
      "Neighborhood_West      0.5700      0.071      8.026      0.000       0.429       0.711\n",
      "==============================================================================\n",
      "Omnibus:                        0.371   Durbin-Watson:                   1.938\n",
      "Prob(Omnibus):                  0.831   Jarque-Bera (JB):                0.521\n",
      "Skew:                           0.126   Prob(JB):                        0.771\n",
      "Kurtosis:                       2.723   Cond. No.                         1.71\n",
      "==============================================================================\n",
      "\n",
      "Notes:\n",
      "[1] Standard Errors assume that the covariance matrix of the errors is correctly specified.\n"
     ]
    }
   ],
   "source": [
    "print(ols_model.summary())"
   ]
  },
  {
   "cell_type": "raw",
   "id": "d0b18949",
   "metadata": {},
   "source": [
    "train_pred = np.exp(ols_model.predict(train))\n",
    "test_pred = np.exp(ols_model.predict(test))\n",
    "train_act = np.exp(train.lnPrice)\n",
    "test_act = np.exp(test.lnPrice) "
   ]
  },
  {
   "cell_type": "markdown",
   "id": "aff89496",
   "metadata": {},
   "source": [
    "#### Model statistics and goodness of fit remain unchanged.\n",
    "#### General reasons for scaling -\n",
    "#### Helps with interpretation\n",
    "#### Faster convergence of gradient descent"
   ]
  }
 ],
 "metadata": {
  "kernelspec": {
   "display_name": "Python 3 (ipykernel)",
   "language": "python",
   "name": "python3"
  },
  "language_info": {
   "codemirror_mode": {
    "name": "ipython",
    "version": 3
   },
   "file_extension": ".py",
   "mimetype": "text/x-python",
   "name": "python",
   "nbconvert_exporter": "python",
   "pygments_lexer": "ipython3",
   "version": "3.9.12"
  }
 },
 "nbformat": 4,
 "nbformat_minor": 5
}
