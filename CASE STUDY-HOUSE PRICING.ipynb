{
 "cells": [
  {
   "cell_type": "markdown",
   "id": "fff8e849",
   "metadata": {},
   "source": [
    "##  Predicting House Price based on the loan charactersitics"
   ]
  },
  {
   "cell_type": "code",
   "execution_count": 1,
   "id": "34d2c483",
   "metadata": {},
   "outputs": [],
   "source": [
    "#importing basic packages for data understanding and numerical package for math operations\n",
    "import pandas as pd\n",
    "import numpy as np\n",
    "\n",
    "                                    \n",
    "import matplotlib.pyplot as plt     ##importing required packages for visulization and plotting \n",
    "%matplotlib inline \n",
    "                \n",
    "import datetime as dt              #package required for DATE/TIME\n",
    "\n",
    "import seaborn as sns            #set seabor graphs to a better style\n",
    "sns.set(style=\"ticks\")\n",
    "sns.set_style(\"darkgrid\")\n",
    "\n",
    "import pandas_profiling as pf            #importing package for data auditing\n",
    "\n",
    "from statsmodels.stats.outliers_influence import variance_inflation_factor\n",
    "import statsmodels.formula.api as smf\n",
    "\n",
    "import scipy.stats as stats  #scientific python\n",
    "\n",
    "from sklearn import datasets  \n",
    "from sklearn.model_selection import train_test_split\n",
    "from sklearn.linear_model import LinearRegression\n",
    "\n",
    "pd.pandas.set_option('display.max_columns',None)             #it will show all the columns\n",
    "#pd.pandas.set_option('display.max_rows',None)               #it will show all the rows\n",
    "import os # os.chdir(path link)                              #importing package to execute operating system functions\n",
    "import re\n",
    "\n",
    "import math"
   ]
  },
  {
   "cell_type": "code",
   "execution_count": 2,
   "id": "b5deb083",
   "metadata": {},
   "outputs": [
    {
     "data": {
      "text/html": [
       "<div>\n",
       "<style scoped>\n",
       "    .dataframe tbody tr th:only-of-type {\n",
       "        vertical-align: middle;\n",
       "    }\n",
       "\n",
       "    .dataframe tbody tr th {\n",
       "        vertical-align: top;\n",
       "    }\n",
       "\n",
       "    .dataframe thead th {\n",
       "        text-align: right;\n",
       "    }\n",
       "</style>\n",
       "<table border=\"1\" class=\"dataframe\">\n",
       "  <thead>\n",
       "    <tr style=\"text-align: right;\">\n",
       "      <th></th>\n",
       "      <th>Home</th>\n",
       "      <th>Price</th>\n",
       "      <th>SqFt</th>\n",
       "      <th>Bedrooms</th>\n",
       "      <th>Bathrooms</th>\n",
       "      <th>Offers</th>\n",
       "      <th>Brick</th>\n",
       "      <th>Neighborhood</th>\n",
       "    </tr>\n",
       "  </thead>\n",
       "  <tbody>\n",
       "    <tr>\n",
       "      <th>0</th>\n",
       "      <td>1</td>\n",
       "      <td>114300</td>\n",
       "      <td>1790</td>\n",
       "      <td>2</td>\n",
       "      <td>2</td>\n",
       "      <td>2</td>\n",
       "      <td>No</td>\n",
       "      <td>East</td>\n",
       "    </tr>\n",
       "    <tr>\n",
       "      <th>1</th>\n",
       "      <td>2</td>\n",
       "      <td>114200</td>\n",
       "      <td>2030</td>\n",
       "      <td>4</td>\n",
       "      <td>2</td>\n",
       "      <td>3</td>\n",
       "      <td>No</td>\n",
       "      <td>East</td>\n",
       "    </tr>\n",
       "    <tr>\n",
       "      <th>2</th>\n",
       "      <td>3</td>\n",
       "      <td>114800</td>\n",
       "      <td>1740</td>\n",
       "      <td>3</td>\n",
       "      <td>2</td>\n",
       "      <td>1</td>\n",
       "      <td>No</td>\n",
       "      <td>East</td>\n",
       "    </tr>\n",
       "    <tr>\n",
       "      <th>3</th>\n",
       "      <td>4</td>\n",
       "      <td>94700</td>\n",
       "      <td>1980</td>\n",
       "      <td>3</td>\n",
       "      <td>2</td>\n",
       "      <td>3</td>\n",
       "      <td>No</td>\n",
       "      <td>East</td>\n",
       "    </tr>\n",
       "    <tr>\n",
       "      <th>4</th>\n",
       "      <td>5</td>\n",
       "      <td>119800</td>\n",
       "      <td>2130</td>\n",
       "      <td>3</td>\n",
       "      <td>3</td>\n",
       "      <td>3</td>\n",
       "      <td>No</td>\n",
       "      <td>East</td>\n",
       "    </tr>\n",
       "    <tr>\n",
       "      <th>...</th>\n",
       "      <td>...</td>\n",
       "      <td>...</td>\n",
       "      <td>...</td>\n",
       "      <td>...</td>\n",
       "      <td>...</td>\n",
       "      <td>...</td>\n",
       "      <td>...</td>\n",
       "      <td>...</td>\n",
       "    </tr>\n",
       "    <tr>\n",
       "      <th>123</th>\n",
       "      <td>124</td>\n",
       "      <td>119700</td>\n",
       "      <td>1900</td>\n",
       "      <td>3</td>\n",
       "      <td>3</td>\n",
       "      <td>3</td>\n",
       "      <td>Yes</td>\n",
       "      <td>East</td>\n",
       "    </tr>\n",
       "    <tr>\n",
       "      <th>124</th>\n",
       "      <td>125</td>\n",
       "      <td>147900</td>\n",
       "      <td>2160</td>\n",
       "      <td>4</td>\n",
       "      <td>3</td>\n",
       "      <td>3</td>\n",
       "      <td>Yes</td>\n",
       "      <td>East</td>\n",
       "    </tr>\n",
       "    <tr>\n",
       "      <th>125</th>\n",
       "      <td>126</td>\n",
       "      <td>113500</td>\n",
       "      <td>2070</td>\n",
       "      <td>2</td>\n",
       "      <td>2</td>\n",
       "      <td>2</td>\n",
       "      <td>No</td>\n",
       "      <td>North</td>\n",
       "    </tr>\n",
       "    <tr>\n",
       "      <th>126</th>\n",
       "      <td>127</td>\n",
       "      <td>149900</td>\n",
       "      <td>2020</td>\n",
       "      <td>3</td>\n",
       "      <td>3</td>\n",
       "      <td>1</td>\n",
       "      <td>No</td>\n",
       "      <td>West</td>\n",
       "    </tr>\n",
       "    <tr>\n",
       "      <th>127</th>\n",
       "      <td>128</td>\n",
       "      <td>124600</td>\n",
       "      <td>2250</td>\n",
       "      <td>3</td>\n",
       "      <td>3</td>\n",
       "      <td>4</td>\n",
       "      <td>No</td>\n",
       "      <td>North</td>\n",
       "    </tr>\n",
       "  </tbody>\n",
       "</table>\n",
       "<p>128 rows × 8 columns</p>\n",
       "</div>"
      ],
      "text/plain": [
       "     Home   Price  SqFt  Bedrooms  Bathrooms  Offers Brick Neighborhood\n",
       "0       1  114300  1790         2          2       2    No         East\n",
       "1       2  114200  2030         4          2       3    No         East\n",
       "2       3  114800  1740         3          2       1    No         East\n",
       "3       4   94700  1980         3          2       3    No         East\n",
       "4       5  119800  2130         3          3       3    No         East\n",
       "..    ...     ...   ...       ...        ...     ...   ...          ...\n",
       "123   124  119700  1900         3          3       3   Yes         East\n",
       "124   125  147900  2160         4          3       3   Yes         East\n",
       "125   126  113500  2070         2          2       2    No        North\n",
       "126   127  149900  2020         3          3       1    No         West\n",
       "127   128  124600  2250         3          3       4    No        North\n",
       "\n",
       "[128 rows x 8 columns]"
      ]
     },
     "execution_count": 2,
     "metadata": {},
     "output_type": "execute_result"
    }
   ],
   "source": [
    "df=pd.read_csv(r\"C:\\Users\\putta\\Desktop\\PYTHON\\REGRESSION Predicting House Prices\\House_Prices.csv\")\n",
    "df"
   ]
  },
  {
   "cell_type": "markdown",
   "id": "8c9941e6",
   "metadata": {},
   "source": [
    "# 1. Model Building Steps - Pre-Modeling Stage"
   ]
  },
  {
   "cell_type": "code",
   "execution_count": 3,
   "id": "ea99c634",
   "metadata": {
    "scrolled": true
   },
   "outputs": [
    {
     "name": "stdout",
     "output_type": "stream",
     "text": [
      "<class 'pandas.core.frame.DataFrame'>\n",
      "RangeIndex: 128 entries, 0 to 127\n",
      "Data columns (total 8 columns):\n",
      " #   Column        Non-Null Count  Dtype \n",
      "---  ------        --------------  ----- \n",
      " 0   Home          128 non-null    int64 \n",
      " 1   Price         128 non-null    int64 \n",
      " 2   SqFt          128 non-null    int64 \n",
      " 3   Bedrooms      128 non-null    int64 \n",
      " 4   Bathrooms     128 non-null    int64 \n",
      " 5   Offers        128 non-null    int64 \n",
      " 6   Brick         128 non-null    object\n",
      " 7   Neighborhood  128 non-null    object\n",
      "dtypes: int64(6), object(2)\n",
      "memory usage: 8.1+ KB\n"
     ]
    }
   ],
   "source": [
    "df.info()"
   ]
  },
  {
   "cell_type": "markdown",
   "id": "28fd69db",
   "metadata": {},
   "source": [
    "\n",
    "\n",
    "# Understanding  the data availability"
   ]
  },
  {
   "cell_type": "code",
   "execution_count": 4,
   "id": "00864863",
   "metadata": {
    "scrolled": true
   },
   "outputs": [
    {
     "data": {
      "text/plain": [
       "Index(['Home', 'Price', 'SqFt', 'Bedrooms', 'Bathrooms', 'Offers', 'Brick',\n",
       "       'Neighborhood'],\n",
       "      dtype='object')"
      ]
     },
     "execution_count": 4,
     "metadata": {},
     "output_type": "execute_result"
    }
   ],
   "source": [
    "df.columns"
   ]
  },
  {
   "cell_type": "markdown",
   "id": "272f70b8",
   "metadata": {},
   "source": [
    "### My  Y variable is Interest_Rate"
   ]
  },
  {
   "cell_type": "markdown",
   "id": "0046ea12",
   "metadata": {},
   "source": [
    "### We are Solving this Problem by Linear Regression"
   ]
  },
  {
   "cell_type": "markdown",
   "id": "454ac62b",
   "metadata": {},
   "source": [
    " ### Auditing The Data at At File Level "
   ]
  },
  {
   "cell_type": "code",
   "execution_count": 5,
   "id": "1cf3c14a",
   "metadata": {},
   "outputs": [
    {
     "data": {
      "text/html": [
       "<div>\n",
       "<style scoped>\n",
       "    .dataframe tbody tr th:only-of-type {\n",
       "        vertical-align: middle;\n",
       "    }\n",
       "\n",
       "    .dataframe tbody tr th {\n",
       "        vertical-align: top;\n",
       "    }\n",
       "\n",
       "    .dataframe thead th {\n",
       "        text-align: right;\n",
       "    }\n",
       "</style>\n",
       "<table border=\"1\" class=\"dataframe\">\n",
       "  <thead>\n",
       "    <tr style=\"text-align: right;\">\n",
       "      <th></th>\n",
       "      <th>Home</th>\n",
       "      <th>Price</th>\n",
       "      <th>SqFt</th>\n",
       "      <th>Bedrooms</th>\n",
       "      <th>Bathrooms</th>\n",
       "      <th>Offers</th>\n",
       "      <th>Brick</th>\n",
       "      <th>Neighborhood</th>\n",
       "    </tr>\n",
       "  </thead>\n",
       "  <tbody>\n",
       "    <tr>\n",
       "      <th>0</th>\n",
       "      <td>1</td>\n",
       "      <td>114300</td>\n",
       "      <td>1790</td>\n",
       "      <td>2</td>\n",
       "      <td>2</td>\n",
       "      <td>2</td>\n",
       "      <td>No</td>\n",
       "      <td>East</td>\n",
       "    </tr>\n",
       "    <tr>\n",
       "      <th>1</th>\n",
       "      <td>2</td>\n",
       "      <td>114200</td>\n",
       "      <td>2030</td>\n",
       "      <td>4</td>\n",
       "      <td>2</td>\n",
       "      <td>3</td>\n",
       "      <td>No</td>\n",
       "      <td>East</td>\n",
       "    </tr>\n",
       "  </tbody>\n",
       "</table>\n",
       "</div>"
      ],
      "text/plain": [
       "   Home   Price  SqFt  Bedrooms  Bathrooms  Offers Brick Neighborhood\n",
       "0     1  114300  1790         2          2       2    No         East\n",
       "1     2  114200  2030         4          2       3    No         East"
      ]
     },
     "execution_count": 5,
     "metadata": {},
     "output_type": "execute_result"
    }
   ],
   "source": [
    "df.head(2)"
   ]
  },
  {
   "cell_type": "code",
   "execution_count": 6,
   "id": "0015e09d",
   "metadata": {
    "scrolled": false
   },
   "outputs": [
    {
     "data": {
      "text/plain": [
       "1024"
      ]
     },
     "execution_count": 6,
     "metadata": {},
     "output_type": "execute_result"
    }
   ],
   "source": [
    "df.size"
   ]
  },
  {
   "cell_type": "code",
   "execution_count": 7,
   "id": "9549c262",
   "metadata": {},
   "outputs": [
    {
     "data": {
      "text/plain": [
       "(128, 8)"
      ]
     },
     "execution_count": 7,
     "metadata": {},
     "output_type": "execute_result"
    }
   ],
   "source": [
    "df.shape"
   ]
  },
  {
   "cell_type": "code",
   "execution_count": 8,
   "id": "aeb922a7",
   "metadata": {},
   "outputs": [],
   "source": [
    "df.columns = [val.replace('.','_') for val in df.columns]"
   ]
  },
  {
   "cell_type": "code",
   "execution_count": 9,
   "id": "63c7db70",
   "metadata": {},
   "outputs": [
    {
     "data": {
      "text/plain": [
       "Index(['Home', 'Price', 'SqFt', 'Bedrooms', 'Bathrooms', 'Offers', 'Brick',\n",
       "       'Neighborhood'],\n",
       "      dtype='object')"
      ]
     },
     "execution_count": 9,
     "metadata": {},
     "output_type": "execute_result"
    }
   ],
   "source": [
    "df.columns"
   ]
  },
  {
   "cell_type": "code",
   "execution_count": 10,
   "id": "7587d4da",
   "metadata": {},
   "outputs": [
    {
     "data": {
      "text/plain": [
       "8"
      ]
     },
     "execution_count": 10,
     "metadata": {},
     "output_type": "execute_result"
    }
   ],
   "source": [
    "df.columns.value_counts().count()"
   ]
  },
  {
   "cell_type": "code",
   "execution_count": 11,
   "id": "e87f3586",
   "metadata": {},
   "outputs": [
    {
     "data": {
      "text/plain": [
       "128"
      ]
     },
     "execution_count": 11,
     "metadata": {},
     "output_type": "execute_result"
    }
   ],
   "source": [
    "df.Home.value_counts().count()"
   ]
  },
  {
   "cell_type": "code",
   "execution_count": 12,
   "id": "4e47a56f",
   "metadata": {},
   "outputs": [
    {
     "data": {
      "text/plain": [
       "Home            0\n",
       "Price           0\n",
       "SqFt            0\n",
       "Bedrooms        0\n",
       "Bathrooms       0\n",
       "Offers          0\n",
       "Brick           0\n",
       "Neighborhood    0\n",
       "dtype: int64"
      ]
     },
     "execution_count": 12,
     "metadata": {},
     "output_type": "execute_result"
    }
   ],
   "source": [
    "df.isna().sum()"
   ]
  },
  {
   "cell_type": "code",
   "execution_count": 13,
   "id": "a744461f",
   "metadata": {},
   "outputs": [
    {
     "data": {
      "image/png": "[encoded data removed]",
      "text/plain": [
       "<Figure size 1440x360 with 1 Axes>"
      ]
     },
     "metadata": {},
     "output_type": "display_data"
    }
   ],
   "source": [
    "plt.figure(figsize=(20,5))\n",
    "sns.heatmap(df.isnull(),yticklabels=False,cbar=False,cmap='viridis')\n",
    "plt.show()"
   ]
  },
  {
   "cell_type": "markdown",
   "id": "6aa1c2ab",
   "metadata": {},
   "source": [
    "### Handlign missing values (Imputation of Missing values)"
   ]
  },
  {
   "cell_type": "code",
   "execution_count": 14,
   "id": "afb6cf88",
   "metadata": {},
   "outputs": [],
   "source": [
    "def miss_values(x):\n",
    "    if x.dtype=='O':\n",
    "        x=x.fillna(x.mode()[0])\n",
    "        return x\n",
    "    else:\n",
    "        x=x.fillna(x.median())\n",
    "        return x"
   ]
  },
  {
   "cell_type": "code",
   "execution_count": 15,
   "id": "2046ad0f",
   "metadata": {},
   "outputs": [],
   "source": [
    "df= df.apply(miss_values)"
   ]
  },
  {
   "cell_type": "code",
   "execution_count": 16,
   "id": "d99a767a",
   "metadata": {},
   "outputs": [
    {
     "data": {
      "text/plain": [
       "Home            0\n",
       "Price           0\n",
       "SqFt            0\n",
       "Bedrooms        0\n",
       "Bathrooms       0\n",
       "Offers          0\n",
       "Brick           0\n",
       "Neighborhood    0\n",
       "dtype: int64"
      ]
     },
     "execution_count": 16,
     "metadata": {},
     "output_type": "execute_result"
    }
   ],
   "source": [
    "df.isna().sum()"
   ]
  },
  {
   "cell_type": "code",
   "execution_count": 17,
   "id": "13b484ff",
   "metadata": {},
   "outputs": [
    {
     "name": "stdout",
     "output_type": "stream",
     "text": [
      "<class 'pandas.core.frame.DataFrame'>\n",
      "RangeIndex: 128 entries, 0 to 127\n",
      "Data columns (total 8 columns):\n",
      " #   Column        Non-Null Count  Dtype \n",
      "---  ------        --------------  ----- \n",
      " 0   Home          128 non-null    int64 \n",
      " 1   Price         128 non-null    int64 \n",
      " 2   SqFt          128 non-null    int64 \n",
      " 3   Bedrooms      128 non-null    int64 \n",
      " 4   Bathrooms     128 non-null    int64 \n",
      " 5   Offers        128 non-null    int64 \n",
      " 6   Brick         128 non-null    object\n",
      " 7   Neighborhood  128 non-null    object\n",
      "dtypes: int64(6), object(2)\n",
      "memory usage: 8.1+ KB\n"
     ]
    }
   ],
   "source": [
    "df.info()"
   ]
  },
  {
   "cell_type": "code",
   "execution_count": 18,
   "id": "c30613ea",
   "metadata": {},
   "outputs": [
    {
     "data": {
      "text/html": [
       "<div>\n",
       "<style scoped>\n",
       "    .dataframe tbody tr th:only-of-type {\n",
       "        vertical-align: middle;\n",
       "    }\n",
       "\n",
       "    .dataframe tbody tr th {\n",
       "        vertical-align: top;\n",
       "    }\n",
       "\n",
       "    .dataframe thead th {\n",
       "        text-align: right;\n",
       "    }\n",
       "</style>\n",
       "<table border=\"1\" class=\"dataframe\">\n",
       "  <thead>\n",
       "    <tr style=\"text-align: right;\">\n",
       "      <th></th>\n",
       "      <th>Home</th>\n",
       "      <th>Price</th>\n",
       "      <th>SqFt</th>\n",
       "      <th>Bedrooms</th>\n",
       "      <th>Bathrooms</th>\n",
       "      <th>Offers</th>\n",
       "      <th>Brick</th>\n",
       "      <th>Neighborhood</th>\n",
       "    </tr>\n",
       "  </thead>\n",
       "  <tbody>\n",
       "    <tr>\n",
       "      <th>0</th>\n",
       "      <td>1</td>\n",
       "      <td>114300</td>\n",
       "      <td>1790</td>\n",
       "      <td>2</td>\n",
       "      <td>2</td>\n",
       "      <td>2</td>\n",
       "      <td>No</td>\n",
       "      <td>East</td>\n",
       "    </tr>\n",
       "    <tr>\n",
       "      <th>1</th>\n",
       "      <td>2</td>\n",
       "      <td>114200</td>\n",
       "      <td>2030</td>\n",
       "      <td>4</td>\n",
       "      <td>2</td>\n",
       "      <td>3</td>\n",
       "      <td>No</td>\n",
       "      <td>East</td>\n",
       "    </tr>\n",
       "    <tr>\n",
       "      <th>2</th>\n",
       "      <td>3</td>\n",
       "      <td>114800</td>\n",
       "      <td>1740</td>\n",
       "      <td>3</td>\n",
       "      <td>2</td>\n",
       "      <td>1</td>\n",
       "      <td>No</td>\n",
       "      <td>East</td>\n",
       "    </tr>\n",
       "    <tr>\n",
       "      <th>3</th>\n",
       "      <td>4</td>\n",
       "      <td>94700</td>\n",
       "      <td>1980</td>\n",
       "      <td>3</td>\n",
       "      <td>2</td>\n",
       "      <td>3</td>\n",
       "      <td>No</td>\n",
       "      <td>East</td>\n",
       "    </tr>\n",
       "    <tr>\n",
       "      <th>4</th>\n",
       "      <td>5</td>\n",
       "      <td>119800</td>\n",
       "      <td>2130</td>\n",
       "      <td>3</td>\n",
       "      <td>3</td>\n",
       "      <td>3</td>\n",
       "      <td>No</td>\n",
       "      <td>East</td>\n",
       "    </tr>\n",
       "  </tbody>\n",
       "</table>\n",
       "</div>"
      ],
      "text/plain": [
       "   Home   Price  SqFt  Bedrooms  Bathrooms  Offers Brick Neighborhood\n",
       "0     1  114300  1790         2          2       2    No         East\n",
       "1     2  114200  2030         4          2       3    No         East\n",
       "2     3  114800  1740         3          2       1    No         East\n",
       "3     4   94700  1980         3          2       3    No         East\n",
       "4     5  119800  2130         3          3       3    No         East"
      ]
     },
     "execution_count": 18,
     "metadata": {},
     "output_type": "execute_result"
    }
   ],
   "source": [
    "df.head(5)"
   ]
  },
  {
   "cell_type": "code",
   "execution_count": 19,
   "id": "899ad8f7",
   "metadata": {},
   "outputs": [
    {
     "data": {
      "text/plain": [
       "East     45\n",
       "North    44\n",
       "West     39\n",
       "Name: Neighborhood, dtype: int64"
      ]
     },
     "execution_count": 19,
     "metadata": {},
     "output_type": "execute_result"
    }
   ],
   "source": [
    "df.Neighborhood.value_counts()"
   ]
  },
  {
   "cell_type": "code",
   "execution_count": 20,
   "id": "af42c8e1",
   "metadata": {},
   "outputs": [
    {
     "data": {
      "text/html": [
       "<div>\n",
       "<style scoped>\n",
       "    .dataframe tbody tr th:only-of-type {\n",
       "        vertical-align: middle;\n",
       "    }\n",
       "\n",
       "    .dataframe tbody tr th {\n",
       "        vertical-align: top;\n",
       "    }\n",
       "\n",
       "    .dataframe thead th {\n",
       "        text-align: right;\n",
       "    }\n",
       "</style>\n",
       "<table border=\"1\" class=\"dataframe\">\n",
       "  <thead>\n",
       "    <tr style=\"text-align: right;\">\n",
       "      <th></th>\n",
       "      <th>Home</th>\n",
       "      <th>Price</th>\n",
       "      <th>SqFt</th>\n",
       "      <th>Bedrooms</th>\n",
       "      <th>Bathrooms</th>\n",
       "      <th>Offers</th>\n",
       "      <th>Brick</th>\n",
       "      <th>Neighborhood</th>\n",
       "    </tr>\n",
       "  </thead>\n",
       "  <tbody>\n",
       "    <tr>\n",
       "      <th>0</th>\n",
       "      <td>1</td>\n",
       "      <td>114300</td>\n",
       "      <td>1790</td>\n",
       "      <td>2</td>\n",
       "      <td>2</td>\n",
       "      <td>2</td>\n",
       "      <td>No</td>\n",
       "      <td>East</td>\n",
       "    </tr>\n",
       "    <tr>\n",
       "      <th>1</th>\n",
       "      <td>2</td>\n",
       "      <td>114200</td>\n",
       "      <td>2030</td>\n",
       "      <td>4</td>\n",
       "      <td>2</td>\n",
       "      <td>3</td>\n",
       "      <td>No</td>\n",
       "      <td>East</td>\n",
       "    </tr>\n",
       "    <tr>\n",
       "      <th>2</th>\n",
       "      <td>3</td>\n",
       "      <td>114800</td>\n",
       "      <td>1740</td>\n",
       "      <td>3</td>\n",
       "      <td>2</td>\n",
       "      <td>1</td>\n",
       "      <td>No</td>\n",
       "      <td>East</td>\n",
       "    </tr>\n",
       "    <tr>\n",
       "      <th>3</th>\n",
       "      <td>4</td>\n",
       "      <td>94700</td>\n",
       "      <td>1980</td>\n",
       "      <td>3</td>\n",
       "      <td>2</td>\n",
       "      <td>3</td>\n",
       "      <td>No</td>\n",
       "      <td>East</td>\n",
       "    </tr>\n",
       "    <tr>\n",
       "      <th>4</th>\n",
       "      <td>5</td>\n",
       "      <td>119800</td>\n",
       "      <td>2130</td>\n",
       "      <td>3</td>\n",
       "      <td>3</td>\n",
       "      <td>3</td>\n",
       "      <td>No</td>\n",
       "      <td>East</td>\n",
       "    </tr>\n",
       "    <tr>\n",
       "      <th>...</th>\n",
       "      <td>...</td>\n",
       "      <td>...</td>\n",
       "      <td>...</td>\n",
       "      <td>...</td>\n",
       "      <td>...</td>\n",
       "      <td>...</td>\n",
       "      <td>...</td>\n",
       "      <td>...</td>\n",
       "    </tr>\n",
       "    <tr>\n",
       "      <th>123</th>\n",
       "      <td>124</td>\n",
       "      <td>119700</td>\n",
       "      <td>1900</td>\n",
       "      <td>3</td>\n",
       "      <td>3</td>\n",
       "      <td>3</td>\n",
       "      <td>Yes</td>\n",
       "      <td>East</td>\n",
       "    </tr>\n",
       "    <tr>\n",
       "      <th>124</th>\n",
       "      <td>125</td>\n",
       "      <td>147900</td>\n",
       "      <td>2160</td>\n",
       "      <td>4</td>\n",
       "      <td>3</td>\n",
       "      <td>3</td>\n",
       "      <td>Yes</td>\n",
       "      <td>East</td>\n",
       "    </tr>\n",
       "    <tr>\n",
       "      <th>125</th>\n",
       "      <td>126</td>\n",
       "      <td>113500</td>\n",
       "      <td>2070</td>\n",
       "      <td>2</td>\n",
       "      <td>2</td>\n",
       "      <td>2</td>\n",
       "      <td>No</td>\n",
       "      <td>North</td>\n",
       "    </tr>\n",
       "    <tr>\n",
       "      <th>126</th>\n",
       "      <td>127</td>\n",
       "      <td>149900</td>\n",
       "      <td>2020</td>\n",
       "      <td>3</td>\n",
       "      <td>3</td>\n",
       "      <td>1</td>\n",
       "      <td>No</td>\n",
       "      <td>West</td>\n",
       "    </tr>\n",
       "    <tr>\n",
       "      <th>127</th>\n",
       "      <td>128</td>\n",
       "      <td>124600</td>\n",
       "      <td>2250</td>\n",
       "      <td>3</td>\n",
       "      <td>3</td>\n",
       "      <td>4</td>\n",
       "      <td>No</td>\n",
       "      <td>North</td>\n",
       "    </tr>\n",
       "  </tbody>\n",
       "</table>\n",
       "<p>128 rows × 8 columns</p>\n",
       "</div>"
      ],
      "text/plain": [
       "     Home   Price  SqFt  Bedrooms  Bathrooms  Offers Brick Neighborhood\n",
       "0       1  114300  1790         2          2       2    No         East\n",
       "1       2  114200  2030         4          2       3    No         East\n",
       "2       3  114800  1740         3          2       1    No         East\n",
       "3       4   94700  1980         3          2       3    No         East\n",
       "4       5  119800  2130         3          3       3    No         East\n",
       "..    ...     ...   ...       ...        ...     ...   ...          ...\n",
       "123   124  119700  1900         3          3       3   Yes         East\n",
       "124   125  147900  2160         4          3       3   Yes         East\n",
       "125   126  113500  2070         2          2       2    No        North\n",
       "126   127  149900  2020         3          3       1    No         West\n",
       "127   128  124600  2250         3          3       4    No        North\n",
       "\n",
       "[128 rows x 8 columns]"
      ]
     },
     "execution_count": 20,
     "metadata": {},
     "output_type": "execute_result"
    }
   ],
   "source": [
    "df"
   ]
  },
  {
   "cell_type": "markdown",
   "id": "09365c0a",
   "metadata": {},
   "source": [
    "# Understand Distribution of data  "
   ]
  },
  {
   "cell_type": "markdown",
   "id": "94cacf91",
   "metadata": {},
   "source": [
    "### Histogram/Boxplot for continuous"
   ]
  },
  {
   "cell_type": "code",
   "execution_count": 21,
   "id": "8a8233e0",
   "metadata": {},
   "outputs": [
    {
     "data": {
      "image/png": "[encoded data removed]",
      "text/plain": [
       "<Figure size 1440x360 with 1 Axes>"
      ]
     },
     "metadata": {},
     "output_type": "display_data"
    }
   ],
   "source": [
    "plt.figure(figsize=(20,5),facecolor='yellow')\n",
    "sns.set(style='white')\n",
    "sns.boxplot(data=df.select_dtypes(include=[int,float]))\n",
    "plt.xticks(rotation=90,fontsize=15,color='r')\n",
    "plt.yticks(rotation=0,fontsize=15,color='r')\n",
    "plt.show()"
   ]
  },
  {
   "cell_type": "markdown",
   "id": "2d37eb81",
   "metadata": {},
   "source": [
    "### Understand Relationships (correlations/associations) "
   ]
  },
  {
   "cell_type": "code",
   "execution_count": 22,
   "id": "964b7dff",
   "metadata": {},
   "outputs": [
    {
     "data": {
      "image/png": "[encoded data removed]",
      "text/plain": [
       "<Figure size 1440x720 with 2 Axes>"
      ]
     },
     "metadata": {},
     "output_type": "display_data"
    }
   ],
   "source": [
    "plt.figure(figsize=(20,10),facecolor='yellow')\n",
    "sns.set(style='white')\n",
    "sns.heatmap(df.corr(), cmap=\"YlGnBu\", annot = True)\n",
    "plt.show()"
   ]
  },
  {
   "cell_type": "code",
   "execution_count": 23,
   "id": "0ffa3bfa",
   "metadata": {},
   "outputs": [],
   "source": [
    "report_1 = pf.ProfileReport(df)"
   ]
  },
  {
   "cell_type": "code",
   "execution_count": 24,
   "id": "98e6093b",
   "metadata": {},
   "outputs": [
    {
     "data": {
      "application/vnd.jupyter.widget-view+json": {
       "model_id": "dac685303b704e4d844e612e87ec38bb",
       "version_major": 2,
       "version_minor": 0
      },
      "text/plain": [
       "Summarize dataset:   0%|          | 0/5 [00:00<?, ?it/s]"
      ]
     },
     "metadata": {},
     "output_type": "display_data"
    },
    {
     "data": {
      "application/vnd.jupyter.widget-view+json": {
       "model_id": "1065de8a16d449bfb60bcc4f00ca7db4",
       "version_major": 2,
       "version_minor": 0
      },
      "text/plain": [
       "Generate report structure:   0%|          | 0/1 [00:00<?, ?it/s]"
      ]
     },
     "metadata": {},
     "output_type": "display_data"
    },
    {
     "data": {
      "application/vnd.jupyter.widget-view+json": {
       "model_id": "a7088d021e7846638e79927c3acf6041",
       "version_major": 2,
       "version_minor": 0
      },
      "text/plain": [
       "Render HTML:   0%|          | 0/1 [00:00<?, ?it/s]"
      ]
     },
     "metadata": {},
     "output_type": "display_data"
    },
    {
     "data": {
      "application/vnd.jupyter.widget-view+json": {
       "model_id": "2c1d9345eec6407ea727084e0922245a",
       "version_major": 2,
       "version_minor": 0
      },
      "text/plain": [
       "Export report to file:   0%|          | 0/1 [00:00<?, ?it/s]"
      ]
     },
     "metadata": {},
     "output_type": "display_data"
    }
   ],
   "source": [
    "report_1.to_file(\"report_1.html\")"
   ]
  },
  {
   "cell_type": "code",
   "execution_count": 25,
   "id": "c6866dd4",
   "metadata": {},
   "outputs": [],
   "source": [
    "df =df.drop(columns=['Home'],axis=1)"
   ]
  },
  {
   "cell_type": "code",
   "execution_count": 26,
   "id": "4a27e8a5",
   "metadata": {},
   "outputs": [
    {
     "name": "stdout",
     "output_type": "stream",
     "text": [
      "<class 'pandas.core.frame.DataFrame'>\n",
      "RangeIndex: 128 entries, 0 to 127\n",
      "Data columns (total 7 columns):\n",
      " #   Column        Non-Null Count  Dtype \n",
      "---  ------        --------------  ----- \n",
      " 0   Price         128 non-null    int64 \n",
      " 1   SqFt          128 non-null    int64 \n",
      " 2   Bedrooms      128 non-null    int64 \n",
      " 3   Bathrooms     128 non-null    int64 \n",
      " 4   Offers        128 non-null    int64 \n",
      " 5   Brick         128 non-null    object\n",
      " 6   Neighborhood  128 non-null    object\n",
      "dtypes: int64(5), object(2)\n",
      "memory usage: 7.1+ KB\n"
     ]
    }
   ],
   "source": [
    "df.info()"
   ]
  },
  {
   "cell_type": "markdown",
   "id": "5c98d62c",
   "metadata": {},
   "source": [
    "# 2. Model Building Steps - Modeling Stage"
   ]
  },
  {
   "cell_type": "markdown",
   "id": "47db2112",
   "metadata": {},
   "source": [
    "### Handling Outliers--Cross sectional data"
   ]
  },
  {
   "cell_type": "code",
   "execution_count": 27,
   "id": "1a85fb33",
   "metadata": {},
   "outputs": [],
   "source": [
    "def outliers(x):\n",
    "    if ((x.dtype=='int')| (x.dtype=='float')):\n",
    "        Q1=x.quantile(0.25)\n",
    "        Q3=x.quantile(0.75)\n",
    "        IQR=Q3-Q1\n",
    "        x=x.clip(lower=Q1-1.5*IQR,upper=Q3+1.5*IQR)                                      \n",
    "    else :\n",
    "        x\n",
    "    return x"
   ]
  },
  {
   "cell_type": "code",
   "execution_count": 28,
   "id": "db3f6803",
   "metadata": {},
   "outputs": [
    {
     "data": {
      "text/html": [
       "<div>\n",
       "<style scoped>\n",
       "    .dataframe tbody tr th:only-of-type {\n",
       "        vertical-align: middle;\n",
       "    }\n",
       "\n",
       "    .dataframe tbody tr th {\n",
       "        vertical-align: top;\n",
       "    }\n",
       "\n",
       "    .dataframe thead th {\n",
       "        text-align: right;\n",
       "    }\n",
       "</style>\n",
       "<table border=\"1\" class=\"dataframe\">\n",
       "  <thead>\n",
       "    <tr style=\"text-align: right;\">\n",
       "      <th></th>\n",
       "      <th>Price</th>\n",
       "      <th>SqFt</th>\n",
       "      <th>Bedrooms</th>\n",
       "      <th>Bathrooms</th>\n",
       "      <th>Offers</th>\n",
       "      <th>Brick</th>\n",
       "      <th>Neighborhood</th>\n",
       "    </tr>\n",
       "  </thead>\n",
       "  <tbody>\n",
       "    <tr>\n",
       "      <th>0</th>\n",
       "      <td>114300</td>\n",
       "      <td>1790</td>\n",
       "      <td>2</td>\n",
       "      <td>2</td>\n",
       "      <td>2</td>\n",
       "      <td>No</td>\n",
       "      <td>East</td>\n",
       "    </tr>\n",
       "    <tr>\n",
       "      <th>1</th>\n",
       "      <td>114200</td>\n",
       "      <td>2030</td>\n",
       "      <td>4</td>\n",
       "      <td>2</td>\n",
       "      <td>3</td>\n",
       "      <td>No</td>\n",
       "      <td>East</td>\n",
       "    </tr>\n",
       "    <tr>\n",
       "      <th>2</th>\n",
       "      <td>114800</td>\n",
       "      <td>1740</td>\n",
       "      <td>3</td>\n",
       "      <td>2</td>\n",
       "      <td>1</td>\n",
       "      <td>No</td>\n",
       "      <td>East</td>\n",
       "    </tr>\n",
       "    <tr>\n",
       "      <th>3</th>\n",
       "      <td>94700</td>\n",
       "      <td>1980</td>\n",
       "      <td>3</td>\n",
       "      <td>2</td>\n",
       "      <td>3</td>\n",
       "      <td>No</td>\n",
       "      <td>East</td>\n",
       "    </tr>\n",
       "    <tr>\n",
       "      <th>4</th>\n",
       "      <td>119800</td>\n",
       "      <td>2130</td>\n",
       "      <td>3</td>\n",
       "      <td>3</td>\n",
       "      <td>3</td>\n",
       "      <td>No</td>\n",
       "      <td>East</td>\n",
       "    </tr>\n",
       "    <tr>\n",
       "      <th>...</th>\n",
       "      <td>...</td>\n",
       "      <td>...</td>\n",
       "      <td>...</td>\n",
       "      <td>...</td>\n",
       "      <td>...</td>\n",
       "      <td>...</td>\n",
       "      <td>...</td>\n",
       "    </tr>\n",
       "    <tr>\n",
       "      <th>123</th>\n",
       "      <td>119700</td>\n",
       "      <td>1900</td>\n",
       "      <td>3</td>\n",
       "      <td>3</td>\n",
       "      <td>3</td>\n",
       "      <td>Yes</td>\n",
       "      <td>East</td>\n",
       "    </tr>\n",
       "    <tr>\n",
       "      <th>124</th>\n",
       "      <td>147900</td>\n",
       "      <td>2160</td>\n",
       "      <td>4</td>\n",
       "      <td>3</td>\n",
       "      <td>3</td>\n",
       "      <td>Yes</td>\n",
       "      <td>East</td>\n",
       "    </tr>\n",
       "    <tr>\n",
       "      <th>125</th>\n",
       "      <td>113500</td>\n",
       "      <td>2070</td>\n",
       "      <td>2</td>\n",
       "      <td>2</td>\n",
       "      <td>2</td>\n",
       "      <td>No</td>\n",
       "      <td>North</td>\n",
       "    </tr>\n",
       "    <tr>\n",
       "      <th>126</th>\n",
       "      <td>149900</td>\n",
       "      <td>2020</td>\n",
       "      <td>3</td>\n",
       "      <td>3</td>\n",
       "      <td>1</td>\n",
       "      <td>No</td>\n",
       "      <td>West</td>\n",
       "    </tr>\n",
       "    <tr>\n",
       "      <th>127</th>\n",
       "      <td>124600</td>\n",
       "      <td>2250</td>\n",
       "      <td>3</td>\n",
       "      <td>3</td>\n",
       "      <td>4</td>\n",
       "      <td>No</td>\n",
       "      <td>North</td>\n",
       "    </tr>\n",
       "  </tbody>\n",
       "</table>\n",
       "<p>128 rows × 7 columns</p>\n",
       "</div>"
      ],
      "text/plain": [
       "      Price  SqFt  Bedrooms  Bathrooms  Offers Brick Neighborhood\n",
       "0    114300  1790         2          2       2    No         East\n",
       "1    114200  2030         4          2       3    No         East\n",
       "2    114800  1740         3          2       1    No         East\n",
       "3     94700  1980         3          2       3    No         East\n",
       "4    119800  2130         3          3       3    No         East\n",
       "..      ...   ...       ...        ...     ...   ...          ...\n",
       "123  119700  1900         3          3       3   Yes         East\n",
       "124  147900  2160         4          3       3   Yes         East\n",
       "125  113500  2070         2          2       2    No        North\n",
       "126  149900  2020         3          3       1    No         West\n",
       "127  124600  2250         3          3       4    No        North\n",
       "\n",
       "[128 rows x 7 columns]"
      ]
     },
     "execution_count": 28,
     "metadata": {},
     "output_type": "execute_result"
    }
   ],
   "source": [
    "df=df.apply(outliers)\n",
    "df"
   ]
  },
  {
   "cell_type": "code",
   "execution_count": 29,
   "id": "199b87aa",
   "metadata": {},
   "outputs": [
    {
     "data": {
      "image/png": "[encoded data removed]",
      "text/plain": [
       "<Figure size 1440x360 with 1 Axes>"
      ]
     },
     "metadata": {},
     "output_type": "display_data"
    }
   ],
   "source": [
    "plt.figure(figsize=(20,5),facecolor='yellow')\n",
    "sns.set(style='white')\n",
    "sns.boxplot(data=df.select_dtypes(include=[int,float]))\n",
    "plt.xticks(rotation=90,fontsize=15,color='r')\n",
    "plt.yticks(rotation=0,fontsize=15,color='r')\n",
    "plt.show()"
   ]
  },
  {
   "cell_type": "code",
   "execution_count": 30,
   "id": "4fa940ff",
   "metadata": {},
   "outputs": [
    {
     "name": "stdout",
     "output_type": "stream",
     "text": [
      "81570.0\n",
      "69100\n",
      "196476.00000000006\n",
      "211200\n"
     ]
    }
   ],
   "source": [
    "print(df.Price.quantile(0.01))\n",
    "print(df.Price.min())\n",
    "print(df.Price.quantile(0.99))\n",
    "print(df.Price.max())"
   ]
  },
  {
   "cell_type": "code",
   "execution_count": 31,
   "id": "e766920b",
   "metadata": {},
   "outputs": [
    {
     "name": "stdout",
     "output_type": "stream",
     "text": [
      "<class 'pandas.core.frame.DataFrame'>\n",
      "RangeIndex: 128 entries, 0 to 127\n",
      "Data columns (total 7 columns):\n",
      " #   Column        Non-Null Count  Dtype \n",
      "---  ------        --------------  ----- \n",
      " 0   Price         128 non-null    int64 \n",
      " 1   SqFt          128 non-null    int64 \n",
      " 2   Bedrooms      128 non-null    int64 \n",
      " 3   Bathrooms     128 non-null    int64 \n",
      " 4   Offers        128 non-null    int64 \n",
      " 5   Brick         128 non-null    object\n",
      " 6   Neighborhood  128 non-null    object\n",
      "dtypes: int64(5), object(2)\n",
      "memory usage: 7.1+ KB\n"
     ]
    }
   ],
   "source": [
    "df.info()"
   ]
  },
  {
   "cell_type": "markdown",
   "id": "540bebfc",
   "metadata": {},
   "source": [
    "### Converting categorical variables into numercal variables--- Ordinal variables (Label encoding)"
   ]
  },
  {
   "cell_type": "code",
   "execution_count": 32,
   "id": "71d3cf67",
   "metadata": {
    "scrolled": true
   },
   "outputs": [
    {
     "name": "stdout",
     "output_type": "stream",
     "text": [
      "\n",
      "Brick\n",
      "No     86\n",
      "Yes    42\n",
      "Name: Brick, dtype: int64\n",
      "\n",
      "Neighborhood\n",
      "East     45\n",
      "North    44\n",
      "West     39\n",
      "Name: Neighborhood, dtype: int64\n"
     ]
    }
   ],
   "source": [
    "for var in df.select_dtypes(include='object').columns:\n",
    "     print(\"\\n\" + var)\n",
    "     print(df[var].value_counts())"
   ]
  },
  {
   "cell_type": "code",
   "execution_count": 33,
   "id": "a0b82528",
   "metadata": {},
   "outputs": [],
   "source": [
    "df1= pd.get_dummies(df,columns=['Brick','Neighborhood'],drop_first=True) # converting categorical into numerical"
   ]
  },
  {
   "cell_type": "code",
   "execution_count": 34,
   "id": "1caa08b3",
   "metadata": {},
   "outputs": [
    {
     "name": "stdout",
     "output_type": "stream",
     "text": [
      "<class 'pandas.core.frame.DataFrame'>\n",
      "RangeIndex: 128 entries, 0 to 127\n",
      "Data columns (total 8 columns):\n",
      " #   Column              Non-Null Count  Dtype\n",
      "---  ------              --------------  -----\n",
      " 0   Price               128 non-null    int64\n",
      " 1   SqFt                128 non-null    int64\n",
      " 2   Bedrooms            128 non-null    int64\n",
      " 3   Bathrooms           128 non-null    int64\n",
      " 4   Offers              128 non-null    int64\n",
      " 5   Brick_Yes           128 non-null    uint8\n",
      " 6   Neighborhood_North  128 non-null    uint8\n",
      " 7   Neighborhood_West   128 non-null    uint8\n",
      "dtypes: int64(5), uint8(3)\n",
      "memory usage: 5.5 KB\n"
     ]
    }
   ],
   "source": [
    "df1.info()"
   ]
  },
  {
   "cell_type": "markdown",
   "id": "35fe2ba5",
   "metadata": {},
   "source": [
    "### Assumptions of the techniques--Normality/Linearity/No outliers/No Multicollinieirty/Homoscedasticity"
   ]
  },
  {
   "cell_type": "code",
   "execution_count": 35,
   "id": "3b7db286",
   "metadata": {
    "scrolled": true
   },
   "outputs": [
    {
     "name": "stderr",
     "output_type": "stream",
     "text": [
      "C:\\Users\\putta\\anaconda3\\lib\\site-packages\\seaborn\\distributions.py:2619: FutureWarning: `distplot` is a deprecated function and will be removed in a future version. Please adapt your code to use either `displot` (a figure-level function with similar flexibility) or `histplot` (an axes-level function for histograms).\n",
      "  warnings.warn(msg, FutureWarning)\n"
     ]
    },
    {
     "data": {
      "text/plain": [
       "<AxesSubplot:xlabel='Price', ylabel='Density'>"
      ]
     },
     "execution_count": 35,
     "metadata": {},
     "output_type": "execute_result"
    },
    {
     "data": {
      "image/png": "[encoded data removed]",
      "text/plain": [
       "<Figure size 432x288 with 1 Axes>"
      ]
     },
     "metadata": {},
     "output_type": "display_data"
    }
   ],
   "source": [
    "sns.distplot(df1.Price) # left skewness"
   ]
  },
  {
   "cell_type": "code",
   "execution_count": 36,
   "id": "cdedbbbd",
   "metadata": {},
   "outputs": [
    {
     "name": "stderr",
     "output_type": "stream",
     "text": [
      "C:\\Users\\putta\\anaconda3\\lib\\site-packages\\seaborn\\distributions.py:2619: FutureWarning: `distplot` is a deprecated function and will be removed in a future version. Please adapt your code to use either `displot` (a figure-level function with similar flexibility) or `histplot` (an axes-level function for histograms).\n",
      "  warnings.warn(msg, FutureWarning)\n"
     ]
    },
    {
     "data": {
      "text/plain": [
       "<AxesSubplot:xlabel='Price', ylabel='Density'>"
      ]
     },
     "execution_count": 36,
     "metadata": {},
     "output_type": "execute_result"
    },
    {
     "data": {
      "image/png": "[encoded data removed]",
      "text/plain": [
       "<Figure size 432x288 with 1 Axes>"
      ]
     },
     "metadata": {},
     "output_type": "display_data"
    }
   ],
   "source": [
    "sns.distplot(np.log(df1.Price))"
   ]
  },
  {
   "cell_type": "code",
   "execution_count": 37,
   "id": "9daccf22",
   "metadata": {},
   "outputs": [],
   "source": [
    "df1['lnPrice'] = np.log(df1.Price)"
   ]
  },
  {
   "cell_type": "code",
   "execution_count": 38,
   "id": "698329c4",
   "metadata": {},
   "outputs": [],
   "source": [
    "df1=df1.drop('Price',axis=1)"
   ]
  },
  {
   "cell_type": "code",
   "execution_count": 39,
   "id": "050a1667",
   "metadata": {},
   "outputs": [
    {
     "data": {
      "text/html": [
       "<div>\n",
       "<style scoped>\n",
       "    .dataframe tbody tr th:only-of-type {\n",
       "        vertical-align: middle;\n",
       "    }\n",
       "\n",
       "    .dataframe tbody tr th {\n",
       "        vertical-align: top;\n",
       "    }\n",
       "\n",
       "    .dataframe thead th {\n",
       "        text-align: right;\n",
       "    }\n",
       "</style>\n",
       "<table border=\"1\" class=\"dataframe\">\n",
       "  <thead>\n",
       "    <tr style=\"text-align: right;\">\n",
       "      <th></th>\n",
       "      <th>SqFt</th>\n",
       "      <th>Bedrooms</th>\n",
       "      <th>Bathrooms</th>\n",
       "      <th>Offers</th>\n",
       "      <th>Brick_Yes</th>\n",
       "      <th>Neighborhood_North</th>\n",
       "      <th>Neighborhood_West</th>\n",
       "      <th>lnPrice</th>\n",
       "    </tr>\n",
       "  </thead>\n",
       "  <tbody>\n",
       "    <tr>\n",
       "      <th>0</th>\n",
       "      <td>1790</td>\n",
       "      <td>2</td>\n",
       "      <td>2</td>\n",
       "      <td>2</td>\n",
       "      <td>0</td>\n",
       "      <td>0</td>\n",
       "      <td>0</td>\n",
       "      <td>11.646582</td>\n",
       "    </tr>\n",
       "    <tr>\n",
       "      <th>1</th>\n",
       "      <td>2030</td>\n",
       "      <td>4</td>\n",
       "      <td>2</td>\n",
       "      <td>3</td>\n",
       "      <td>0</td>\n",
       "      <td>0</td>\n",
       "      <td>0</td>\n",
       "      <td>11.645707</td>\n",
       "    </tr>\n",
       "    <tr>\n",
       "      <th>2</th>\n",
       "      <td>1740</td>\n",
       "      <td>3</td>\n",
       "      <td>2</td>\n",
       "      <td>1</td>\n",
       "      <td>0</td>\n",
       "      <td>0</td>\n",
       "      <td>0</td>\n",
       "      <td>11.650947</td>\n",
       "    </tr>\n",
       "    <tr>\n",
       "      <th>3</th>\n",
       "      <td>1980</td>\n",
       "      <td>3</td>\n",
       "      <td>2</td>\n",
       "      <td>3</td>\n",
       "      <td>0</td>\n",
       "      <td>0</td>\n",
       "      <td>0</td>\n",
       "      <td>11.458469</td>\n",
       "    </tr>\n",
       "    <tr>\n",
       "      <th>4</th>\n",
       "      <td>2130</td>\n",
       "      <td>3</td>\n",
       "      <td>3</td>\n",
       "      <td>3</td>\n",
       "      <td>0</td>\n",
       "      <td>0</td>\n",
       "      <td>0</td>\n",
       "      <td>11.693579</td>\n",
       "    </tr>\n",
       "    <tr>\n",
       "      <th>...</th>\n",
       "      <td>...</td>\n",
       "      <td>...</td>\n",
       "      <td>...</td>\n",
       "      <td>...</td>\n",
       "      <td>...</td>\n",
       "      <td>...</td>\n",
       "      <td>...</td>\n",
       "      <td>...</td>\n",
       "    </tr>\n",
       "    <tr>\n",
       "      <th>123</th>\n",
       "      <td>1900</td>\n",
       "      <td>3</td>\n",
       "      <td>3</td>\n",
       "      <td>3</td>\n",
       "      <td>1</td>\n",
       "      <td>0</td>\n",
       "      <td>0</td>\n",
       "      <td>11.692744</td>\n",
       "    </tr>\n",
       "    <tr>\n",
       "      <th>124</th>\n",
       "      <td>2160</td>\n",
       "      <td>4</td>\n",
       "      <td>3</td>\n",
       "      <td>3</td>\n",
       "      <td>1</td>\n",
       "      <td>0</td>\n",
       "      <td>0</td>\n",
       "      <td>11.904292</td>\n",
       "    </tr>\n",
       "    <tr>\n",
       "      <th>125</th>\n",
       "      <td>2070</td>\n",
       "      <td>2</td>\n",
       "      <td>2</td>\n",
       "      <td>2</td>\n",
       "      <td>0</td>\n",
       "      <td>1</td>\n",
       "      <td>0</td>\n",
       "      <td>11.639558</td>\n",
       "    </tr>\n",
       "    <tr>\n",
       "      <th>126</th>\n",
       "      <td>2020</td>\n",
       "      <td>3</td>\n",
       "      <td>3</td>\n",
       "      <td>1</td>\n",
       "      <td>0</td>\n",
       "      <td>0</td>\n",
       "      <td>1</td>\n",
       "      <td>11.917724</td>\n",
       "    </tr>\n",
       "    <tr>\n",
       "      <th>127</th>\n",
       "      <td>2250</td>\n",
       "      <td>3</td>\n",
       "      <td>3</td>\n",
       "      <td>4</td>\n",
       "      <td>0</td>\n",
       "      <td>1</td>\n",
       "      <td>0</td>\n",
       "      <td>11.732864</td>\n",
       "    </tr>\n",
       "  </tbody>\n",
       "</table>\n",
       "<p>128 rows × 8 columns</p>\n",
       "</div>"
      ],
      "text/plain": [
       "     SqFt  Bedrooms  Bathrooms  Offers  Brick_Yes  Neighborhood_North  \\\n",
       "0    1790         2          2       2          0                   0   \n",
       "1    2030         4          2       3          0                   0   \n",
       "2    1740         3          2       1          0                   0   \n",
       "3    1980         3          2       3          0                   0   \n",
       "4    2130         3          3       3          0                   0   \n",
       "..    ...       ...        ...     ...        ...                 ...   \n",
       "123  1900         3          3       3          1                   0   \n",
       "124  2160         4          3       3          1                   0   \n",
       "125  2070         2          2       2          0                   1   \n",
       "126  2020         3          3       1          0                   0   \n",
       "127  2250         3          3       4          0                   1   \n",
       "\n",
       "     Neighborhood_West    lnPrice  \n",
       "0                    0  11.646582  \n",
       "1                    0  11.645707  \n",
       "2                    0  11.650947  \n",
       "3                    0  11.458469  \n",
       "4                    0  11.693579  \n",
       "..                 ...        ...  \n",
       "123                  0  11.692744  \n",
       "124                  0  11.904292  \n",
       "125                  0  11.639558  \n",
       "126                  1  11.917724  \n",
       "127                  0  11.732864  \n",
       "\n",
       "[128 rows x 8 columns]"
      ]
     },
     "execution_count": 39,
     "metadata": {},
     "output_type": "execute_result"
    }
   ],
   "source": [
    "df1"
   ]
  },
  {
   "cell_type": "code",
   "execution_count": 40,
   "id": "17e0c95f",
   "metadata": {},
   "outputs": [
    {
     "name": "stdout",
     "output_type": "stream",
     "text": [
      "<class 'pandas.core.frame.DataFrame'>\n",
      "RangeIndex: 128 entries, 0 to 127\n",
      "Data columns (total 8 columns):\n",
      " #   Column              Non-Null Count  Dtype  \n",
      "---  ------              --------------  -----  \n",
      " 0   SqFt                128 non-null    int64  \n",
      " 1   Bedrooms            128 non-null    int64  \n",
      " 2   Bathrooms           128 non-null    int64  \n",
      " 3   Offers              128 non-null    int64  \n",
      " 4   Brick_Yes           128 non-null    uint8  \n",
      " 5   Neighborhood_North  128 non-null    uint8  \n",
      " 6   Neighborhood_West   128 non-null    uint8  \n",
      " 7   lnPrice             128 non-null    float64\n",
      "dtypes: float64(1), int64(4), uint8(3)\n",
      "memory usage: 5.5 KB\n"
     ]
    }
   ],
   "source": [
    "df1.info()"
   ]
  },
  {
   "cell_type": "markdown",
   "id": "485a0a50",
   "metadata": {},
   "source": [
    "### Feature engineering"
   ]
  },
  {
   "cell_type": "markdown",
   "id": "07915aa3",
   "metadata": {},
   "source": [
    "- Based on the data, you may drop variables based on below reasons\n",
    "    - If the variable have lots of missings (>25%)\n",
    "    - if categorical Variable with lots categories(>20)\n",
    "    - Variable with near zero variance (CV<0.05)\n",
    "    - Unique variables/Keys/Names/Emaiid/Phone number"
   ]
  },
  {
   "cell_type": "markdown",
   "id": "6a7e54af",
   "metadata": {},
   "source": [
    "### Checking Linearity"
   ]
  },
  {
   "cell_type": "code",
   "execution_count": 41,
   "id": "bbc860fc",
   "metadata": {},
   "outputs": [],
   "source": [
    "corre_y = df1.corrwith(df1.lnPrice)"
   ]
  },
  {
   "cell_type": "code",
   "execution_count": 42,
   "id": "3dfedc34",
   "metadata": {},
   "outputs": [],
   "source": [
    "#corre_y.to_csv('corre_y.csv')"
   ]
  },
  {
   "cell_type": "code",
   "execution_count": 43,
   "id": "cdc8aaa6",
   "metadata": {
    "scrolled": true
   },
   "outputs": [
    {
     "name": "stdout",
     "output_type": "stream",
     "text": [
      "<class 'pandas.core.frame.DataFrame'>\n",
      "RangeIndex: 128 entries, 0 to 127\n",
      "Data columns (total 8 columns):\n",
      " #   Column              Non-Null Count  Dtype  \n",
      "---  ------              --------------  -----  \n",
      " 0   SqFt                128 non-null    int64  \n",
      " 1   Bedrooms            128 non-null    int64  \n",
      " 2   Bathrooms           128 non-null    int64  \n",
      " 3   Offers              128 non-null    int64  \n",
      " 4   Brick_Yes           128 non-null    uint8  \n",
      " 5   Neighborhood_North  128 non-null    uint8  \n",
      " 6   Neighborhood_West   128 non-null    uint8  \n",
      " 7   lnPrice             128 non-null    float64\n",
      "dtypes: float64(1), int64(4), uint8(3)\n",
      "memory usage: 5.5 KB\n"
     ]
    }
   ],
   "source": [
    "df1.info()"
   ]
  },
  {
   "cell_type": "code",
   "execution_count": 44,
   "id": "18a32bdb",
   "metadata": {},
   "outputs": [
    {
     "data": {
      "text/plain": [
       "Index(['SqFt', 'Bedrooms', 'Bathrooms', 'Offers', 'Brick_Yes',\n",
       "       'Neighborhood_North', 'Neighborhood_West', 'lnPrice'],\n",
       "      dtype='object')"
      ]
     },
     "execution_count": 44,
     "metadata": {},
     "output_type": "execute_result"
    }
   ],
   "source": [
    "df1.columns"
   ]
  },
  {
   "cell_type": "code",
   "execution_count": 45,
   "id": "afef9520",
   "metadata": {},
   "outputs": [],
   "source": [
    "df1=df1[['SqFt', 'Bedrooms', 'Bathrooms', 'Offers', 'Brick_Yes','Neighborhood_North', 'Neighborhood_West', 'lnPrice']]"
   ]
  },
  {
   "cell_type": "code",
   "execution_count": 46,
   "id": "a2ffb64b",
   "metadata": {},
   "outputs": [
    {
     "data": {
      "text/plain": [
       "SqFt                  0.105323\n",
       "Bedrooms              0.239168\n",
       "Bathrooms             0.209576\n",
       "Offers                0.413145\n",
       "Brick_Yes             1.430950\n",
       "Neighborhood_North    1.381699\n",
       "Neighborhood_West     1.510646\n",
       "lnPrice               0.017440\n",
       "dtype: float64"
      ]
     },
     "execution_count": 46,
     "metadata": {},
     "output_type": "execute_result"
    }
   ],
   "source": [
    "cv= df1.apply(lambda x:np.std(x)/np.mean(x))\n",
    "cv"
   ]
  },
  {
   "cell_type": "markdown",
   "id": "3ce232c5",
   "metadata": {},
   "source": [
    "### Multicolinieity by VIF"
   ]
  },
  {
   "cell_type": "code",
   "execution_count": 47,
   "id": "d7b7a6a9",
   "metadata": {},
   "outputs": [],
   "source": [
    "df2 = df1[df1.columns.difference(['lnPrice','SqFt','Bathrooms','Bedrooms'])]"
   ]
  },
  {
   "cell_type": "code",
   "execution_count": 48,
   "id": "f34613ad",
   "metadata": {},
   "outputs": [
    {
     "data": {
      "text/plain": [
       "array([[0, 0, 0, 2],\n",
       "       [0, 0, 0, 3],\n",
       "       [0, 0, 0, 1],\n",
       "       [0, 0, 0, 3],\n",
       "       [0, 0, 0, 3],\n",
       "       [0, 1, 0, 2],\n",
       "       [1, 0, 1, 3],\n",
       "       [0, 0, 1, 2],\n",
       "       [0, 0, 0, 3],\n",
       "       [0, 0, 0, 3],\n",
       "       [1, 0, 0, 3],\n",
       "       [1, 0, 0, 2],\n",
       "       [0, 1, 0, 4],\n",
       "       [1, 1, 0, 5],\n",
       "       [0, 0, 1, 4],\n",
       "       [0, 0, 1, 1],\n",
       "       [1, 0, 0, 4],\n",
       "       [0, 1, 0, 4],\n",
       "       [1, 0, 0, 1],\n",
       "       [1, 0, 1, 2],\n",
       "       [0, 0, 0, 3],\n",
       "       [0, 1, 0, 4],\n",
       "       [0, 1, 0, 3],\n",
       "       [1, 1, 0, 3],\n",
       "       [1, 0, 0, 2],\n",
       "       [0, 1, 0, 3],\n",
       "       [0, 0, 1, 3],\n",
       "       [0, 0, 0, 2],\n",
       "       [0, 1, 0, 3],\n",
       "       [1, 0, 1, 1],\n",
       "       [1, 0, 1, 3],\n",
       "       [1, 1, 0, 2],\n",
       "       [1, 0, 0, 3],\n",
       "       [1, 0, 0, 4],\n",
       "       [0, 1, 0, 3],\n",
       "       [0, 1, 0, 3],\n",
       "       [0, 1, 0, 2],\n",
       "       [0, 0, 1, 4],\n",
       "       [0, 0, 1, 1],\n",
       "       [0, 1, 0, 2],\n",
       "       [0, 0, 0, 1],\n",
       "       [0, 0, 1, 2],\n",
       "       [0, 0, 0, 3],\n",
       "       [1, 0, 0, 1],\n",
       "       [1, 0, 1, 2],\n",
       "       [0, 0, 0, 3],\n",
       "       [0, 1, 0, 2],\n",
       "       [0, 1, 0, 6],\n",
       "       [0, 0, 0, 2],\n",
       "       [1, 1, 0, 3],\n",
       "       [1, 0, 0, 3],\n",
       "       [0, 1, 0, 3],\n",
       "       [0, 1, 0, 4],\n",
       "       [0, 1, 0, 3],\n",
       "       [0, 1, 0, 3],\n",
       "       [1, 0, 0, 2],\n",
       "       [1, 0, 0, 3],\n",
       "       [0, 0, 1, 3],\n",
       "       [0, 0, 1, 1],\n",
       "       [0, 0, 1, 1],\n",
       "       [0, 0, 1, 1],\n",
       "       [0, 1, 0, 2],\n",
       "       [0, 0, 1, 2],\n",
       "       [0, 0, 0, 2],\n",
       "       [0, 0, 1, 2],\n",
       "       [1, 1, 0, 1],\n",
       "       [0, 1, 0, 4],\n",
       "       [0, 0, 0, 3],\n",
       "       [0, 1, 0, 4],\n",
       "       [0, 0, 1, 3],\n",
       "       [1, 0, 1, 3],\n",
       "       [0, 0, 1, 1],\n",
       "       [0, 1, 0, 3],\n",
       "       [0, 0, 0, 2],\n",
       "       [0, 0, 1, 3],\n",
       "       [0, 1, 0, 2],\n",
       "       [0, 0, 1, 2],\n",
       "       [1, 0, 1, 3],\n",
       "       [0, 1, 0, 3],\n",
       "       [0, 0, 1, 1],\n",
       "       [1, 0, 0, 4],\n",
       "       [1, 0, 1, 2],\n",
       "       [1, 0, 1, 1],\n",
       "       [0, 0, 0, 2],\n",
       "       [0, 1, 0, 3],\n",
       "       [1, 0, 1, 2],\n",
       "       [0, 1, 0, 4],\n",
       "       [1, 0, 1, 1],\n",
       "       [0, 1, 0, 2],\n",
       "       [0, 1, 0, 4],\n",
       "       [0, 0, 1, 2],\n",
       "       [0, 0, 0, 2],\n",
       "       [0, 0, 1, 2],\n",
       "       [0, 0, 0, 2],\n",
       "       [1, 0, 1, 3],\n",
       "       [1, 0, 1, 1],\n",
       "       [0, 0, 0, 3],\n",
       "       [1, 0, 0, 1],\n",
       "       [0, 0, 1, 1],\n",
       "       [1, 0, 1, 2],\n",
       "       [0, 1, 0, 5],\n",
       "       [0, 0, 0, 5],\n",
       "       [0, 0, 0, 4],\n",
       "       [1, 0, 1, 3],\n",
       "       [0, 0, 0, 4],\n",
       "       [0, 0, 1, 4],\n",
       "       [0, 1, 0, 4],\n",
       "       [1, 0, 0, 1],\n",
       "       [1, 0, 0, 3],\n",
       "       [0, 0, 0, 3],\n",
       "       [0, 1, 0, 1],\n",
       "       [0, 1, 0, 2],\n",
       "       [1, 0, 0, 2],\n",
       "       [1, 1, 0, 3],\n",
       "       [0, 0, 0, 2],\n",
       "       [0, 1, 0, 3],\n",
       "       [1, 0, 1, 1],\n",
       "       [0, 1, 0, 2],\n",
       "       [1, 1, 0, 3],\n",
       "       [0, 1, 0, 4],\n",
       "       [0, 1, 0, 3],\n",
       "       [0, 0, 0, 3],\n",
       "       [1, 0, 0, 1],\n",
       "       [1, 0, 0, 3],\n",
       "       [1, 0, 0, 3],\n",
       "       [0, 1, 0, 2],\n",
       "       [0, 0, 1, 1],\n",
       "       [0, 1, 0, 4]], dtype=int64)"
      ]
     },
     "execution_count": 48,
     "metadata": {},
     "output_type": "execute_result"
    }
   ],
   "source": [
    "df2.values # data frame to arrays"
   ]
  },
  {
   "cell_type": "code",
   "execution_count": 49,
   "id": "d8ff0c66",
   "metadata": {},
   "outputs": [
    {
     "data": {
      "text/plain": [
       "0             Brick_Yes\n",
       "1    Neighborhood_North\n",
       "2     Neighborhood_West\n",
       "3                Offers\n",
       "Name: variables, dtype: object"
      ]
     },
     "execution_count": 49,
     "metadata": {},
     "output_type": "execute_result"
    }
   ],
   "source": [
    "v1= pd.Series(df2.columns,name='variables')\n",
    "v1"
   ]
  },
  {
   "cell_type": "code",
   "execution_count": 50,
   "id": "1404e570",
   "metadata": {},
   "outputs": [
    {
     "data": {
      "text/plain": [
       "0    1.421890\n",
       "1    2.034330\n",
       "2    1.440907\n",
       "3    2.770734\n",
       "Name: vif, dtype: float64"
      ]
     },
     "execution_count": 50,
     "metadata": {},
     "output_type": "execute_result"
    }
   ],
   "source": [
    "v2 = pd.Series([variance_inflation_factor(df2.values,i) for i in range(0,df2.shape[1])],name='vif')\n",
    "v2   "
   ]
  },
  {
   "cell_type": "code",
   "execution_count": 51,
   "id": "5584bd30",
   "metadata": {},
   "outputs": [
    {
     "data": {
      "text/html": [
       "<div>\n",
       "<style scoped>\n",
       "    .dataframe tbody tr th:only-of-type {\n",
       "        vertical-align: middle;\n",
       "    }\n",
       "\n",
       "    .dataframe tbody tr th {\n",
       "        vertical-align: top;\n",
       "    }\n",
       "\n",
       "    .dataframe thead th {\n",
       "        text-align: right;\n",
       "    }\n",
       "</style>\n",
       "<table border=\"1\" class=\"dataframe\">\n",
       "  <thead>\n",
       "    <tr style=\"text-align: right;\">\n",
       "      <th></th>\n",
       "      <th>variables</th>\n",
       "      <th>vif</th>\n",
       "    </tr>\n",
       "  </thead>\n",
       "  <tbody>\n",
       "    <tr>\n",
       "      <th>0</th>\n",
       "      <td>Brick_Yes</td>\n",
       "      <td>1.421890</td>\n",
       "    </tr>\n",
       "    <tr>\n",
       "      <th>1</th>\n",
       "      <td>Neighborhood_North</td>\n",
       "      <td>2.034330</td>\n",
       "    </tr>\n",
       "    <tr>\n",
       "      <th>2</th>\n",
       "      <td>Neighborhood_West</td>\n",
       "      <td>1.440907</td>\n",
       "    </tr>\n",
       "    <tr>\n",
       "      <th>3</th>\n",
       "      <td>Offers</td>\n",
       "      <td>2.770734</td>\n",
       "    </tr>\n",
       "  </tbody>\n",
       "</table>\n",
       "</div>"
      ],
      "text/plain": [
       "            variables       vif\n",
       "0           Brick_Yes  1.421890\n",
       "1  Neighborhood_North  2.034330\n",
       "2   Neighborhood_West  1.440907\n",
       "3              Offers  2.770734"
      ]
     },
     "execution_count": 51,
     "metadata": {},
     "output_type": "execute_result"
    }
   ],
   "source": [
    "vif_values= pd.concat([v1,v2],axis=1)\n",
    "vif_values"
   ]
  },
  {
   "cell_type": "code",
   "execution_count": 52,
   "id": "9d43b15a",
   "metadata": {},
   "outputs": [
    {
     "data": {
      "text/html": [
       "<div>\n",
       "<style scoped>\n",
       "    .dataframe tbody tr th:only-of-type {\n",
       "        vertical-align: middle;\n",
       "    }\n",
       "\n",
       "    .dataframe tbody tr th {\n",
       "        vertical-align: top;\n",
       "    }\n",
       "\n",
       "    .dataframe thead th {\n",
       "        text-align: right;\n",
       "    }\n",
       "</style>\n",
       "<table border=\"1\" class=\"dataframe\">\n",
       "  <thead>\n",
       "    <tr style=\"text-align: right;\">\n",
       "      <th></th>\n",
       "      <th>variables</th>\n",
       "      <th>vif</th>\n",
       "    </tr>\n",
       "  </thead>\n",
       "  <tbody>\n",
       "    <tr>\n",
       "      <th>3</th>\n",
       "      <td>Offers</td>\n",
       "      <td>2.770734</td>\n",
       "    </tr>\n",
       "    <tr>\n",
       "      <th>1</th>\n",
       "      <td>Neighborhood_North</td>\n",
       "      <td>2.034330</td>\n",
       "    </tr>\n",
       "    <tr>\n",
       "      <th>2</th>\n",
       "      <td>Neighborhood_West</td>\n",
       "      <td>1.440907</td>\n",
       "    </tr>\n",
       "    <tr>\n",
       "      <th>0</th>\n",
       "      <td>Brick_Yes</td>\n",
       "      <td>1.421890</td>\n",
       "    </tr>\n",
       "  </tbody>\n",
       "</table>\n",
       "</div>"
      ],
      "text/plain": [
       "            variables       vif\n",
       "3              Offers  2.770734\n",
       "1  Neighborhood_North  2.034330\n",
       "2   Neighborhood_West  1.440907\n",
       "0           Brick_Yes  1.421890"
      ]
     },
     "execution_count": 52,
     "metadata": {},
     "output_type": "execute_result"
    }
   ],
   "source": [
    "vif_values= vif_values.sort_values(by='vif',ascending=False)\n",
    "vif_values"
   ]
  },
  {
   "cell_type": "code",
   "execution_count": 53,
   "id": "0460f90e",
   "metadata": {},
   "outputs": [
    {
     "data": {
      "text/html": [
       "<div>\n",
       "<style scoped>\n",
       "    .dataframe tbody tr th:only-of-type {\n",
       "        vertical-align: middle;\n",
       "    }\n",
       "\n",
       "    .dataframe tbody tr th {\n",
       "        vertical-align: top;\n",
       "    }\n",
       "\n",
       "    .dataframe thead th {\n",
       "        text-align: right;\n",
       "    }\n",
       "</style>\n",
       "<table border=\"1\" class=\"dataframe\">\n",
       "  <thead>\n",
       "    <tr style=\"text-align: right;\">\n",
       "      <th></th>\n",
       "      <th>Features</th>\n",
       "      <th>VIF</th>\n",
       "    </tr>\n",
       "  </thead>\n",
       "  <tbody>\n",
       "    <tr>\n",
       "      <th>3</th>\n",
       "      <td>Offers</td>\n",
       "      <td>2.77</td>\n",
       "    </tr>\n",
       "    <tr>\n",
       "      <th>1</th>\n",
       "      <td>Neighborhood_North</td>\n",
       "      <td>2.03</td>\n",
       "    </tr>\n",
       "    <tr>\n",
       "      <th>2</th>\n",
       "      <td>Neighborhood_West</td>\n",
       "      <td>1.44</td>\n",
       "    </tr>\n",
       "    <tr>\n",
       "      <th>0</th>\n",
       "      <td>Brick_Yes</td>\n",
       "      <td>1.42</td>\n",
       "    </tr>\n",
       "  </tbody>\n",
       "</table>\n",
       "</div>"
      ],
      "text/plain": [
       "             Features   VIF\n",
       "3              Offers  2.77\n",
       "1  Neighborhood_North  2.03\n",
       "2   Neighborhood_West  1.44\n",
       "0           Brick_Yes  1.42"
      ]
     },
     "execution_count": 53,
     "metadata": {},
     "output_type": "execute_result"
    }
   ],
   "source": [
    "vif = pd.DataFrame()\n",
    "vif['Features'] = df2.columns\n",
    "vif['VIF'] = [variance_inflation_factor(df2.values, i) for i in range(df2.shape[1])]\n",
    "vif['VIF'] = round(vif['VIF'], 2)\n",
    "vif = vif.sort_values(by = \"VIF\", ascending = False)\n",
    "vif"
   ]
  },
  {
   "cell_type": "code",
   "execution_count": 54,
   "id": "a11fd7aa",
   "metadata": {},
   "outputs": [
    {
     "data": {
      "text/html": [
       "<div>\n",
       "<style scoped>\n",
       "    .dataframe tbody tr th:only-of-type {\n",
       "        vertical-align: middle;\n",
       "    }\n",
       "\n",
       "    .dataframe tbody tr th {\n",
       "        vertical-align: top;\n",
       "    }\n",
       "\n",
       "    .dataframe thead th {\n",
       "        text-align: right;\n",
       "    }\n",
       "</style>\n",
       "<table border=\"1\" class=\"dataframe\">\n",
       "  <thead>\n",
       "    <tr style=\"text-align: right;\">\n",
       "      <th></th>\n",
       "      <th>Brick_Yes</th>\n",
       "      <th>Neighborhood_North</th>\n",
       "      <th>Neighborhood_West</th>\n",
       "      <th>Offers</th>\n",
       "      <th>lnPrice</th>\n",
       "    </tr>\n",
       "  </thead>\n",
       "  <tbody>\n",
       "    <tr>\n",
       "      <th>0</th>\n",
       "      <td>0</td>\n",
       "      <td>0</td>\n",
       "      <td>0</td>\n",
       "      <td>2</td>\n",
       "      <td>11.646582</td>\n",
       "    </tr>\n",
       "    <tr>\n",
       "      <th>1</th>\n",
       "      <td>0</td>\n",
       "      <td>0</td>\n",
       "      <td>0</td>\n",
       "      <td>3</td>\n",
       "      <td>11.645707</td>\n",
       "    </tr>\n",
       "    <tr>\n",
       "      <th>2</th>\n",
       "      <td>0</td>\n",
       "      <td>0</td>\n",
       "      <td>0</td>\n",
       "      <td>1</td>\n",
       "      <td>11.650947</td>\n",
       "    </tr>\n",
       "    <tr>\n",
       "      <th>3</th>\n",
       "      <td>0</td>\n",
       "      <td>0</td>\n",
       "      <td>0</td>\n",
       "      <td>3</td>\n",
       "      <td>11.458469</td>\n",
       "    </tr>\n",
       "    <tr>\n",
       "      <th>4</th>\n",
       "      <td>0</td>\n",
       "      <td>0</td>\n",
       "      <td>0</td>\n",
       "      <td>3</td>\n",
       "      <td>11.693579</td>\n",
       "    </tr>\n",
       "    <tr>\n",
       "      <th>...</th>\n",
       "      <td>...</td>\n",
       "      <td>...</td>\n",
       "      <td>...</td>\n",
       "      <td>...</td>\n",
       "      <td>...</td>\n",
       "    </tr>\n",
       "    <tr>\n",
       "      <th>123</th>\n",
       "      <td>1</td>\n",
       "      <td>0</td>\n",
       "      <td>0</td>\n",
       "      <td>3</td>\n",
       "      <td>11.692744</td>\n",
       "    </tr>\n",
       "    <tr>\n",
       "      <th>124</th>\n",
       "      <td>1</td>\n",
       "      <td>0</td>\n",
       "      <td>0</td>\n",
       "      <td>3</td>\n",
       "      <td>11.904292</td>\n",
       "    </tr>\n",
       "    <tr>\n",
       "      <th>125</th>\n",
       "      <td>0</td>\n",
       "      <td>1</td>\n",
       "      <td>0</td>\n",
       "      <td>2</td>\n",
       "      <td>11.639558</td>\n",
       "    </tr>\n",
       "    <tr>\n",
       "      <th>126</th>\n",
       "      <td>0</td>\n",
       "      <td>0</td>\n",
       "      <td>1</td>\n",
       "      <td>1</td>\n",
       "      <td>11.917724</td>\n",
       "    </tr>\n",
       "    <tr>\n",
       "      <th>127</th>\n",
       "      <td>0</td>\n",
       "      <td>1</td>\n",
       "      <td>0</td>\n",
       "      <td>4</td>\n",
       "      <td>11.732864</td>\n",
       "    </tr>\n",
       "  </tbody>\n",
       "</table>\n",
       "<p>128 rows × 5 columns</p>\n",
       "</div>"
      ],
      "text/plain": [
       "     Brick_Yes  Neighborhood_North  Neighborhood_West  Offers    lnPrice\n",
       "0            0                   0                  0       2  11.646582\n",
       "1            0                   0                  0       3  11.645707\n",
       "2            0                   0                  0       1  11.650947\n",
       "3            0                   0                  0       3  11.458469\n",
       "4            0                   0                  0       3  11.693579\n",
       "..         ...                 ...                ...     ...        ...\n",
       "123          1                   0                  0       3  11.692744\n",
       "124          1                   0                  0       3  11.904292\n",
       "125          0                   1                  0       2  11.639558\n",
       "126          0                   0                  1       1  11.917724\n",
       "127          0                   1                  0       4  11.732864\n",
       "\n",
       "[128 rows x 5 columns]"
      ]
     },
     "execution_count": 54,
     "metadata": {},
     "output_type": "execute_result"
    }
   ],
   "source": [
    "df_final=df1[df1.columns.difference(['SqFt','Bathrooms','Bedrooms'])]\n",
    "df_final"
   ]
  },
  {
   "cell_type": "code",
   "execution_count": 55,
   "id": "300486a0",
   "metadata": {},
   "outputs": [
    {
     "data": {
      "image/png": "[encoded data removed]",
      "text/plain": [
       "<Figure size 1440x720 with 2 Axes>"
      ]
     },
     "metadata": {},
     "output_type": "display_data"
    }
   ],
   "source": [
    "plt.figure(figsize=(20,10),facecolor='yellow')\n",
    "sns.set(style='white')\n",
    "sns.heatmap(df_final.corr(), cmap=\"YlGnBu\", annot = True)\n",
    "plt.show()"
   ]
  },
  {
   "cell_type": "markdown",
   "id": "11a45880",
   "metadata": {},
   "source": [
    "###  Splitting the data into train & Test"
   ]
  },
  {
   "cell_type": "code",
   "execution_count": 56,
   "id": "1d667cbe",
   "metadata": {},
   "outputs": [],
   "source": [
    "train,test =train_test_split(df_final,test_size=0.3,random_state=123)"
   ]
  },
  {
   "cell_type": "code",
   "execution_count": 57,
   "id": "89cdab66",
   "metadata": {},
   "outputs": [
    {
     "data": {
      "text/html": [
       "<div>\n",
       "<style scoped>\n",
       "    .dataframe tbody tr th:only-of-type {\n",
       "        vertical-align: middle;\n",
       "    }\n",
       "\n",
       "    .dataframe tbody tr th {\n",
       "        vertical-align: top;\n",
       "    }\n",
       "\n",
       "    .dataframe thead th {\n",
       "        text-align: right;\n",
       "    }\n",
       "</style>\n",
       "<table border=\"1\" class=\"dataframe\">\n",
       "  <thead>\n",
       "    <tr style=\"text-align: right;\">\n",
       "      <th></th>\n",
       "      <th>Brick_Yes</th>\n",
       "      <th>Neighborhood_North</th>\n",
       "      <th>Neighborhood_West</th>\n",
       "      <th>Offers</th>\n",
       "      <th>lnPrice</th>\n",
       "    </tr>\n",
       "  </thead>\n",
       "  <tbody>\n",
       "    <tr>\n",
       "      <th>79</th>\n",
       "      <td>0</td>\n",
       "      <td>0</td>\n",
       "      <td>1</td>\n",
       "      <td>1</td>\n",
       "      <td>11.874787</td>\n",
       "    </tr>\n",
       "    <tr>\n",
       "      <th>104</th>\n",
       "      <td>0</td>\n",
       "      <td>0</td>\n",
       "      <td>0</td>\n",
       "      <td>4</td>\n",
       "      <td>11.318126</td>\n",
       "    </tr>\n",
       "    <tr>\n",
       "      <th>60</th>\n",
       "      <td>0</td>\n",
       "      <td>0</td>\n",
       "      <td>1</td>\n",
       "      <td>1</td>\n",
       "      <td>12.105700</td>\n",
       "    </tr>\n",
       "    <tr>\n",
       "      <th>21</th>\n",
       "      <td>0</td>\n",
       "      <td>1</td>\n",
       "      <td>0</td>\n",
       "      <td>4</td>\n",
       "      <td>11.642198</td>\n",
       "    </tr>\n",
       "    <tr>\n",
       "      <th>11</th>\n",
       "      <td>1</td>\n",
       "      <td>0</td>\n",
       "      <td>0</td>\n",
       "      <td>2</td>\n",
       "      <td>11.719940</td>\n",
       "    </tr>\n",
       "  </tbody>\n",
       "</table>\n",
       "</div>"
      ],
      "text/plain": [
       "     Brick_Yes  Neighborhood_North  Neighborhood_West  Offers    lnPrice\n",
       "79           0                   0                  1       1  11.874787\n",
       "104          0                   0                  0       4  11.318126\n",
       "60           0                   0                  1       1  12.105700\n",
       "21           0                   1                  0       4  11.642198\n",
       "11           1                   0                  0       2  11.719940"
      ]
     },
     "execution_count": 57,
     "metadata": {},
     "output_type": "execute_result"
    }
   ],
   "source": [
    "train.head(5)"
   ]
  },
  {
   "cell_type": "code",
   "execution_count": 58,
   "id": "14f6b53d",
   "metadata": {},
   "outputs": [
    {
     "data": {
      "text/html": [
       "<div>\n",
       "<style scoped>\n",
       "    .dataframe tbody tr th:only-of-type {\n",
       "        vertical-align: middle;\n",
       "    }\n",
       "\n",
       "    .dataframe tbody tr th {\n",
       "        vertical-align: top;\n",
       "    }\n",
       "\n",
       "    .dataframe thead th {\n",
       "        text-align: right;\n",
       "    }\n",
       "</style>\n",
       "<table border=\"1\" class=\"dataframe\">\n",
       "  <thead>\n",
       "    <tr style=\"text-align: right;\">\n",
       "      <th></th>\n",
       "      <th>Brick_Yes</th>\n",
       "      <th>Neighborhood_North</th>\n",
       "      <th>Neighborhood_West</th>\n",
       "      <th>Offers</th>\n",
       "      <th>lnPrice</th>\n",
       "    </tr>\n",
       "  </thead>\n",
       "  <tbody>\n",
       "    <tr>\n",
       "      <th>4</th>\n",
       "      <td>0</td>\n",
       "      <td>0</td>\n",
       "      <td>0</td>\n",
       "      <td>3</td>\n",
       "      <td>11.693579</td>\n",
       "    </tr>\n",
       "    <tr>\n",
       "      <th>123</th>\n",
       "      <td>1</td>\n",
       "      <td>0</td>\n",
       "      <td>0</td>\n",
       "      <td>3</td>\n",
       "      <td>11.692744</td>\n",
       "    </tr>\n",
       "    <tr>\n",
       "      <th>90</th>\n",
       "      <td>0</td>\n",
       "      <td>0</td>\n",
       "      <td>1</td>\n",
       "      <td>2</td>\n",
       "      <td>11.871299</td>\n",
       "    </tr>\n",
       "    <tr>\n",
       "      <th>82</th>\n",
       "      <td>1</td>\n",
       "      <td>0</td>\n",
       "      <td>1</td>\n",
       "      <td>1</td>\n",
       "      <td>12.012488</td>\n",
       "    </tr>\n",
       "    <tr>\n",
       "      <th>42</th>\n",
       "      <td>0</td>\n",
       "      <td>0</td>\n",
       "      <td>0</td>\n",
       "      <td>3</td>\n",
       "      <td>11.567414</td>\n",
       "    </tr>\n",
       "  </tbody>\n",
       "</table>\n",
       "</div>"
      ],
      "text/plain": [
       "     Brick_Yes  Neighborhood_North  Neighborhood_West  Offers    lnPrice\n",
       "4            0                   0                  0       3  11.693579\n",
       "123          1                   0                  0       3  11.692744\n",
       "90           0                   0                  1       2  11.871299\n",
       "82           1                   0                  1       1  12.012488\n",
       "42           0                   0                  0       3  11.567414"
      ]
     },
     "execution_count": 58,
     "metadata": {},
     "output_type": "execute_result"
    }
   ],
   "source": [
    "test.head(5)"
   ]
  },
  {
   "cell_type": "markdown",
   "id": "ce923ae7",
   "metadata": {},
   "source": [
    "Linear Regression\t\t\t\t\t\n",
    "\n",
    "\t- variable significance\t\t\tlooking at P-Value\t\n",
    "\t- final mathematical equation\t\t\t\t\n",
    "\t- Important Drivers (positive/negative)\t\t\t\t\n",
    "\t- Check the drivers signs with orignal correlations with Y\t\t\t\t\n",
    "    \n",
    "\tMetrics\t\t\t\t\n",
    "\t\tR-square/Adj Square\t\t\t\n",
    "\t\tMSE/RMSE/MAPE/RMSPE\t\t\t\n",
    "\t\tCorr(Actual, pred)\t\t\t\n",
    "\t\tDecile Analysis (Rank Ordering)\t\t\t\n",
    "        \n",
    "\tChecks\t\t\t\t\n",
    "\t\tErrors should follow normal distribution\t\t\t\n",
    "\t\tCorr(Actual, Errors) ~0\t\t\t\n",
    "\t\tno multicollineirity on final list of variables\t\t\t\n"
   ]
  },
  {
   "cell_type": "code",
   "execution_count": 59,
   "id": "85f1bdbf",
   "metadata": {},
   "outputs": [],
   "source": [
    "import statsmodels.formula.api as smf"
   ]
  },
  {
   "cell_type": "code",
   "execution_count": 60,
   "id": "d9739f37",
   "metadata": {},
   "outputs": [
    {
     "data": {
      "text/plain": [
       "'lnPrice~Brick_Yes+Neighborhood_North+Neighborhood_West'"
      ]
     },
     "execution_count": 60,
     "metadata": {},
     "output_type": "execute_result"
    }
   ],
   "source": [
    "equation = 'lnPrice~'+'+'.join(train.columns.difference(['SqFt','Bathrooms','Bedrooms','lnPrice','Offers']))\n",
    "equation"
   ]
  },
  {
   "cell_type": "code",
   "execution_count": 61,
   "id": "61e4527d",
   "metadata": {},
   "outputs": [
    {
     "data": {
      "text/plain": [
       "'lnPrice~Brick_Yes+Neighborhood_North+Neighborhood_West'"
      ]
     },
     "execution_count": 61,
     "metadata": {},
     "output_type": "execute_result"
    }
   ],
   "source": [
    "equation"
   ]
  },
  {
   "cell_type": "code",
   "execution_count": 62,
   "id": "c5e1da8d",
   "metadata": {},
   "outputs": [],
   "source": [
    "ols_model=smf.ols(formula = equation ,data= train ).fit()"
   ]
  },
  {
   "cell_type": "code",
   "execution_count": 63,
   "id": "5494fdb0",
   "metadata": {},
   "outputs": [
    {
     "name": "stdout",
     "output_type": "stream",
     "text": [
      "                            OLS Regression Results                            \n",
      "==============================================================================\n",
      "Dep. Variable:                lnPrice   R-squared:                       0.628\n",
      "Model:                            OLS   Adj. R-squared:                  0.615\n",
      "Method:                 Least Squares   F-statistic:                     47.85\n",
      "Date:                Wed, 16 Nov 2022   Prob (F-statistic):           3.29e-18\n",
      "Time:                        23:05:50   Log-Likelihood:                 59.728\n",
      "No. Observations:                  89   AIC:                            -111.5\n",
      "Df Residuals:                      85   BIC:                            -101.5\n",
      "Df Model:                           3                                         \n",
      "Covariance Type:            nonrobust                                         \n",
      "======================================================================================\n",
      "                         coef    std err          t      P>|t|      [0.025      0.975]\n",
      "--------------------------------------------------------------------------------------\n",
      "Intercept             11.6561      0.026    450.965      0.000      11.605      11.707\n",
      "Brick_Yes              0.1350      0.032      4.237      0.000       0.072       0.198\n",
      "Neighborhood_North    -0.0808      0.033     -2.452      0.016      -0.146      -0.015\n",
      "Neighborhood_West      0.2644      0.034      7.720      0.000       0.196       0.333\n",
      "==============================================================================\n",
      "Omnibus:                        0.406   Durbin-Watson:                   2.281\n",
      "Prob(Omnibus):                  0.816   Jarque-Bera (JB):                0.182\n",
      "Skew:                           0.107   Prob(JB):                        0.913\n",
      "Kurtosis:                       3.061   Cond. No.                         4.07\n",
      "==============================================================================\n",
      "\n",
      "Notes:\n",
      "[1] Standard Errors assume that the covariance matrix of the errors is correctly specified.\n"
     ]
    }
   ],
   "source": [
    "print(ols_model.summary())"
   ]
  },
  {
   "cell_type": "code",
   "execution_count": 64,
   "id": "25813b4f",
   "metadata": {},
   "outputs": [],
   "source": [
    "train_pred = np.exp(ols_model.predict(train))\n",
    "test_pred = np.exp(ols_model.predict(test))\n",
    "train_act = np.exp(train.lnPrice)\n",
    "test_act = np.exp(test.lnPrice) "
   ]
  },
  {
   "cell_type": "code",
   "execution_count": 65,
   "id": "8ae25628",
   "metadata": {},
   "outputs": [
    {
     "name": "stdout",
     "output_type": "stream",
     "text": [
      "train_MAPE: 0.09763938010714035\n",
      "test_MAPE: 0.09066912028679394\n"
     ]
    }
   ],
   "source": [
    "print('train_MAPE:', np.mean(np.abs(train_act- train_pred)/train_act))\n",
    "print('test_MAPE:', np.mean(np.abs(test_act- test_pred)/test_act))"
   ]
  },
  {
   "cell_type": "code",
   "execution_count": 66,
   "id": "d1e57f0e",
   "metadata": {
    "scrolled": true
   },
   "outputs": [
    {
     "name": "stdout",
     "output_type": "stream",
     "text": [
      "train_RMSE: 15471.550112602603\n",
      "test_RMSE: 14828.459995097304\n"
     ]
    }
   ],
   "source": [
    "print('train_RMSE:', np.sqrt(np.mean((train_act- train_pred)**2)))\n",
    "print('test_RMSE:', np.sqrt(np.mean((test_act- test_pred)**2)))"
   ]
  },
  {
   "cell_type": "code",
   "execution_count": 67,
   "id": "7fe3c44e",
   "metadata": {},
   "outputs": [
    {
     "name": "stdout",
     "output_type": "stream",
     "text": [
      "train_corr: 0.8145849165380358\n",
      "test_corr: 0.8284252255314257\n"
     ]
    }
   ],
   "source": [
    "print('train_corr:', np.corrcoef(train_act, train_pred)[1][0])\n",
    "print('test_corr:', np.corrcoef(test_act, test_pred)[1][0])"
   ]
  },
  {
   "cell_type": "code",
   "execution_count": 68,
   "id": "a5e6e3b4",
   "metadata": {},
   "outputs": [
    {
     "name": "stderr",
     "output_type": "stream",
     "text": [
      "C:\\Users\\putta\\anaconda3\\lib\\site-packages\\seaborn\\distributions.py:2619: FutureWarning: `distplot` is a deprecated function and will be removed in a future version. Please adapt your code to use either `displot` (a figure-level function with similar flexibility) or `histplot` (an axes-level function for histograms).\n",
      "  warnings.warn(msg, FutureWarning)\n"
     ]
    },
    {
     "data": {
      "text/plain": [
       "<AxesSubplot:ylabel='Density'>"
      ]
     },
     "execution_count": 68,
     "metadata": {},
     "output_type": "execute_result"
    },
    {
     "data": {
      "image/png": "[encoded data removed]",
      "text/plain": [
       "<Figure size 432x288 with 1 Axes>"
      ]
     },
     "metadata": {},
     "output_type": "display_data"
    }
   ],
   "source": [
    "sns.distplot(ols_model.resid)"
   ]
  },
  {
   "cell_type": "markdown",
   "id": "015b8485",
   "metadata": {},
   "source": [
    "ln_Interest_Rate =7.5067-0.0071*FICO+0.0505*Inquiries_in_the_Last_6_Months+0.0493*Loan_Purpose_debt_consolidation\n",
    "Interest_Rate = exp(ln_Interest_Rate)"
   ]
  },
  {
   "cell_type": "markdown",
   "id": "df49b556",
   "metadata": {},
   "source": [
    "# Implementation on new customer"
   ]
  },
  {
   "cell_type": "code",
   "execution_count": 69,
   "id": "f65a2598",
   "metadata": {},
   "outputs": [],
   "source": [
    "Brick_Yes = 1\n",
    "Neighborhood_North = 1\n",
    "Neighborhood_West = 0"
   ]
  },
  {
   "cell_type": "code",
   "execution_count": 70,
   "id": "e9ae6b48",
   "metadata": {},
   "outputs": [
    {
     "name": "stdout",
     "output_type": "stream",
     "text": [
      "PRICE for given application: 92994.90633090535\n"
     ]
    }
   ],
   "source": [
    "print('PRICE for given application:',np.exp(11.6561-0.1350*Brick_Yes-0.0808*Neighborhood_North+0.2644*Neighborhood_West))"
   ]
  }
 ],
 "metadata": {
  "kernelspec": {
   "display_name": "Python 3 (ipykernel)",
   "language": "python",
   "name": "python3"
  },
  "language_info": {
   "codemirror_mode": {
    "name": "ipython",
    "version": 3
   },
   "file_extension": ".py",
   "mimetype": "text/x-python",
   "name": "python",
   "nbconvert_exporter": "python",
   "pygments_lexer": "ipython3",
   "version": "3.9.12"
  }
 },
 "nbformat": 4,
 "nbformat_minor": 5
}
